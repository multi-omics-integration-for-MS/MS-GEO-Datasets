{
 "cells": [
  {
   "cell_type": "code",
   "execution_count": 28,
   "metadata": {},
   "outputs": [],
   "source": [
    "import scanpy as sc\n",
    "import pandas as pd\n",
    "import numpy as np\n",
    "import gzip\n",
    "\n",
    "FILE_LIST_PATH = 'filelist.txt'\n",
    "MTX_PATH = 'MTX/'"
   ]
  },
  {
   "cell_type": "code",
   "execution_count": 19,
   "metadata": {},
   "outputs": [
    {
     "data": {
      "text/html": [
       "<div>\n",
       "<style scoped>\n",
       "    .dataframe tbody tr th:only-of-type {\n",
       "        vertical-align: middle;\n",
       "    }\n",
       "\n",
       "    .dataframe tbody tr th {\n",
       "        vertical-align: top;\n",
       "    }\n",
       "\n",
       "    .dataframe thead th {\n",
       "        text-align: right;\n",
       "    }\n",
       "</style>\n",
       "<table border=\"1\" class=\"dataframe\">\n",
       "  <thead>\n",
       "    <tr style=\"text-align: right;\">\n",
       "      <th></th>\n",
       "      <th>#Archive/File</th>\n",
       "      <th>Name</th>\n",
       "      <th>Time</th>\n",
       "      <th>Size</th>\n",
       "      <th>Type</th>\n",
       "    </tr>\n",
       "  </thead>\n",
       "  <tbody>\n",
       "    <tr>\n",
       "      <th>0</th>\n",
       "      <td>Archive</td>\n",
       "      <td>GSE138266_RAW.tar</td>\n",
       "      <td>12/10/2019 09:03:40</td>\n",
       "      <td>264058880</td>\n",
       "      <td>TAR</td>\n",
       "    </tr>\n",
       "    <tr>\n",
       "      <th>1</th>\n",
       "      <td>File</td>\n",
       "      <td>GSM4104122_MS19270_CSF_GRCh38_barcodes.tsv.gz</td>\n",
       "      <td>10/01/2019 13:51:33</td>\n",
       "      <td>17265</td>\n",
       "      <td>TSV</td>\n",
       "    </tr>\n",
       "    <tr>\n",
       "      <th>2</th>\n",
       "      <td>File</td>\n",
       "      <td>GSM4104122_MS19270_CSF_GRCh38_genes.tsv.gz</td>\n",
       "      <td>10/01/2019 13:51:33</td>\n",
       "      <td>264802</td>\n",
       "      <td>TSV</td>\n",
       "    </tr>\n",
       "    <tr>\n",
       "      <th>3</th>\n",
       "      <td>File</td>\n",
       "      <td>GSM4104122_MS19270_CSF_GRCh38_matrix.mtx.gz</td>\n",
       "      <td>10/01/2019 13:51:37</td>\n",
       "      <td>15161857</td>\n",
       "      <td>MTX</td>\n",
       "    </tr>\n",
       "    <tr>\n",
       "      <th>4</th>\n",
       "      <td>File</td>\n",
       "      <td>GSM4104123_MS58637_CSF_GRCh38_barcodes.tsv.gz</td>\n",
       "      <td>10/01/2019 13:51:37</td>\n",
       "      <td>10813</td>\n",
       "      <td>TSV</td>\n",
       "    </tr>\n",
       "  </tbody>\n",
       "</table>\n",
       "</div>"
      ],
      "text/plain": [
       "  #Archive/File                                           Name  \\\n",
       "0       Archive                              GSE138266_RAW.tar   \n",
       "1          File  GSM4104122_MS19270_CSF_GRCh38_barcodes.tsv.gz   \n",
       "2          File     GSM4104122_MS19270_CSF_GRCh38_genes.tsv.gz   \n",
       "3          File    GSM4104122_MS19270_CSF_GRCh38_matrix.mtx.gz   \n",
       "4          File  GSM4104123_MS58637_CSF_GRCh38_barcodes.tsv.gz   \n",
       "\n",
       "                  Time       Size Type  \n",
       "0  12/10/2019 09:03:40  264058880  TAR  \n",
       "1  10/01/2019 13:51:33      17265  TSV  \n",
       "2  10/01/2019 13:51:33     264802  TSV  \n",
       "3  10/01/2019 13:51:37   15161857  MTX  \n",
       "4  10/01/2019 13:51:37      10813  TSV  "
      ]
     },
     "execution_count": 19,
     "metadata": {},
     "output_type": "execute_result"
    }
   ],
   "source": [
    "file_list = pd.read_csv(FILE_LIST_PATH, sep='\\t')\n",
    "file_list.head()"
   ]
  },
  {
   "cell_type": "code",
   "execution_count": 20,
   "metadata": {},
   "outputs": [
    {
     "data": {
      "text/plain": [
       "(1    GSM4104122_MS19270_CSF_GRCh38_barcodes.tsv.gz\n",
       " 4    GSM4104123_MS58637_CSF_GRCh38_barcodes.tsv.gz\n",
       " Name: Name, dtype: object,\n",
       " 2    GSM4104122_MS19270_CSF_GRCh38_genes.tsv.gz\n",
       " 5    GSM4104123_MS58637_CSF_GRCh38_genes.tsv.gz\n",
       " Name: Name, dtype: object,\n",
       " 3    GSM4104122_MS19270_CSF_GRCh38_matrix.mtx.gz\n",
       " 6    GSM4104123_MS58637_CSF_GRCh38_matrix.mtx.gz\n",
       " Name: Name, dtype: object)"
      ]
     },
     "execution_count": 20,
     "metadata": {},
     "output_type": "execute_result"
    }
   ],
   "source": [
    "barcodes_list = file_list[file_list.index % 3 == 1]['Name']\n",
    "genes_list = file_list[file_list.index % 3 == 2]['Name']\n",
    "matrix_list = file_list[file_list.index % 3 == 0]['Name']\n",
    "matrix_list = matrix_list.drop(matrix_list.index[0])\n",
    "\n",
    "barcodes_list[:2], genes_list[:2], matrix_list[:2]"
   ]
  },
  {
   "cell_type": "code",
   "execution_count": 21,
   "metadata": {},
   "outputs": [
    {
     "data": {
      "text/plain": [
       "(22, 22, 22)"
      ]
     },
     "execution_count": 21,
     "metadata": {},
     "output_type": "execute_result"
    }
   ],
   "source": [
    "len(barcodes_list), len(genes_list), len(matrix_list)"
   ]
  },
  {
   "cell_type": "code",
   "execution_count": 79,
   "metadata": {},
   "outputs": [
    {
     "name": "stdout",
     "output_type": "stream",
     "text": [
      "GSM4104122_MS19270_CSF_GRCh38_barcodes.tsv.gz GSM4104122_MS19270_CSF_GRCh38_genes.tsv.gz GSM4104122_MS19270_CSF_GRCh38_matrix.mtx.gz\n",
      "GSM4104123_MS58637_CSF_GRCh38_barcodes.tsv.gz GSM4104123_MS58637_CSF_GRCh38_genes.tsv.gz GSM4104123_MS58637_CSF_GRCh38_matrix.mtx.gz\n"
     ]
    },
    {
     "name": "stderr",
     "output_type": "stream",
     "text": [
      "C:\\Users\\giuli\\AppData\\Local\\Temp\\ipykernel_25984\\3425005489.py:24: FutureWarning: Use anndata.concat instead of AnnData.concatenate, AnnData.concatenate is deprecated and will be removed in the future. See the tutorial for concat at: https://anndata.readthedocs.io/en/latest/concatenation.html\n",
      "  adata = adata.concatenate(adata_prov, join='inner', index_unique=None)\n"
     ]
    },
    {
     "name": "stdout",
     "output_type": "stream",
     "text": [
      "GSM4104124_MS71658_CSF_GRCh38_barcodes.tsv.gz GSM4104124_MS71658_CSF_GRCh38_genes.tsv.gz GSM4104124_MS71658_CSF_GRCh38_matrix.mtx.gz\n"
     ]
    },
    {
     "name": "stderr",
     "output_type": "stream",
     "text": [
      "C:\\Users\\giuli\\AppData\\Local\\Temp\\ipykernel_25984\\3425005489.py:24: FutureWarning: Use anndata.concat instead of AnnData.concatenate, AnnData.concatenate is deprecated and will be removed in the future. See the tutorial for concat at: https://anndata.readthedocs.io/en/latest/concatenation.html\n",
      "  adata = adata.concatenate(adata_prov, join='inner', index_unique=None)\n"
     ]
    },
    {
     "name": "stdout",
     "output_type": "stream",
     "text": [
      "GSM4104125_MS49131_CSF_GRCh38_barcodes.tsv.gz GSM4104125_MS49131_CSF_GRCh38_genes.tsv.gz GSM4104125_MS49131_CSF_GRCh38_matrix.mtx.gz\n"
     ]
    },
    {
     "name": "stderr",
     "output_type": "stream",
     "text": [
      "C:\\Users\\giuli\\AppData\\Local\\Temp\\ipykernel_25984\\3425005489.py:24: FutureWarning: Use anndata.concat instead of AnnData.concatenate, AnnData.concatenate is deprecated and will be removed in the future. See the tutorial for concat at: https://anndata.readthedocs.io/en/latest/concatenation.html\n",
      "  adata = adata.concatenate(adata_prov, join='inner', index_unique=None)\n"
     ]
    },
    {
     "name": "stdout",
     "output_type": "stream",
     "text": [
      "GSM4104126_MS60249_CSF_GRCh38_barcodes.tsv.gz GSM4104126_MS60249_CSF_GRCh38_genes.tsv.gz GSM4104126_MS60249_CSF_GRCh38_matrix.mtx.gz\n"
     ]
    },
    {
     "name": "stderr",
     "output_type": "stream",
     "text": [
      "C:\\Users\\giuli\\AppData\\Local\\Temp\\ipykernel_25984\\3425005489.py:24: FutureWarning: Use anndata.concat instead of AnnData.concatenate, AnnData.concatenate is deprecated and will be removed in the future. See the tutorial for concat at: https://anndata.readthedocs.io/en/latest/concatenation.html\n",
      "  adata = adata.concatenate(adata_prov, join='inner', index_unique=None)\n"
     ]
    },
    {
     "name": "stdout",
     "output_type": "stream",
     "text": [
      "GSM4104127_MS74594_CSF_GRCh38_barcodes.tsv.gz GSM4104127_MS74594_CSF_GRCh38_genes.tsv.gz GSM4104127_MS74594_CSF_GRCh38_matrix.mtx.gz\n"
     ]
    },
    {
     "name": "stderr",
     "output_type": "stream",
     "text": [
      "C:\\Users\\giuli\\AppData\\Local\\Temp\\ipykernel_25984\\3425005489.py:24: FutureWarning: Use anndata.concat instead of AnnData.concatenate, AnnData.concatenate is deprecated and will be removed in the future. See the tutorial for concat at: https://anndata.readthedocs.io/en/latest/concatenation.html\n",
      "  adata = adata.concatenate(adata_prov, join='inner', index_unique=None)\n"
     ]
    },
    {
     "name": "stdout",
     "output_type": "stream",
     "text": [
      "GSM4104128_PST83775_CSF_GRCh38_barcodes.tsv.gz GSM4104128_PST83775_CSF_GRCh38_genes.tsv.gz GSM4104128_PST83775_CSF_GRCh38_matrix.mtx.gz\n"
     ]
    },
    {
     "name": "stderr",
     "output_type": "stream",
     "text": [
      "C:\\Users\\giuli\\AppData\\Local\\Temp\\ipykernel_25984\\3425005489.py:24: FutureWarning: Use anndata.concat instead of AnnData.concatenate, AnnData.concatenate is deprecated and will be removed in the future. See the tutorial for concat at: https://anndata.readthedocs.io/en/latest/concatenation.html\n",
      "  adata = adata.concatenate(adata_prov, join='inner', index_unique=None)\n"
     ]
    },
    {
     "name": "stdout",
     "output_type": "stream",
     "text": [
      "GSM4104129_PTC32190_CSF_GRCh38_barcodes.tsv.gz GSM4104129_PTC32190_CSF_GRCh38_genes.tsv.gz GSM4104129_PTC32190_CSF_GRCh38_matrix.mtx.gz\n"
     ]
    },
    {
     "name": "stderr",
     "output_type": "stream",
     "text": [
      "C:\\Users\\giuli\\AppData\\Local\\Temp\\ipykernel_25984\\3425005489.py:24: FutureWarning: Use anndata.concat instead of AnnData.concatenate, AnnData.concatenate is deprecated and will be removed in the future. See the tutorial for concat at: https://anndata.readthedocs.io/en/latest/concatenation.html\n",
      "  adata = adata.concatenate(adata_prov, join='inner', index_unique=None)\n"
     ]
    },
    {
     "name": "stdout",
     "output_type": "stream",
     "text": [
      "GSM4104130_PST95809_CSF_GRCh38_barcodes.tsv.gz GSM4104130_PST95809_CSF_GRCh38_genes.tsv.gz GSM4104130_PST95809_CSF_GRCh38_matrix.mtx.gz\n"
     ]
    },
    {
     "name": "stderr",
     "output_type": "stream",
     "text": [
      "C:\\Users\\giuli\\AppData\\Local\\Temp\\ipykernel_25984\\3425005489.py:24: FutureWarning: Use anndata.concat instead of AnnData.concatenate, AnnData.concatenate is deprecated and will be removed in the future. See the tutorial for concat at: https://anndata.readthedocs.io/en/latest/concatenation.html\n",
      "  adata = adata.concatenate(adata_prov, join='inner', index_unique=None)\n"
     ]
    },
    {
     "name": "stdout",
     "output_type": "stream",
     "text": [
      "GSM4104131_PTC41540_CSF_GRCh38_barcodes.tsv.gz GSM4104131_PTC41540_CSF_GRCh38_genes.tsv.gz GSM4104131_PTC41540_CSF_GRCh38_matrix.mtx.gz\n"
     ]
    },
    {
     "name": "stderr",
     "output_type": "stream",
     "text": [
      "C:\\Users\\giuli\\AppData\\Local\\Temp\\ipykernel_25984\\3425005489.py:24: FutureWarning: Use anndata.concat instead of AnnData.concatenate, AnnData.concatenate is deprecated and will be removed in the future. See the tutorial for concat at: https://anndata.readthedocs.io/en/latest/concatenation.html\n",
      "  adata = adata.concatenate(adata_prov, join='inner', index_unique=None)\n"
     ]
    },
    {
     "name": "stdout",
     "output_type": "stream",
     "text": [
      "GSM4104132_PST45044_CSF_GRCh38_barcodes.tsv.gz GSM4104132_PST45044_CSF_GRCh38_genes.tsv.gz GSM4104132_PST45044_CSF_GRCh38_matrix.mtx.gz\n"
     ]
    },
    {
     "name": "stderr",
     "output_type": "stream",
     "text": [
      "C:\\Users\\giuli\\AppData\\Local\\Temp\\ipykernel_25984\\3425005489.py:24: FutureWarning: Use anndata.concat instead of AnnData.concatenate, AnnData.concatenate is deprecated and will be removed in the future. See the tutorial for concat at: https://anndata.readthedocs.io/en/latest/concatenation.html\n",
      "  adata = adata.concatenate(adata_prov, join='inner', index_unique=None)\n"
     ]
    },
    {
     "name": "stdout",
     "output_type": "stream",
     "text": [
      "GSM4104133_PTC85037_CSF_GRCh38_barcodes.tsv.gz GSM4104133_PTC85037_CSF_GRCh38_genes.tsv.gz GSM4104133_PTC85037_CSF_GRCh38_matrix.mtx.gz\n"
     ]
    },
    {
     "name": "stderr",
     "output_type": "stream",
     "text": [
      "C:\\Users\\giuli\\AppData\\Local\\Temp\\ipykernel_25984\\3425005489.py:24: FutureWarning: Use anndata.concat instead of AnnData.concatenate, AnnData.concatenate is deprecated and will be removed in the future. See the tutorial for concat at: https://anndata.readthedocs.io/en/latest/concatenation.html\n",
      "  adata = adata.concatenate(adata_prov, join='inner', index_unique=None)\n"
     ]
    },
    {
     "name": "stdout",
     "output_type": "stream",
     "text": [
      "GSM4104134_MS19270_PBMCs_GRCh38_barcodes.tsv.gz GSM4104134_MS19270_PBMCs_GRCh38_genes.tsv.gz GSM4104134_MS19270_PBMCs_GRCh38_matrix.mtx.gz\n"
     ]
    },
    {
     "name": "stderr",
     "output_type": "stream",
     "text": [
      "C:\\Users\\giuli\\AppData\\Local\\Temp\\ipykernel_25984\\3425005489.py:24: FutureWarning: Use anndata.concat instead of AnnData.concatenate, AnnData.concatenate is deprecated and will be removed in the future. See the tutorial for concat at: https://anndata.readthedocs.io/en/latest/concatenation.html\n",
      "  adata = adata.concatenate(adata_prov, join='inner', index_unique=None)\n"
     ]
    },
    {
     "name": "stdout",
     "output_type": "stream",
     "text": [
      "GSM4104135_MS71658_PBMCs_GRCh38_barcodes.tsv.gz GSM4104135_MS71658_PBMCs_GRCh38_genes.tsv.gz GSM4104135_MS71658_PBMCs_GRCh38_matrix.mtx.gz\n"
     ]
    },
    {
     "name": "stderr",
     "output_type": "stream",
     "text": [
      "C:\\Users\\giuli\\AppData\\Local\\Temp\\ipykernel_25984\\3425005489.py:24: FutureWarning: Use anndata.concat instead of AnnData.concatenate, AnnData.concatenate is deprecated and will be removed in the future. See the tutorial for concat at: https://anndata.readthedocs.io/en/latest/concatenation.html\n",
      "  adata = adata.concatenate(adata_prov, join='inner', index_unique=None)\n"
     ]
    },
    {
     "name": "stdout",
     "output_type": "stream",
     "text": [
      "GSM4104136_MS49131_PBMCs_GRCh38_barcodes.tsv.gz GSM4104136_MS49131_PBMCs_GRCh38_genes.tsv.gz GSM4104136_MS49131_PBMCs_GRCh38_matrix.mtx.gz\n"
     ]
    },
    {
     "name": "stderr",
     "output_type": "stream",
     "text": [
      "C:\\Users\\giuli\\AppData\\Local\\Temp\\ipykernel_25984\\3425005489.py:24: FutureWarning: Use anndata.concat instead of AnnData.concatenate, AnnData.concatenate is deprecated and will be removed in the future. See the tutorial for concat at: https://anndata.readthedocs.io/en/latest/concatenation.html\n",
      "  adata = adata.concatenate(adata_prov, join='inner', index_unique=None)\n"
     ]
    },
    {
     "name": "stdout",
     "output_type": "stream",
     "text": [
      "GSM4104137_MS60249_PBMCs_GRCh38_barcodes.tsv.gz GSM4104137_MS60249_PBMCs_GRCh38_genes.tsv.gz GSM4104137_MS60249_PBMCs_GRCh38_matrix.mtx.gz\n"
     ]
    },
    {
     "name": "stderr",
     "output_type": "stream",
     "text": [
      "C:\\Users\\giuli\\AppData\\Local\\Temp\\ipykernel_25984\\3425005489.py:24: FutureWarning: Use anndata.concat instead of AnnData.concatenate, AnnData.concatenate is deprecated and will be removed in the future. See the tutorial for concat at: https://anndata.readthedocs.io/en/latest/concatenation.html\n",
      "  adata = adata.concatenate(adata_prov, join='inner', index_unique=None)\n"
     ]
    },
    {
     "name": "stdout",
     "output_type": "stream",
     "text": [
      "GSM4104138_MS74594_PBMCs_GRCh38_barcodes.tsv.gz GSM4104138_MS74594_PBMCs_GRCh38_genes.tsv.gz GSM4104138_MS74594_PBMCs_GRCh38_matrix.mtx.gz\n"
     ]
    },
    {
     "name": "stderr",
     "output_type": "stream",
     "text": [
      "C:\\Users\\giuli\\AppData\\Local\\Temp\\ipykernel_25984\\3425005489.py:24: FutureWarning: Use anndata.concat instead of AnnData.concatenate, AnnData.concatenate is deprecated and will be removed in the future. See the tutorial for concat at: https://anndata.readthedocs.io/en/latest/concatenation.html\n",
      "  adata = adata.concatenate(adata_prov, join='inner', index_unique=None)\n"
     ]
    },
    {
     "name": "stdout",
     "output_type": "stream",
     "text": [
      "GSM4104139_PST83775_PBMCs_GRCh38_barcodes.tsv.gz GSM4104139_PST83775_PBMCs_GRCh38_genes.tsv.gz GSM4104139_PST83775_PBMCs_GRCh38_matrix.mtx.gz\n"
     ]
    },
    {
     "name": "stderr",
     "output_type": "stream",
     "text": [
      "C:\\Users\\giuli\\AppData\\Local\\Temp\\ipykernel_25984\\3425005489.py:24: FutureWarning: Use anndata.concat instead of AnnData.concatenate, AnnData.concatenate is deprecated and will be removed in the future. See the tutorial for concat at: https://anndata.readthedocs.io/en/latest/concatenation.html\n",
      "  adata = adata.concatenate(adata_prov, join='inner', index_unique=None)\n"
     ]
    },
    {
     "name": "stdout",
     "output_type": "stream",
     "text": [
      "GSM4104140_PTC32190_PBMCs_GRCh38_barcodes.tsv.gz GSM4104140_PTC32190_PBMCs_GRCh38_genes.tsv.gz GSM4104140_PTC32190_PBMCs_GRCh38_matrix.mtx.gz\n"
     ]
    },
    {
     "name": "stderr",
     "output_type": "stream",
     "text": [
      "C:\\Users\\giuli\\AppData\\Local\\Temp\\ipykernel_25984\\3425005489.py:24: FutureWarning: Use anndata.concat instead of AnnData.concatenate, AnnData.concatenate is deprecated and will be removed in the future. See the tutorial for concat at: https://anndata.readthedocs.io/en/latest/concatenation.html\n",
      "  adata = adata.concatenate(adata_prov, join='inner', index_unique=None)\n"
     ]
    },
    {
     "name": "stdout",
     "output_type": "stream",
     "text": [
      "GSM4104141_PST95809_PBMCs_GRCh38_barcodes.tsv.gz GSM4104141_PST95809_PBMCs_GRCh38_genes.tsv.gz GSM4104141_PST95809_PBMCs_GRCh38_matrix.mtx.gz\n"
     ]
    },
    {
     "name": "stderr",
     "output_type": "stream",
     "text": [
      "C:\\Users\\giuli\\AppData\\Local\\Temp\\ipykernel_25984\\3425005489.py:24: FutureWarning: Use anndata.concat instead of AnnData.concatenate, AnnData.concatenate is deprecated and will be removed in the future. See the tutorial for concat at: https://anndata.readthedocs.io/en/latest/concatenation.html\n",
      "  adata = adata.concatenate(adata_prov, join='inner', index_unique=None)\n"
     ]
    },
    {
     "name": "stdout",
     "output_type": "stream",
     "text": [
      "GSM4104142_PTC41540_PBMCs_GRCh38_barcodes.tsv.gz GSM4104142_PTC41540_PBMCs_GRCh38_genes.tsv.gz GSM4104142_PTC41540_PBMCs_GRCh38_matrix.mtx.gz\n"
     ]
    },
    {
     "name": "stderr",
     "output_type": "stream",
     "text": [
      "C:\\Users\\giuli\\AppData\\Local\\Temp\\ipykernel_25984\\3425005489.py:24: FutureWarning: Use anndata.concat instead of AnnData.concatenate, AnnData.concatenate is deprecated and will be removed in the future. See the tutorial for concat at: https://anndata.readthedocs.io/en/latest/concatenation.html\n",
      "  adata = adata.concatenate(adata_prov, join='inner', index_unique=None)\n"
     ]
    },
    {
     "name": "stdout",
     "output_type": "stream",
     "text": [
      "GSM4104143_PTC85037_PBMCs_GRCh38_barcodes.tsv.gz GSM4104143_PTC85037_PBMCs_GRCh38_genes.tsv.gz GSM4104143_PTC85037_PBMCs_GRCh38_matrix.mtx.gz\n"
     ]
    },
    {
     "name": "stderr",
     "output_type": "stream",
     "text": [
      "C:\\Users\\giuli\\AppData\\Local\\Temp\\ipykernel_25984\\3425005489.py:24: FutureWarning: Use anndata.concat instead of AnnData.concatenate, AnnData.concatenate is deprecated and will be removed in the future. See the tutorial for concat at: https://anndata.readthedocs.io/en/latest/concatenation.html\n",
      "  adata = adata.concatenate(adata_prov, join='inner', index_unique=None)\n"
     ]
    }
   ],
   "source": [
    "control = True\n",
    "\n",
    "for barcode, gene, matrix in zip(barcodes_list, genes_list, matrix_list):\n",
    "    print(barcode, gene, matrix)\n",
    "    \n",
    "    adata_prov = sc.read_mtx(MTX_PATH+matrix).T\n",
    "\n",
    "    genes_df = pd.read_csv(MTX_PATH+gene, sep='\\t', header=None, names=['gene_symbols', 'gene_ids'])\n",
    "    adata_prov.var['gene_symbols'] = genes_df['gene_symbols'].values\n",
    "    adata_prov.var['gene_ids'] = genes_df['gene_ids'].values\n",
    "    \n",
    "    adata_prov.obs.index = pd.read_csv(MTX_PATH+barcode, header=None)[0].values\n",
    "\n",
    "    patient = barcode.split('_')[0]\n",
    "    if 'PBMC' in matrix:\n",
    "        adata_prov.obs.index = adata_prov.obs.index + '-' + patient + '-PBMC'\n",
    "    else:\n",
    "        adata_prov.obs.index = adata_prov.obs.index + '-' + patient + '-CSF'\n",
    "\n",
    "    if control:\n",
    "        adata = adata_prov\n",
    "        control = False\n",
    "    else:\n",
    "        adata = adata.concatenate(adata_prov, join='inner', index_unique=None)"
   ]
  },
  {
   "cell_type": "code",
   "execution_count": 80,
   "metadata": {},
   "outputs": [
    {
     "data": {
      "text/plain": [
       "AnnData object with n_obs × n_vars = 814177 × 33694\n",
       "    obs: 'batch'\n",
       "    var: 'gene_symbols', 'gene_ids'"
      ]
     },
     "execution_count": 80,
     "metadata": {},
     "output_type": "execute_result"
    }
   ],
   "source": [
    "adata"
   ]
  },
  {
   "cell_type": "code",
   "execution_count": 83,
   "metadata": {},
   "outputs": [],
   "source": [
    "adata.write('GSE138266.h5ad')"
   ]
  }
 ],
 "metadata": {
  "kernelspec": {
   "display_name": "base",
   "language": "python",
   "name": "python3"
  },
  "language_info": {
   "codemirror_mode": {
    "name": "ipython",
    "version": 3
   },
   "file_extension": ".py",
   "mimetype": "text/x-python",
   "name": "python",
   "nbconvert_exporter": "python",
   "pygments_lexer": "ipython3",
   "version": "3.10.9"
  }
 },
 "nbformat": 4,
 "nbformat_minor": 2
}
