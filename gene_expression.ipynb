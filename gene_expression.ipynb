{
 "cells": [
  {
   "cell_type": "code",
   "execution_count": 1,
   "metadata": {},
   "outputs": [],
   "source": [
    "from GSE239626.load_GSE239626 import load_GSE239626\n",
    "\n",
    "genomic_matrix_df, gene_expression_df, antibody_capture_df, family_phenotype_df = load_GSE239626()"
   ]
  },
  {
   "cell_type": "code",
   "execution_count": 2,
   "metadata": {},
   "outputs": [
    {
     "data": {
      "text/plain": [
       "Index(['ID', 'symbol', 'expression', 'AAACCCAAGACTGTTC-1',\n",
       "       'AAACCCAAGGATCATA-1', 'AAACCCAGTTATTCTC-1', 'AAACCCATCATGAGGG-1',\n",
       "       'AAACGAAAGCCAGTAG-1', 'AAACGAAAGCTGACAG-1', 'AAACGAAAGTAATACG-1',\n",
       "       ...\n",
       "       'TTTGGTTAGCTTTCCC-20', 'TTTGGTTGTTTCGACA-20', 'TTTGGTTTCAGACCCG-20',\n",
       "       'TTTGGTTTCTCATAGG-20', 'TTTGGTTTCTGTAACG-20', 'TTTGTTGAGCGTCGAA-20',\n",
       "       'TTTGTTGAGTGTACCT-20', 'TTTGTTGCAATTGCAC-20', 'TTTGTTGCATTCAGCA-20',\n",
       "       'TTTGTTGGTGGGTTGA-20'],\n",
       "      dtype='object', length=72320)"
      ]
     },
     "execution_count": 2,
     "metadata": {},
     "output_type": "execute_result"
    }
   ],
   "source": [
    "gene_expression_df.columns # single cell"
   ]
  },
  {
   "cell_type": "code",
   "execution_count": 3,
   "metadata": {},
   "outputs": [
    {
     "data": {
      "text/plain": [
       "(36601, 72320)"
      ]
     },
     "execution_count": 3,
     "metadata": {},
     "output_type": "execute_result"
    }
   ],
   "source": [
    "gene_expression_df.shape"
   ]
  },
  {
   "cell_type": "code",
   "execution_count": 4,
   "metadata": {},
   "outputs": [
    {
     "name": "stdout",
     "output_type": "stream",
     "text": [
      "Number of columns that end with 0: 7002\n",
      "Number of columns that end with 1: 8436\n",
      "Number of columns that end with 2: 8727\n",
      "Number of columns that end with 3: 5539\n",
      "Number of columns that end with 4: 6858\n",
      "Number of columns that end with 5: 6122\n",
      "Number of columns that end with 6: 7830\n",
      "Number of columns that end with 7: 6588\n",
      "Number of columns that end with 8: 6786\n",
      "Number of columns that end with 9: 8429\n",
      "Number of columns that end with 10: 3160\n",
      "Number of columns that end with 11: 2945\n",
      "Number of columns that end with 12: 2709\n",
      "Number of columns that end with 13: 2956\n",
      "Number of columns that end with 14: 3715\n",
      "Number of columns that end with 15: 2543\n",
      "Number of columns that end with 16: 3946\n",
      "Number of columns that end with 17: 2779\n",
      "Number of columns that end with 18: 3964\n",
      "Number of columns that end with 19: 3423\n",
      "Number of columns that end with 20: 3842\n"
     ]
    }
   ],
   "source": [
    "columns = gene_expression_df.columns\n",
    "\n",
    "for i in range(21): # single cell id\n",
    "    count = 0\n",
    "    count = sum(column.endswith(str(i)) for column in columns)\n",
    "    print('Number of columns that end with ' + str(i) + ': ' + str(count))"
   ]
  },
  {
   "cell_type": "code",
   "execution_count": 5,
   "metadata": {},
   "outputs": [],
   "source": [
    "for i in range(20, -1, -1):\n",
    "    suffix = '-' + str(i)\n",
    "    columns = [col.replace(suffix, '') for col in columns]"
   ]
  },
  {
   "cell_type": "code",
   "execution_count": 6,
   "metadata": {},
   "outputs": [
    {
     "data": {
      "text/plain": [
       "0"
      ]
     },
     "execution_count": 6,
     "metadata": {},
     "output_type": "execute_result"
    }
   ],
   "source": [
    "duplicates = gene_expression_df.columns.duplicated()\n",
    "duplicates.sum()"
   ]
  },
  {
   "cell_type": "markdown",
   "metadata": {},
   "source": [
    "subpopulations from MS patients treated with high-dose vitamin D (n=5) or placebo (n=5)\n",
    "\n",
    "for each pantient, we have:\n",
    "- GEX (gene expression from polyA RNA) at time J0 (day 0) and M3 (month 3 from start of treatment)\n",
    "- ADT (from protein) at time J0 and M3"
   ]
  },
  {
   "cell_type": "code",
   "execution_count": 10,
   "metadata": {},
   "outputs": [
    {
     "data": {
      "text/html": [
       "<div>\n",
       "<style scoped>\n",
       "    .dataframe tbody tr th:only-of-type {\n",
       "        vertical-align: middle;\n",
       "    }\n",
       "\n",
       "    .dataframe tbody tr th {\n",
       "        vertical-align: top;\n",
       "    }\n",
       "\n",
       "    .dataframe thead th {\n",
       "        text-align: right;\n",
       "    }\n",
       "</style>\n",
       "<table border=\"1\" class=\"dataframe\">\n",
       "  <thead>\n",
       "    <tr style=\"text-align: right;\">\n",
       "      <th></th>\n",
       "      <th>title</th>\n",
       "      <th>geo_accession</th>\n",
       "      <th>status</th>\n",
       "      <th>submission_date</th>\n",
       "      <th>last_update_date</th>\n",
       "      <th>type</th>\n",
       "      <th>channel_count</th>\n",
       "      <th>source_name_ch1</th>\n",
       "      <th>organism_ch1</th>\n",
       "      <th>taxid_ch1</th>\n",
       "      <th>characteristics_ch1.0.tissue</th>\n",
       "      <th>characteristics_ch1.1.cell line</th>\n",
       "      <th>characteristics_ch1.2.cell type</th>\n",
       "      <th>characteristics_ch1.3.treatment</th>\n",
       "      <th>characteristics_ch1.4.time</th>\n",
       "      <th>characteristics_ch1.5.library type</th>\n",
       "      <th>molecule_ch1</th>\n",
       "      <th>extract_protocol_ch1</th>\n",
       "      <th>description</th>\n",
       "      <th>data_processing</th>\n",
       "      <th>platform_id</th>\n",
       "      <th>contact_name</th>\n",
       "      <th>contact_institute</th>\n",
       "      <th>contact_address</th>\n",
       "      <th>contact_city</th>\n",
       "      <th>contact_zip/postal_code</th>\n",
       "      <th>contact_country</th>\n",
       "      <th>instrument_model</th>\n",
       "      <th>library_selection</th>\n",
       "      <th>library_source</th>\n",
       "      <th>library_strategy</th>\n",
       "      <th>relation</th>\n",
       "      <th>supplementary_file_1</th>\n",
       "      <th>series_id</th>\n",
       "      <th>data_row_count</th>\n",
       "    </tr>\n",
       "  </thead>\n",
       "  <tbody>\n",
       "    <tr>\n",
       "      <th>GSM7669046</th>\n",
       "      <td>Patient Placebo N1 J0, GEX</td>\n",
       "      <td>GSM7669046</td>\n",
       "      <td>Public on Oct 05 2023</td>\n",
       "      <td>Jul 31 2023</td>\n",
       "      <td>Oct 05 2023</td>\n",
       "      <td>SRA</td>\n",
       "      <td>1</td>\n",
       "      <td>Blood</td>\n",
       "      <td>Homo sapiens</td>\n",
       "      <td>9606</td>\n",
       "      <td>Blood</td>\n",
       "      <td>Lymphocytes</td>\n",
       "      <td>PBMC</td>\n",
       "      <td>Placebo</td>\n",
       "      <td>J0</td>\n",
       "      <td>mRNA</td>\n",
       "      <td>polyA RNA</td>\n",
       "      <td>Live lymphocytes from 5 vitamin D-treated MS p...</td>\n",
       "      <td>GEX (3'mRNA) library : read1 contains cell bar...</td>\n",
       "      <td>The demultiplexing, barcoded processing, gene ...</td>\n",
       "      <td>GPL24676</td>\n",
       "      <td>Eric,,Thouvenot</td>\n",
       "      <td>IGF</td>\n",
       "      <td>141 rue de la Cardonille</td>\n",
       "      <td>Montpellier</td>\n",
       "      <td>34094</td>\n",
       "      <td>France</td>\n",
       "      <td>Illumina NovaSeq 6000</td>\n",
       "      <td>cDNA</td>\n",
       "      <td>transcriptomic single cell</td>\n",
       "      <td>RNA-Seq</td>\n",
       "      <td>BioSample: https://www.ncbi.nlm.nih.gov/biosam...</td>\n",
       "      <td>NONE</td>\n",
       "      <td>GSE239626</td>\n",
       "      <td>0</td>\n",
       "    </tr>\n",
       "    <tr>\n",
       "      <th>GSM7669047</th>\n",
       "      <td>Patient Placebo N1 J0, ADT</td>\n",
       "      <td>GSM7669047</td>\n",
       "      <td>Public on Oct 05 2023</td>\n",
       "      <td>Jul 31 2023</td>\n",
       "      <td>Oct 05 2023</td>\n",
       "      <td>SRA</td>\n",
       "      <td>1</td>\n",
       "      <td>Blood</td>\n",
       "      <td>Homo sapiens</td>\n",
       "      <td>9606</td>\n",
       "      <td>Blood</td>\n",
       "      <td>Lymphocytes</td>\n",
       "      <td>PBMC</td>\n",
       "      <td>Placebo</td>\n",
       "      <td>J0</td>\n",
       "      <td>ADT</td>\n",
       "      <td>protein</td>\n",
       "      <td>Live lymphocytes from 5 vitamin D-treated MS p...</td>\n",
       "      <td>ADT: read1 contains cell barcode and UMI; read...</td>\n",
       "      <td>The demultiplexing, barcoded processing, gene ...</td>\n",
       "      <td>GPL24676</td>\n",
       "      <td>Eric,,Thouvenot</td>\n",
       "      <td>IGF</td>\n",
       "      <td>141 rue de la Cardonille</td>\n",
       "      <td>Montpellier</td>\n",
       "      <td>34094</td>\n",
       "      <td>France</td>\n",
       "      <td>Illumina NovaSeq 6000</td>\n",
       "      <td>cDNA</td>\n",
       "      <td>other</td>\n",
       "      <td>RNA-Seq</td>\n",
       "      <td>BioSample: https://www.ncbi.nlm.nih.gov/biosam...</td>\n",
       "      <td>NONE</td>\n",
       "      <td>GSE239626</td>\n",
       "      <td>0</td>\n",
       "    </tr>\n",
       "  </tbody>\n",
       "</table>\n",
       "</div>"
      ],
      "text/plain": [
       "                                 title geo_accession  ...  series_id data_row_count\n",
       "GSM7669046  Patient Placebo N1 J0, GEX    GSM7669046  ...  GSE239626              0\n",
       "GSM7669047  Patient Placebo N1 J0, ADT    GSM7669047  ...  GSE239626              0\n",
       "\n",
       "[2 rows x 35 columns]"
      ]
     },
     "execution_count": 10,
     "metadata": {},
     "output_type": "execute_result"
    }
   ],
   "source": [
    "family_phenotype_df.head(2)"
   ]
  },
  {
   "cell_type": "code",
   "execution_count": 7,
   "metadata": {},
   "outputs": [
    {
     "data": {
      "text/plain": [
       "Index(['title', 'geo_accession', 'status', 'submission_date',\n",
       "       'last_update_date', 'type', 'channel_count', 'source_name_ch1',\n",
       "       'organism_ch1', 'taxid_ch1', 'characteristics_ch1.0.tissue',\n",
       "       'characteristics_ch1.1.cell line', 'characteristics_ch1.2.cell type',\n",
       "       'characteristics_ch1.3.treatment', 'characteristics_ch1.4.time',\n",
       "       'characteristics_ch1.5.library type', 'molecule_ch1',\n",
       "       'extract_protocol_ch1', 'description', 'data_processing', 'platform_id',\n",
       "       'contact_name', 'contact_institute', 'contact_address', 'contact_city',\n",
       "       'contact_zip/postal_code', 'contact_country', 'instrument_model',\n",
       "       'library_selection', 'library_source', 'library_strategy', 'relation',\n",
       "       'supplementary_file_1', 'series_id', 'data_row_count'],\n",
       "      dtype='object')"
      ]
     },
     "execution_count": 7,
     "metadata": {},
     "output_type": "execute_result"
    }
   ],
   "source": [
    "family_phenotype_df.columns"
   ]
  },
  {
   "cell_type": "code",
   "execution_count": 8,
   "metadata": {},
   "outputs": [
    {
     "data": {
      "text/html": [
       "<div>\n",
       "<style scoped>\n",
       "    .dataframe tbody tr th:only-of-type {\n",
       "        vertical-align: middle;\n",
       "    }\n",
       "\n",
       "    .dataframe tbody tr th {\n",
       "        vertical-align: top;\n",
       "    }\n",
       "\n",
       "    .dataframe thead th {\n",
       "        text-align: right;\n",
       "    }\n",
       "</style>\n",
       "<table border=\"1\" class=\"dataframe\">\n",
       "  <thead>\n",
       "    <tr style=\"text-align: right;\">\n",
       "      <th></th>\n",
       "      <th>type</th>\n",
       "      <th>channel_count</th>\n",
       "      <th>source_name_ch1</th>\n",
       "      <th>organism_ch1</th>\n",
       "      <th>taxid_ch1</th>\n",
       "      <th>characteristics_ch1.0.tissue</th>\n",
       "      <th>characteristics_ch1.1.cell line</th>\n",
       "      <th>characteristics_ch1.2.cell type</th>\n",
       "      <th>characteristics_ch1.3.treatment</th>\n",
       "      <th>characteristics_ch1.4.time</th>\n",
       "      <th>characteristics_ch1.5.library type</th>\n",
       "      <th>molecule_ch1</th>\n",
       "      <th>extract_protocol_ch1</th>\n",
       "      <th>description</th>\n",
       "      <th>data_processing</th>\n",
       "      <th>platform_id</th>\n",
       "    </tr>\n",
       "  </thead>\n",
       "  <tbody>\n",
       "    <tr>\n",
       "      <th>count</th>\n",
       "      <td>40</td>\n",
       "      <td>40</td>\n",
       "      <td>40</td>\n",
       "      <td>40</td>\n",
       "      <td>40</td>\n",
       "      <td>40</td>\n",
       "      <td>40</td>\n",
       "      <td>40</td>\n",
       "      <td>40</td>\n",
       "      <td>40</td>\n",
       "      <td>40</td>\n",
       "      <td>40</td>\n",
       "      <td>40</td>\n",
       "      <td>40</td>\n",
       "      <td>40</td>\n",
       "      <td>40</td>\n",
       "    </tr>\n",
       "    <tr>\n",
       "      <th>unique</th>\n",
       "      <td>1</td>\n",
       "      <td>1</td>\n",
       "      <td>1</td>\n",
       "      <td>1</td>\n",
       "      <td>1</td>\n",
       "      <td>1</td>\n",
       "      <td>1</td>\n",
       "      <td>1</td>\n",
       "      <td>2</td>\n",
       "      <td>2</td>\n",
       "      <td>2</td>\n",
       "      <td>2</td>\n",
       "      <td>1</td>\n",
       "      <td>40</td>\n",
       "      <td>1</td>\n",
       "      <td>1</td>\n",
       "    </tr>\n",
       "    <tr>\n",
       "      <th>top</th>\n",
       "      <td>SRA</td>\n",
       "      <td>1</td>\n",
       "      <td>Blood</td>\n",
       "      <td>Homo sapiens</td>\n",
       "      <td>9606</td>\n",
       "      <td>Blood</td>\n",
       "      <td>Lymphocytes</td>\n",
       "      <td>PBMC</td>\n",
       "      <td>Placebo</td>\n",
       "      <td>J0</td>\n",
       "      <td>mRNA</td>\n",
       "      <td>polyA RNA</td>\n",
       "      <td>Live lymphocytes from 5 vitamin D-treated MS p...</td>\n",
       "      <td>GEX (3'mRNA) library : read1 contains cell bar...</td>\n",
       "      <td>The demultiplexing, barcoded processing, gene ...</td>\n",
       "      <td>GPL24676</td>\n",
       "    </tr>\n",
       "    <tr>\n",
       "      <th>freq</th>\n",
       "      <td>40</td>\n",
       "      <td>40</td>\n",
       "      <td>40</td>\n",
       "      <td>40</td>\n",
       "      <td>40</td>\n",
       "      <td>40</td>\n",
       "      <td>40</td>\n",
       "      <td>40</td>\n",
       "      <td>20</td>\n",
       "      <td>20</td>\n",
       "      <td>20</td>\n",
       "      <td>20</td>\n",
       "      <td>40</td>\n",
       "      <td>1</td>\n",
       "      <td>40</td>\n",
       "      <td>40</td>\n",
       "    </tr>\n",
       "  </tbody>\n",
       "</table>\n",
       "</div>"
      ],
      "text/plain": [
       "       type  ... platform_id\n",
       "count    40  ...          40\n",
       "unique    1  ...           1\n",
       "top     SRA  ...    GPL24676\n",
       "freq     40  ...          40\n",
       "\n",
       "[4 rows x 16 columns]"
      ]
     },
     "execution_count": 8,
     "metadata": {},
     "output_type": "execute_result"
    }
   ],
   "source": [
    "family_phenotype_df[['type', 'channel_count', 'source_name_ch1',\n",
    "    'organism_ch1', 'taxid_ch1', 'characteristics_ch1.0.tissue',\n",
    "    'characteristics_ch1.1.cell line', 'characteristics_ch1.2.cell type',\n",
    "    'characteristics_ch1.3.treatment', 'characteristics_ch1.4.time',\n",
    "    'characteristics_ch1.5.library type', 'molecule_ch1',\n",
    "    'extract_protocol_ch1', 'description', 'data_processing', 'platform_id']].describe()"
   ]
  },
  {
   "cell_type": "code",
   "execution_count": 9,
   "metadata": {},
   "outputs": [
    {
     "name": "stderr",
     "output_type": "stream",
     "text": [
      "C:\\Users\\giuli\\AppData\\Local\\Temp\\ipykernel_2616\\76071900.py:1: FutureWarning: Series.__getitem__ treating keys as positions is deprecated. In a future version, integer keys will always be treated as labels (consistent with DataFrame behavior). To access a value by position, use `ser.iloc[pos]`\n",
      "  family_phenotype_df['description'][0], family_phenotype_df['description'][1]\n"
     ]
    },
    {
     "data": {
      "text/plain": [
       "('GEX (3\\'mRNA) library : read1 contains cell barcode and UMI; read2 file contains transcript,suffix \"-1\" in barcodes.tsv.gz',\n",
       " 'ADT: read1 contains cell barcode and UMI; read2 file contains Antibody Derived Tag reads,suffix \"-1\" in barcodes.tsv.gz')"
      ]
     },
     "execution_count": 9,
     "metadata": {},
     "output_type": "execute_result"
    }
   ],
   "source": [
    "family_phenotype_df['description'][0], family_phenotype_df['description'][1]"
   ]
  },
  {
   "cell_type": "code",
   "execution_count": 11,
   "metadata": {},
   "outputs": [
    {
     "data": {
      "text/html": [
       "<div>\n",
       "<style scoped>\n",
       "    .dataframe tbody tr th:only-of-type {\n",
       "        vertical-align: middle;\n",
       "    }\n",
       "\n",
       "    .dataframe tbody tr th {\n",
       "        vertical-align: top;\n",
       "    }\n",
       "\n",
       "    .dataframe thead th {\n",
       "        text-align: right;\n",
       "    }\n",
       "</style>\n",
       "<table border=\"1\" class=\"dataframe\">\n",
       "  <thead>\n",
       "    <tr style=\"text-align: right;\">\n",
       "      <th></th>\n",
       "      <th>title</th>\n",
       "      <th>geo_accession</th>\n",
       "      <th>data_row_count</th>\n",
       "    </tr>\n",
       "  </thead>\n",
       "  <tbody>\n",
       "    <tr>\n",
       "      <th>count</th>\n",
       "      <td>40</td>\n",
       "      <td>40</td>\n",
       "      <td>40</td>\n",
       "    </tr>\n",
       "    <tr>\n",
       "      <th>unique</th>\n",
       "      <td>40</td>\n",
       "      <td>40</td>\n",
       "      <td>1</td>\n",
       "    </tr>\n",
       "    <tr>\n",
       "      <th>top</th>\n",
       "      <td>Patient Placebo N1 J0, GEX</td>\n",
       "      <td>GSM7669046</td>\n",
       "      <td>0</td>\n",
       "    </tr>\n",
       "    <tr>\n",
       "      <th>freq</th>\n",
       "      <td>1</td>\n",
       "      <td>1</td>\n",
       "      <td>40</td>\n",
       "    </tr>\n",
       "  </tbody>\n",
       "</table>\n",
       "</div>"
      ],
      "text/plain": [
       "                             title geo_accession data_row_count\n",
       "count                           40            40             40\n",
       "unique                          40            40              1\n",
       "top     Patient Placebo N1 J0, GEX    GSM7669046              0\n",
       "freq                             1             1             40"
      ]
     },
     "execution_count": 11,
     "metadata": {},
     "output_type": "execute_result"
    }
   ],
   "source": [
    "family_phenotype_df[['title', 'geo_accession', 'data_row_count']].describe()"
   ]
  }
 ],
 "metadata": {
  "kernelspec": {
   "display_name": "base",
   "language": "python",
   "name": "python3"
  },
  "language_info": {
   "codemirror_mode": {
    "name": "ipython",
    "version": 3
   },
   "file_extension": ".py",
   "mimetype": "text/x-python",
   "name": "python",
   "nbconvert_exporter": "python",
   "pygments_lexer": "ipython3",
   "version": "3.10.9"
  }
 },
 "nbformat": 4,
 "nbformat_minor": 2
}
