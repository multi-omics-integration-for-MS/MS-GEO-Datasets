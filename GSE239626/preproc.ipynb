{
 "cells": [
  {
   "cell_type": "code",
   "execution_count": 1,
   "metadata": {},
   "outputs": [
    {
     "name": "stderr",
     "output_type": "stream",
     "text": [
      "c:\\Users\\giuli\\anaconda3\\lib\\site-packages\\pandas\\core\\arrays\\masked.py:60: UserWarning: Pandas requires version '1.3.6' or newer of 'bottleneck' (version '1.3.5' currently installed).\n",
      "  from pandas.core import (\n"
     ]
    }
   ],
   "source": [
    "import GEOparse\n",
    "import numpy as np"
   ]
  },
  {
   "cell_type": "markdown",
   "metadata": {},
   "source": [
    "### SOFT Data"
   ]
  },
  {
   "cell_type": "code",
   "execution_count": 2,
   "metadata": {},
   "outputs": [],
   "source": [
    "DATA_PATH = 'GSE239626/GSE239626_family.soft/GSE239626_family.soft'"
   ]
  },
  {
   "cell_type": "code",
   "execution_count": 3,
   "metadata": {},
   "outputs": [
    {
     "name": "stderr",
     "output_type": "stream",
     "text": [
      "10-Apr-2024 15:49:31 INFO GEOparse - Parsing GSE239626/GSE239626_family.soft/GSE239626_family.soft: \n",
      "10-Apr-2024 15:49:31 DEBUG GEOparse - DATABASE: GeoMiame\n",
      "10-Apr-2024 15:49:31 DEBUG GEOparse - SERIES: GSE239626\n",
      "10-Apr-2024 15:49:31 DEBUG GEOparse - PLATFORM: GPL24676\n",
      "10-Apr-2024 15:49:31 DEBUG GEOparse - SAMPLE: GSM7669046\n",
      "10-Apr-2024 15:49:31 DEBUG GEOparse - SAMPLE: GSM7669047\n",
      "10-Apr-2024 15:49:31 DEBUG GEOparse - SAMPLE: GSM7669048\n",
      "10-Apr-2024 15:49:31 DEBUG GEOparse - SAMPLE: GSM7669049\n",
      "10-Apr-2024 15:49:31 DEBUG GEOparse - SAMPLE: GSM7669050\n",
      "10-Apr-2024 15:49:31 DEBUG GEOparse - SAMPLE: GSM7669051\n",
      "10-Apr-2024 15:49:31 DEBUG GEOparse - SAMPLE: GSM7669052\n",
      "10-Apr-2024 15:49:31 DEBUG GEOparse - SAMPLE: GSM7669053\n",
      "10-Apr-2024 15:49:31 DEBUG GEOparse - SAMPLE: GSM7669054\n",
      "10-Apr-2024 15:49:31 DEBUG GEOparse - SAMPLE: GSM7669055\n",
      "10-Apr-2024 15:49:31 DEBUG GEOparse - SAMPLE: GSM7669056\n",
      "10-Apr-2024 15:49:31 DEBUG GEOparse - SAMPLE: GSM7669057\n"
     ]
    },
    {
     "name": "stderr",
     "output_type": "stream",
     "text": [
      "10-Apr-2024 15:49:31 DEBUG GEOparse - SAMPLE: GSM7669058\n",
      "10-Apr-2024 15:49:31 DEBUG GEOparse - SAMPLE: GSM7669059\n",
      "10-Apr-2024 15:49:31 DEBUG GEOparse - SAMPLE: GSM7669060\n",
      "10-Apr-2024 15:49:31 DEBUG GEOparse - SAMPLE: GSM7669061\n",
      "10-Apr-2024 15:49:31 DEBUG GEOparse - SAMPLE: GSM7669062\n",
      "10-Apr-2024 15:49:31 DEBUG GEOparse - SAMPLE: GSM7669063\n",
      "10-Apr-2024 15:49:31 DEBUG GEOparse - SAMPLE: GSM7669064\n",
      "10-Apr-2024 15:49:31 DEBUG GEOparse - SAMPLE: GSM7669065\n",
      "10-Apr-2024 15:49:31 DEBUG GEOparse - SAMPLE: GSM7669066\n",
      "10-Apr-2024 15:49:31 DEBUG GEOparse - SAMPLE: GSM7669067\n",
      "10-Apr-2024 15:49:31 DEBUG GEOparse - SAMPLE: GSM7669068\n",
      "10-Apr-2024 15:49:31 DEBUG GEOparse - SAMPLE: GSM7669069\n",
      "10-Apr-2024 15:49:31 DEBUG GEOparse - SAMPLE: GSM7669070\n",
      "10-Apr-2024 15:49:31 DEBUG GEOparse - SAMPLE: GSM7669071\n",
      "10-Apr-2024 15:49:31 DEBUG GEOparse - SAMPLE: GSM7669072\n",
      "10-Apr-2024 15:49:31 DEBUG GEOparse - SAMPLE: GSM7669073\n",
      "10-Apr-2024 15:49:31 DEBUG GEOparse - SAMPLE: GSM7669074\n",
      "10-Apr-2024 15:49:31 DEBUG GEOparse - SAMPLE: GSM7669075\n",
      "10-Apr-2024 15:49:31 DEBUG GEOparse - SAMPLE: GSM7669076\n",
      "10-Apr-2024 15:49:31 DEBUG GEOparse - SAMPLE: GSM7669077\n",
      "10-Apr-2024 15:49:31 DEBUG GEOparse - SAMPLE: GSM7669078\n",
      "10-Apr-2024 15:49:31 DEBUG GEOparse - SAMPLE: GSM7669079\n",
      "10-Apr-2024 15:49:31 DEBUG GEOparse - SAMPLE: GSM7669080\n",
      "10-Apr-2024 15:49:31 DEBUG GEOparse - SAMPLE: GSM7669081\n",
      "10-Apr-2024 15:49:31 DEBUG GEOparse - SAMPLE: GSM7669082\n",
      "10-Apr-2024 15:49:31 DEBUG GEOparse - SAMPLE: GSM7669083\n",
      "10-Apr-2024 15:49:31 DEBUG GEOparse - SAMPLE: GSM7669084\n",
      "10-Apr-2024 15:49:31 DEBUG GEOparse - SAMPLE: GSM7669085\n"
     ]
    },
    {
     "data": {
      "text/plain": [
       "<SERIES: GSE239626 - 40 SAMPLES, 1 d(s)>"
      ]
     },
     "execution_count": 3,
     "metadata": {},
     "output_type": "execute_result"
    }
   ],
   "source": [
    "# read data\n",
    "gse = GEOparse.get_GEO(filepath=DATA_PATH)\n",
    "gse"
   ]
  },
  {
   "cell_type": "code",
   "execution_count": 4,
   "metadata": {},
   "outputs": [
    {
     "data": {
      "text/plain": [
       "{'GPL24676': <d: GPL24676>}"
      ]
     },
     "execution_count": 4,
     "metadata": {},
     "output_type": "execute_result"
    }
   ],
   "source": [
    "gse.gpls"
   ]
  },
  {
   "cell_type": "code",
   "execution_count": 5,
   "metadata": {},
   "outputs": [
    {
     "data": {
      "text/plain": [
       "<bound method GSE.merge_and_average of <SERIES: GSE239626 - 40 SAMPLES, 1 d(s)>>"
      ]
     },
     "execution_count": 5,
     "metadata": {},
     "output_type": "execute_result"
    }
   ],
   "source": [
    "gse.merge_and_average"
   ]
  },
  {
   "cell_type": "code",
   "execution_count": 6,
   "metadata": {},
   "outputs": [
    {
     "data": {
      "text/html": [
       "<div>\n",
       "<style scoped>\n",
       "    .dataframe tbody tr th:only-of-type {\n",
       "        vertical-align: middle;\n",
       "    }\n",
       "\n",
       "    .dataframe tbody tr th {\n",
       "        vertical-align: top;\n",
       "    }\n",
       "\n",
       "    .dataframe thead th {\n",
       "        text-align: right;\n",
       "    }\n",
       "</style>\n",
       "<table border=\"1\" class=\"dataframe\">\n",
       "  <thead>\n",
       "    <tr style=\"text-align: right;\">\n",
       "      <th></th>\n",
       "      <th>title</th>\n",
       "      <th>geo_accession</th>\n",
       "      <th>status</th>\n",
       "      <th>submission_date</th>\n",
       "      <th>last_update_date</th>\n",
       "      <th>type</th>\n",
       "      <th>channel_count</th>\n",
       "      <th>source_name_ch1</th>\n",
       "      <th>organism_ch1</th>\n",
       "      <th>taxid_ch1</th>\n",
       "      <th>...</th>\n",
       "      <th>contact_zip/postal_code</th>\n",
       "      <th>contact_country</th>\n",
       "      <th>instrument_model</th>\n",
       "      <th>library_selection</th>\n",
       "      <th>library_source</th>\n",
       "      <th>library_strategy</th>\n",
       "      <th>relation</th>\n",
       "      <th>supplementary_file_1</th>\n",
       "      <th>series_id</th>\n",
       "      <th>data_row_count</th>\n",
       "    </tr>\n",
       "  </thead>\n",
       "  <tbody>\n",
       "    <tr>\n",
       "      <th>GSM7669046</th>\n",
       "      <td>Patient Placebo N1 J0, GEX</td>\n",
       "      <td>GSM7669046</td>\n",
       "      <td>Public on Oct 05 2023</td>\n",
       "      <td>Jul 31 2023</td>\n",
       "      <td>Oct 05 2023</td>\n",
       "      <td>SRA</td>\n",
       "      <td>1</td>\n",
       "      <td>Blood</td>\n",
       "      <td>Homo sapiens</td>\n",
       "      <td>9606</td>\n",
       "      <td>...</td>\n",
       "      <td>34094</td>\n",
       "      <td>France</td>\n",
       "      <td>Illumina NovaSeq 6000</td>\n",
       "      <td>cDNA</td>\n",
       "      <td>transcriptomic single cell</td>\n",
       "      <td>RNA-Seq</td>\n",
       "      <td>BioSample: https://www.ncbi.nlm.nih.gov/biosam...</td>\n",
       "      <td>NONE</td>\n",
       "      <td>GSE239626</td>\n",
       "      <td>0</td>\n",
       "    </tr>\n",
       "    <tr>\n",
       "      <th>GSM7669047</th>\n",
       "      <td>Patient Placebo N1 J0, ADT</td>\n",
       "      <td>GSM7669047</td>\n",
       "      <td>Public on Oct 05 2023</td>\n",
       "      <td>Jul 31 2023</td>\n",
       "      <td>Oct 05 2023</td>\n",
       "      <td>SRA</td>\n",
       "      <td>1</td>\n",
       "      <td>Blood</td>\n",
       "      <td>Homo sapiens</td>\n",
       "      <td>9606</td>\n",
       "      <td>...</td>\n",
       "      <td>34094</td>\n",
       "      <td>France</td>\n",
       "      <td>Illumina NovaSeq 6000</td>\n",
       "      <td>cDNA</td>\n",
       "      <td>other</td>\n",
       "      <td>RNA-Seq</td>\n",
       "      <td>BioSample: https://www.ncbi.nlm.nih.gov/biosam...</td>\n",
       "      <td>NONE</td>\n",
       "      <td>GSE239626</td>\n",
       "      <td>0</td>\n",
       "    </tr>\n",
       "  </tbody>\n",
       "</table>\n",
       "<p>2 rows × 35 columns</p>\n",
       "</div>"
      ],
      "text/plain": [
       "                                 title geo_accession                 status  \\\n",
       "GSM7669046  Patient Placebo N1 J0, GEX    GSM7669046  Public on Oct 05 2023   \n",
       "GSM7669047  Patient Placebo N1 J0, ADT    GSM7669047  Public on Oct 05 2023   \n",
       "\n",
       "           submission_date last_update_date type channel_count  \\\n",
       "GSM7669046     Jul 31 2023      Oct 05 2023  SRA             1   \n",
       "GSM7669047     Jul 31 2023      Oct 05 2023  SRA             1   \n",
       "\n",
       "           source_name_ch1  organism_ch1 taxid_ch1  ...  \\\n",
       "GSM7669046           Blood  Homo sapiens      9606  ...   \n",
       "GSM7669047           Blood  Homo sapiens      9606  ...   \n",
       "\n",
       "           contact_zip/postal_code contact_country       instrument_model  \\\n",
       "GSM7669046                   34094          France  Illumina NovaSeq 6000   \n",
       "GSM7669047                   34094          France  Illumina NovaSeq 6000   \n",
       "\n",
       "           library_selection              library_source library_strategy  \\\n",
       "GSM7669046              cDNA  transcriptomic single cell          RNA-Seq   \n",
       "GSM7669047              cDNA                       other          RNA-Seq   \n",
       "\n",
       "                                                     relation  \\\n",
       "GSM7669046  BioSample: https://www.ncbi.nlm.nih.gov/biosam...   \n",
       "GSM7669047  BioSample: https://www.ncbi.nlm.nih.gov/biosam...   \n",
       "\n",
       "           supplementary_file_1  series_id data_row_count  \n",
       "GSM7669046                 NONE  GSE239626              0  \n",
       "GSM7669047                 NONE  GSE239626              0  \n",
       "\n",
       "[2 rows x 35 columns]"
      ]
     },
     "execution_count": 6,
     "metadata": {},
     "output_type": "execute_result"
    }
   ],
   "source": [
    "gse.phenotype_data.head(2)"
   ]
  },
  {
   "cell_type": "code",
   "execution_count": 7,
   "metadata": {},
   "outputs": [
    {
     "data": {
      "text/plain": [
       "title                                                        Patient Placebo N1 J0, GEX\n",
       "geo_accession                                                                GSM7669046\n",
       "status                                                            Public on Oct 05 2023\n",
       "submission_date                                                             Jul 31 2023\n",
       "last_update_date                                                            Oct 05 2023\n",
       "type                                                                                SRA\n",
       "channel_count                                                                         1\n",
       "source_name_ch1                                                                   Blood\n",
       "organism_ch1                                                               Homo sapiens\n",
       "taxid_ch1                                                                          9606\n",
       "characteristics_ch1.0.tissue                                                      Blood\n",
       "characteristics_ch1.1.cell line                                             Lymphocytes\n",
       "characteristics_ch1.2.cell type                                                    PBMC\n",
       "characteristics_ch1.3.treatment                                                 Placebo\n",
       "characteristics_ch1.4.time                                                           J0\n",
       "characteristics_ch1.5.library type                                                 mRNA\n",
       "molecule_ch1                                                                  polyA RNA\n",
       "extract_protocol_ch1                  Live lymphocytes from 5 vitamin D-treated MS p...\n",
       "description                           GEX (3'mRNA) library : read1 contains cell bar...\n",
       "data_processing                       The demultiplexing, barcoded processing, gene ...\n",
       "platform_id                                                                    GPL24676\n",
       "contact_name                                                            Eric,,Thouvenot\n",
       "contact_institute                                                                   IGF\n",
       "contact_address                                                141 rue de la Cardonille\n",
       "contact_city                                                                Montpellier\n",
       "contact_zip/postal_code                                                           34094\n",
       "contact_country                                                                  France\n",
       "instrument_model                                                  Illumina NovaSeq 6000\n",
       "library_selection                                                                  cDNA\n",
       "library_source                                               transcriptomic single cell\n",
       "library_strategy                                                                RNA-Seq\n",
       "relation                              BioSample: https://www.ncbi.nlm.nih.gov/biosam...\n",
       "supplementary_file_1                                                               NONE\n",
       "series_id                                                                     GSE239626\n",
       "data_row_count                                                                        0\n",
       "Name: GSM7669046, dtype: object"
      ]
     },
     "execution_count": 7,
     "metadata": {},
     "output_type": "execute_result"
    }
   ],
   "source": [
    "gse.phenotype_data.loc['GSM7669046']"
   ]
  },
  {
   "cell_type": "code",
   "execution_count": 8,
   "metadata": {},
   "outputs": [
    {
     "data": {
      "text/plain": [
       "Index(['title', 'geo_accession', 'status', 'submission_date',\n",
       "       'last_update_date', 'type', 'channel_count', 'source_name_ch1',\n",
       "       'organism_ch1', 'taxid_ch1', 'characteristics_ch1.0.tissue',\n",
       "       'characteristics_ch1.1.cell line', 'characteristics_ch1.2.cell type',\n",
       "       'characteristics_ch1.3.treatment', 'characteristics_ch1.4.time',\n",
       "       'characteristics_ch1.5.library type', 'molecule_ch1',\n",
       "       'extract_protocol_ch1', 'description', 'data_processing', 'platform_id',\n",
       "       'contact_name', 'contact_institute', 'contact_address', 'contact_city',\n",
       "       'contact_zip/postal_code', 'contact_country', 'instrument_model',\n",
       "       'library_selection', 'library_source', 'library_strategy', 'relation',\n",
       "       'supplementary_file_1', 'series_id', 'data_row_count'],\n",
       "      dtype='object')"
      ]
     },
     "execution_count": 8,
     "metadata": {},
     "output_type": "execute_result"
    }
   ],
   "source": [
    "gse.phenotype_data.keys()"
   ]
  },
  {
   "cell_type": "code",
   "execution_count": 9,
   "metadata": {},
   "outputs": [
    {
     "data": {
      "text/plain": [
       "array(['BioSample: https://www.ncbi.nlm.nih.gov/biosample/SAMN36780124,SRA: https://www.ncbi.nlm.nih.gov/sra?term=SRX21205710',\n",
       "       'BioSample: https://www.ncbi.nlm.nih.gov/biosample/SAMN36780123,SRA: https://www.ncbi.nlm.nih.gov/sra?term=SRX21205712'],\n",
       "      dtype=object)"
      ]
     },
     "execution_count": 9,
     "metadata": {},
     "output_type": "execute_result"
    }
   ],
   "source": [
    "gse.phenotype_data['relation'].unique()[:2]"
   ]
  },
  {
   "cell_type": "code",
   "execution_count": 10,
   "metadata": {},
   "outputs": [],
   "source": [
    "gse.phenotype_data.to_pickle('GSE239626_family_phenotype_data.pkl')"
   ]
  },
  {
   "cell_type": "code",
   "execution_count": 11,
   "metadata": {},
   "outputs": [
    {
     "data": {
      "text/plain": [
       "<bound method GSE.download_supplementary_files of <SERIES: GSE239626 - 40 SAMPLES, 1 d(s)>>"
      ]
     },
     "execution_count": 11,
     "metadata": {},
     "output_type": "execute_result"
    }
   ],
   "source": [
    "gse.download_supplementary_files"
   ]
  },
  {
   "cell_type": "code",
   "execution_count": 12,
   "metadata": {},
   "outputs": [
    {
     "data": {
      "text/plain": [
       "<bound method GSE.download_SRA of <SERIES: GSE239626 - 40 SAMPLES, 1 d(s)>>"
      ]
     },
     "execution_count": 12,
     "metadata": {},
     "output_type": "execute_result"
    }
   ],
   "source": [
    "gse.download_SRA"
   ]
  },
  {
   "cell_type": "markdown",
   "metadata": {},
   "source": [
    "### Features and Matrix Data"
   ]
  },
  {
   "cell_type": "code",
   "execution_count": 13,
   "metadata": {},
   "outputs": [],
   "source": [
    "import pandas as pd\n",
    "import scipy.io\n",
    "\n",
    "FEATURES_PATH = 'GSE239626/GSE239626_features.tsv/features.tsv'\n",
    "MATRIX_PATH = 'GSE239626/GSE239626_matrix.mtx/matrix.mtx'"
   ]
  },
  {
   "cell_type": "code",
   "execution_count": 14,
   "metadata": {},
   "outputs": [
    {
     "data": {
      "text/html": [
       "<div>\n",
       "<style scoped>\n",
       "    .dataframe tbody tr th:only-of-type {\n",
       "        vertical-align: middle;\n",
       "    }\n",
       "\n",
       "    .dataframe tbody tr th {\n",
       "        vertical-align: top;\n",
       "    }\n",
       "\n",
       "    .dataframe thead th {\n",
       "        text-align: right;\n",
       "    }\n",
       "</style>\n",
       "<table border=\"1\" class=\"dataframe\">\n",
       "  <thead>\n",
       "    <tr style=\"text-align: right;\">\n",
       "      <th></th>\n",
       "      <th>0</th>\n",
       "      <th>1</th>\n",
       "      <th>2</th>\n",
       "    </tr>\n",
       "  </thead>\n",
       "  <tbody>\n",
       "    <tr>\n",
       "      <th>0</th>\n",
       "      <td>ENSG00000243485</td>\n",
       "      <td>MIR1302-2HG</td>\n",
       "      <td>Gene Expression</td>\n",
       "    </tr>\n",
       "    <tr>\n",
       "      <th>1</th>\n",
       "      <td>ENSG00000237613</td>\n",
       "      <td>FAM138A</td>\n",
       "      <td>Gene Expression</td>\n",
       "    </tr>\n",
       "    <tr>\n",
       "      <th>2</th>\n",
       "      <td>ENSG00000186092</td>\n",
       "      <td>OR4F5</td>\n",
       "      <td>Gene Expression</td>\n",
       "    </tr>\n",
       "    <tr>\n",
       "      <th>3</th>\n",
       "      <td>ENSG00000238009</td>\n",
       "      <td>AL627309.1</td>\n",
       "      <td>Gene Expression</td>\n",
       "    </tr>\n",
       "    <tr>\n",
       "      <th>4</th>\n",
       "      <td>ENSG00000239945</td>\n",
       "      <td>AL627309.3</td>\n",
       "      <td>Gene Expression</td>\n",
       "    </tr>\n",
       "    <tr>\n",
       "      <th>...</th>\n",
       "      <td>...</td>\n",
       "      <td>...</td>\n",
       "      <td>...</td>\n",
       "    </tr>\n",
       "    <tr>\n",
       "      <th>36631</th>\n",
       "      <td>IgD</td>\n",
       "      <td>IgD_TotalSeqB</td>\n",
       "      <td>Antibody Capture</td>\n",
       "    </tr>\n",
       "    <tr>\n",
       "      <th>36632</th>\n",
       "      <td>IgM</td>\n",
       "      <td>IgM_TotalSeqB</td>\n",
       "      <td>Antibody Capture</td>\n",
       "    </tr>\n",
       "    <tr>\n",
       "      <th>36633</th>\n",
       "      <td>LAG3</td>\n",
       "      <td>LAG3_TotalSeqB</td>\n",
       "      <td>Antibody Capture</td>\n",
       "    </tr>\n",
       "    <tr>\n",
       "      <th>36634</th>\n",
       "      <td>TCRVa7.2</td>\n",
       "      <td>TCRVa7.2_TotalSeqB</td>\n",
       "      <td>Antibody Capture</td>\n",
       "    </tr>\n",
       "    <tr>\n",
       "      <th>36635</th>\n",
       "      <td>TCRgd</td>\n",
       "      <td>TCRgd_TotalSeqB</td>\n",
       "      <td>Antibody Capture</td>\n",
       "    </tr>\n",
       "  </tbody>\n",
       "</table>\n",
       "<p>36636 rows × 3 columns</p>\n",
       "</div>"
      ],
      "text/plain": [
       "                     0                   1                 2\n",
       "0      ENSG00000243485         MIR1302-2HG   Gene Expression\n",
       "1      ENSG00000237613             FAM138A   Gene Expression\n",
       "2      ENSG00000186092               OR4F5   Gene Expression\n",
       "3      ENSG00000238009          AL627309.1   Gene Expression\n",
       "4      ENSG00000239945          AL627309.3   Gene Expression\n",
       "...                ...                 ...               ...\n",
       "36631              IgD       IgD_TotalSeqB  Antibody Capture\n",
       "36632              IgM       IgM_TotalSeqB  Antibody Capture\n",
       "36633             LAG3      LAG3_TotalSeqB  Antibody Capture\n",
       "36634         TCRVa7.2  TCRVa7.2_TotalSeqB  Antibody Capture\n",
       "36635            TCRgd     TCRgd_TotalSeqB  Antibody Capture\n",
       "\n",
       "[36636 rows x 3 columns]"
      ]
     },
     "execution_count": 14,
     "metadata": {},
     "output_type": "execute_result"
    }
   ],
   "source": [
    "features_df = pd.read_csv(FEATURES_PATH, sep='\\t', header=None)\n",
    "features_df"
   ]
  },
  {
   "cell_type": "code",
   "execution_count": 15,
   "metadata": {},
   "outputs": [
    {
     "data": {
      "text/html": [
       "<div>\n",
       "<style scoped>\n",
       "    .dataframe tbody tr th:only-of-type {\n",
       "        vertical-align: middle;\n",
       "    }\n",
       "\n",
       "    .dataframe tbody tr th {\n",
       "        vertical-align: top;\n",
       "    }\n",
       "\n",
       "    .dataframe thead th {\n",
       "        text-align: right;\n",
       "    }\n",
       "</style>\n",
       "<table border=\"1\" class=\"dataframe\">\n",
       "  <thead>\n",
       "    <tr style=\"text-align: right;\">\n",
       "      <th></th>\n",
       "      <th>ID</th>\n",
       "      <th>symbol</th>\n",
       "      <th>expression</th>\n",
       "    </tr>\n",
       "  </thead>\n",
       "  <tbody>\n",
       "    <tr>\n",
       "      <th>0</th>\n",
       "      <td>ENSG00000243485</td>\n",
       "      <td>MIR1302-2HG</td>\n",
       "      <td>Gene Expression</td>\n",
       "    </tr>\n",
       "    <tr>\n",
       "      <th>1</th>\n",
       "      <td>ENSG00000237613</td>\n",
       "      <td>FAM138A</td>\n",
       "      <td>Gene Expression</td>\n",
       "    </tr>\n",
       "    <tr>\n",
       "      <th>2</th>\n",
       "      <td>ENSG00000186092</td>\n",
       "      <td>OR4F5</td>\n",
       "      <td>Gene Expression</td>\n",
       "    </tr>\n",
       "    <tr>\n",
       "      <th>3</th>\n",
       "      <td>ENSG00000238009</td>\n",
       "      <td>AL627309.1</td>\n",
       "      <td>Gene Expression</td>\n",
       "    </tr>\n",
       "    <tr>\n",
       "      <th>4</th>\n",
       "      <td>ENSG00000239945</td>\n",
       "      <td>AL627309.3</td>\n",
       "      <td>Gene Expression</td>\n",
       "    </tr>\n",
       "    <tr>\n",
       "      <th>...</th>\n",
       "      <td>...</td>\n",
       "      <td>...</td>\n",
       "      <td>...</td>\n",
       "    </tr>\n",
       "    <tr>\n",
       "      <th>36631</th>\n",
       "      <td>IgD</td>\n",
       "      <td>IgD_TotalSeqB</td>\n",
       "      <td>Antibody Capture</td>\n",
       "    </tr>\n",
       "    <tr>\n",
       "      <th>36632</th>\n",
       "      <td>IgM</td>\n",
       "      <td>IgM_TotalSeqB</td>\n",
       "      <td>Antibody Capture</td>\n",
       "    </tr>\n",
       "    <tr>\n",
       "      <th>36633</th>\n",
       "      <td>LAG3</td>\n",
       "      <td>LAG3_TotalSeqB</td>\n",
       "      <td>Antibody Capture</td>\n",
       "    </tr>\n",
       "    <tr>\n",
       "      <th>36634</th>\n",
       "      <td>TCRVa7.2</td>\n",
       "      <td>TCRVa7.2_TotalSeqB</td>\n",
       "      <td>Antibody Capture</td>\n",
       "    </tr>\n",
       "    <tr>\n",
       "      <th>36635</th>\n",
       "      <td>TCRgd</td>\n",
       "      <td>TCRgd_TotalSeqB</td>\n",
       "      <td>Antibody Capture</td>\n",
       "    </tr>\n",
       "  </tbody>\n",
       "</table>\n",
       "<p>36636 rows × 3 columns</p>\n",
       "</div>"
      ],
      "text/plain": [
       "                    ID              symbol        expression\n",
       "0      ENSG00000243485         MIR1302-2HG   Gene Expression\n",
       "1      ENSG00000237613             FAM138A   Gene Expression\n",
       "2      ENSG00000186092               OR4F5   Gene Expression\n",
       "3      ENSG00000238009          AL627309.1   Gene Expression\n",
       "4      ENSG00000239945          AL627309.3   Gene Expression\n",
       "...                ...                 ...               ...\n",
       "36631              IgD       IgD_TotalSeqB  Antibody Capture\n",
       "36632              IgM       IgM_TotalSeqB  Antibody Capture\n",
       "36633             LAG3      LAG3_TotalSeqB  Antibody Capture\n",
       "36634         TCRVa7.2  TCRVa7.2_TotalSeqB  Antibody Capture\n",
       "36635            TCRgd     TCRgd_TotalSeqB  Antibody Capture\n",
       "\n",
       "[36636 rows x 3 columns]"
      ]
     },
     "execution_count": 15,
     "metadata": {},
     "output_type": "execute_result"
    }
   ],
   "source": [
    "# rename columns\n",
    "features_df.columns = ['ID', 'symbol', 'expression']\n",
    "features_df"
   ]
  },
  {
   "cell_type": "code",
   "execution_count": 16,
   "metadata": {},
   "outputs": [
    {
     "data": {
      "text/plain": [
       "array(['Gene Expression', 'Antibody Capture'], dtype=object)"
      ]
     },
     "execution_count": 16,
     "metadata": {},
     "output_type": "execute_result"
    }
   ],
   "source": [
    "features_df['expression'].unique()"
   ]
  },
  {
   "cell_type": "code",
   "execution_count": 17,
   "metadata": {},
   "outputs": [
    {
     "name": "stdout",
     "output_type": "stream",
     "text": [
      "Gene Expression samples:  109803\n",
      "Antibody Capture samples:  105\n"
     ]
    }
   ],
   "source": [
    "print('Gene Expression samples: ', features_df[features_df['expression'] == 'Gene Expression'].count().sum())\n",
    "print('Antibody Capture samples: ', features_df[features_df['expression'] == 'Antibody Capture'].count().sum())\n"
   ]
  },
  {
   "cell_type": "code",
   "execution_count": 18,
   "metadata": {},
   "outputs": [
    {
     "data": {
      "text/plain": [
       "<36636x72317 sparse matrix of type '<class 'numpy.int64'>'\n",
       "\twith 98640137 stored elements in COOrdinate format>"
      ]
     },
     "execution_count": 18,
     "metadata": {},
     "output_type": "execute_result"
    }
   ],
   "source": [
    "matrix = scipy.io.mmread(MATRIX_PATH)\n",
    "matrix # matrice di espressione genica"
   ]
  },
  {
   "cell_type": "code",
   "execution_count": 19,
   "metadata": {},
   "outputs": [
    {
     "name": "stdout",
     "output_type": "stream",
     "text": [
      "Number of non-zero elements: 98640137 over 2649405612\n",
      "Sparsity: 3.72%\n"
     ]
    }
   ],
   "source": [
    "nnz = matrix.nnz\n",
    "print(f'Number of non-zero elements: {nnz} over {matrix.shape[0] * matrix.shape[1]}')\n",
    "print(f'Sparsity: {nnz / (matrix.shape[0] * matrix.shape[1]) * 100:.2f}%') # single cell"
   ]
  },
  {
   "cell_type": "code",
   "execution_count": 20,
   "metadata": {},
   "outputs": [],
   "source": [
    "matrix_df = pd.DataFrame.sparse.from_spmatrix(matrix)"
   ]
  },
  {
   "cell_type": "code",
   "execution_count": 21,
   "metadata": {},
   "outputs": [
    {
     "data": {
      "text/plain": [
       "(36636, 72317)"
      ]
     },
     "execution_count": 21,
     "metadata": {},
     "output_type": "execute_result"
    }
   ],
   "source": [
    "matrix.shape"
   ]
  },
  {
   "cell_type": "code",
   "execution_count": 22,
   "metadata": {},
   "outputs": [],
   "source": [
    "BARCODE_PATH = 'GSE239626\\GSE239626_barcode.tsv'\n",
    "\n",
    "# Read barcode\n",
    "barcode = pd.read_csv(BARCODE_PATH, header=None)"
   ]
  },
  {
   "cell_type": "code",
   "execution_count": 23,
   "metadata": {},
   "outputs": [
    {
     "data": {
      "text/plain": [
       "Index([0], dtype='int64')"
      ]
     },
     "execution_count": 23,
     "metadata": {},
     "output_type": "execute_result"
    }
   ],
   "source": [
    "barcode.columns"
   ]
  },
  {
   "cell_type": "code",
   "execution_count": 24,
   "metadata": {},
   "outputs": [
    {
     "data": {
      "text/plain": [
       "(72317,)"
      ]
     },
     "execution_count": 24,
     "metadata": {},
     "output_type": "execute_result"
    }
   ],
   "source": [
    "np.unique(barcode).shape"
   ]
  },
  {
   "cell_type": "code",
   "execution_count": 25,
   "metadata": {},
   "outputs": [],
   "source": [
    "matrix_df.columns = barcode[0]"
   ]
  },
  {
   "cell_type": "code",
   "execution_count": 26,
   "metadata": {},
   "outputs": [
    {
     "data": {
      "text/html": [
       "<div>\n",
       "<style scoped>\n",
       "    .dataframe tbody tr th:only-of-type {\n",
       "        vertical-align: middle;\n",
       "    }\n",
       "\n",
       "    .dataframe tbody tr th {\n",
       "        vertical-align: top;\n",
       "    }\n",
       "\n",
       "    .dataframe thead th {\n",
       "        text-align: right;\n",
       "    }\n",
       "</style>\n",
       "<table border=\"1\" class=\"dataframe\">\n",
       "  <thead>\n",
       "    <tr style=\"text-align: right;\">\n",
       "      <th></th>\n",
       "      <th>ID</th>\n",
       "      <th>symbol</th>\n",
       "      <th>expression</th>\n",
       "      <th>AAACCCAAGACTGTTC-1</th>\n",
       "      <th>AAACCCAAGGATCATA-1</th>\n",
       "      <th>AAACCCAGTTATTCTC-1</th>\n",
       "      <th>AAACCCATCATGAGGG-1</th>\n",
       "      <th>AAACGAAAGCCAGTAG-1</th>\n",
       "      <th>AAACGAAAGCTGACAG-1</th>\n",
       "      <th>AAACGAAAGTAATACG-1</th>\n",
       "      <th>...</th>\n",
       "      <th>TTTGGTTAGCTTTCCC-20</th>\n",
       "      <th>TTTGGTTGTTTCGACA-20</th>\n",
       "      <th>TTTGGTTTCAGACCCG-20</th>\n",
       "      <th>TTTGGTTTCTCATAGG-20</th>\n",
       "      <th>TTTGGTTTCTGTAACG-20</th>\n",
       "      <th>TTTGTTGAGCGTCGAA-20</th>\n",
       "      <th>TTTGTTGAGTGTACCT-20</th>\n",
       "      <th>TTTGTTGCAATTGCAC-20</th>\n",
       "      <th>TTTGTTGCATTCAGCA-20</th>\n",
       "      <th>TTTGTTGGTGGGTTGA-20</th>\n",
       "    </tr>\n",
       "  </thead>\n",
       "  <tbody>\n",
       "    <tr>\n",
       "      <th>0</th>\n",
       "      <td>ENSG00000243485</td>\n",
       "      <td>MIR1302-2HG</td>\n",
       "      <td>Gene Expression</td>\n",
       "      <td>0</td>\n",
       "      <td>0</td>\n",
       "      <td>0</td>\n",
       "      <td>0</td>\n",
       "      <td>0</td>\n",
       "      <td>0</td>\n",
       "      <td>0</td>\n",
       "      <td>...</td>\n",
       "      <td>0</td>\n",
       "      <td>0</td>\n",
       "      <td>0</td>\n",
       "      <td>0</td>\n",
       "      <td>0</td>\n",
       "      <td>0</td>\n",
       "      <td>0</td>\n",
       "      <td>0</td>\n",
       "      <td>0</td>\n",
       "      <td>0</td>\n",
       "    </tr>\n",
       "    <tr>\n",
       "      <th>1</th>\n",
       "      <td>ENSG00000237613</td>\n",
       "      <td>FAM138A</td>\n",
       "      <td>Gene Expression</td>\n",
       "      <td>0</td>\n",
       "      <td>0</td>\n",
       "      <td>0</td>\n",
       "      <td>0</td>\n",
       "      <td>0</td>\n",
       "      <td>0</td>\n",
       "      <td>0</td>\n",
       "      <td>...</td>\n",
       "      <td>0</td>\n",
       "      <td>0</td>\n",
       "      <td>0</td>\n",
       "      <td>0</td>\n",
       "      <td>0</td>\n",
       "      <td>0</td>\n",
       "      <td>0</td>\n",
       "      <td>0</td>\n",
       "      <td>0</td>\n",
       "      <td>0</td>\n",
       "    </tr>\n",
       "    <tr>\n",
       "      <th>2</th>\n",
       "      <td>ENSG00000186092</td>\n",
       "      <td>OR4F5</td>\n",
       "      <td>Gene Expression</td>\n",
       "      <td>0</td>\n",
       "      <td>0</td>\n",
       "      <td>0</td>\n",
       "      <td>0</td>\n",
       "      <td>0</td>\n",
       "      <td>0</td>\n",
       "      <td>0</td>\n",
       "      <td>...</td>\n",
       "      <td>0</td>\n",
       "      <td>0</td>\n",
       "      <td>0</td>\n",
       "      <td>0</td>\n",
       "      <td>0</td>\n",
       "      <td>0</td>\n",
       "      <td>0</td>\n",
       "      <td>0</td>\n",
       "      <td>0</td>\n",
       "      <td>0</td>\n",
       "    </tr>\n",
       "    <tr>\n",
       "      <th>3</th>\n",
       "      <td>ENSG00000238009</td>\n",
       "      <td>AL627309.1</td>\n",
       "      <td>Gene Expression</td>\n",
       "      <td>0</td>\n",
       "      <td>0</td>\n",
       "      <td>0</td>\n",
       "      <td>0</td>\n",
       "      <td>0</td>\n",
       "      <td>0</td>\n",
       "      <td>0</td>\n",
       "      <td>...</td>\n",
       "      <td>0</td>\n",
       "      <td>0</td>\n",
       "      <td>0</td>\n",
       "      <td>0</td>\n",
       "      <td>0</td>\n",
       "      <td>0</td>\n",
       "      <td>0</td>\n",
       "      <td>0</td>\n",
       "      <td>0</td>\n",
       "      <td>0</td>\n",
       "    </tr>\n",
       "    <tr>\n",
       "      <th>4</th>\n",
       "      <td>ENSG00000239945</td>\n",
       "      <td>AL627309.3</td>\n",
       "      <td>Gene Expression</td>\n",
       "      <td>0</td>\n",
       "      <td>0</td>\n",
       "      <td>0</td>\n",
       "      <td>0</td>\n",
       "      <td>0</td>\n",
       "      <td>0</td>\n",
       "      <td>0</td>\n",
       "      <td>...</td>\n",
       "      <td>0</td>\n",
       "      <td>0</td>\n",
       "      <td>0</td>\n",
       "      <td>0</td>\n",
       "      <td>0</td>\n",
       "      <td>0</td>\n",
       "      <td>0</td>\n",
       "      <td>0</td>\n",
       "      <td>0</td>\n",
       "      <td>0</td>\n",
       "    </tr>\n",
       "    <tr>\n",
       "      <th>...</th>\n",
       "      <td>...</td>\n",
       "      <td>...</td>\n",
       "      <td>...</td>\n",
       "      <td>...</td>\n",
       "      <td>...</td>\n",
       "      <td>...</td>\n",
       "      <td>...</td>\n",
       "      <td>...</td>\n",
       "      <td>...</td>\n",
       "      <td>...</td>\n",
       "      <td>...</td>\n",
       "      <td>...</td>\n",
       "      <td>...</td>\n",
       "      <td>...</td>\n",
       "      <td>...</td>\n",
       "      <td>...</td>\n",
       "      <td>...</td>\n",
       "      <td>...</td>\n",
       "      <td>...</td>\n",
       "      <td>...</td>\n",
       "      <td>...</td>\n",
       "    </tr>\n",
       "    <tr>\n",
       "      <th>36631</th>\n",
       "      <td>IgD</td>\n",
       "      <td>IgD_TotalSeqB</td>\n",
       "      <td>Antibody Capture</td>\n",
       "      <td>1</td>\n",
       "      <td>0</td>\n",
       "      <td>2</td>\n",
       "      <td>0</td>\n",
       "      <td>22</td>\n",
       "      <td>395</td>\n",
       "      <td>1</td>\n",
       "      <td>...</td>\n",
       "      <td>0</td>\n",
       "      <td>0</td>\n",
       "      <td>0</td>\n",
       "      <td>0</td>\n",
       "      <td>0</td>\n",
       "      <td>0</td>\n",
       "      <td>0</td>\n",
       "      <td>0</td>\n",
       "      <td>0</td>\n",
       "      <td>1</td>\n",
       "    </tr>\n",
       "    <tr>\n",
       "      <th>36632</th>\n",
       "      <td>IgM</td>\n",
       "      <td>IgM_TotalSeqB</td>\n",
       "      <td>Antibody Capture</td>\n",
       "      <td>10</td>\n",
       "      <td>16</td>\n",
       "      <td>4</td>\n",
       "      <td>10</td>\n",
       "      <td>1091</td>\n",
       "      <td>161</td>\n",
       "      <td>1</td>\n",
       "      <td>...</td>\n",
       "      <td>4</td>\n",
       "      <td>2</td>\n",
       "      <td>4</td>\n",
       "      <td>0</td>\n",
       "      <td>9</td>\n",
       "      <td>5</td>\n",
       "      <td>1</td>\n",
       "      <td>0</td>\n",
       "      <td>4</td>\n",
       "      <td>9</td>\n",
       "    </tr>\n",
       "    <tr>\n",
       "      <th>36633</th>\n",
       "      <td>LAG3</td>\n",
       "      <td>LAG3_TotalSeqB</td>\n",
       "      <td>Antibody Capture</td>\n",
       "      <td>0</td>\n",
       "      <td>0</td>\n",
       "      <td>0</td>\n",
       "      <td>0</td>\n",
       "      <td>0</td>\n",
       "      <td>0</td>\n",
       "      <td>0</td>\n",
       "      <td>...</td>\n",
       "      <td>0</td>\n",
       "      <td>0</td>\n",
       "      <td>0</td>\n",
       "      <td>0</td>\n",
       "      <td>0</td>\n",
       "      <td>0</td>\n",
       "      <td>2</td>\n",
       "      <td>0</td>\n",
       "      <td>0</td>\n",
       "      <td>0</td>\n",
       "    </tr>\n",
       "    <tr>\n",
       "      <th>36634</th>\n",
       "      <td>TCRVa7.2</td>\n",
       "      <td>TCRVa7.2_TotalSeqB</td>\n",
       "      <td>Antibody Capture</td>\n",
       "      <td>0</td>\n",
       "      <td>0</td>\n",
       "      <td>0</td>\n",
       "      <td>0</td>\n",
       "      <td>0</td>\n",
       "      <td>0</td>\n",
       "      <td>0</td>\n",
       "      <td>...</td>\n",
       "      <td>1</td>\n",
       "      <td>0</td>\n",
       "      <td>0</td>\n",
       "      <td>0</td>\n",
       "      <td>0</td>\n",
       "      <td>0</td>\n",
       "      <td>2</td>\n",
       "      <td>46</td>\n",
       "      <td>0</td>\n",
       "      <td>0</td>\n",
       "    </tr>\n",
       "    <tr>\n",
       "      <th>36635</th>\n",
       "      <td>TCRgd</td>\n",
       "      <td>TCRgd_TotalSeqB</td>\n",
       "      <td>Antibody Capture</td>\n",
       "      <td>0</td>\n",
       "      <td>3</td>\n",
       "      <td>0</td>\n",
       "      <td>0</td>\n",
       "      <td>0</td>\n",
       "      <td>0</td>\n",
       "      <td>0</td>\n",
       "      <td>...</td>\n",
       "      <td>0</td>\n",
       "      <td>3</td>\n",
       "      <td>1</td>\n",
       "      <td>0</td>\n",
       "      <td>2</td>\n",
       "      <td>1</td>\n",
       "      <td>26</td>\n",
       "      <td>1</td>\n",
       "      <td>0</td>\n",
       "      <td>2</td>\n",
       "    </tr>\n",
       "  </tbody>\n",
       "</table>\n",
       "<p>36636 rows × 72320 columns</p>\n",
       "</div>"
      ],
      "text/plain": [
       "                    ID              symbol        expression  \\\n",
       "0      ENSG00000243485         MIR1302-2HG   Gene Expression   \n",
       "1      ENSG00000237613             FAM138A   Gene Expression   \n",
       "2      ENSG00000186092               OR4F5   Gene Expression   \n",
       "3      ENSG00000238009          AL627309.1   Gene Expression   \n",
       "4      ENSG00000239945          AL627309.3   Gene Expression   \n",
       "...                ...                 ...               ...   \n",
       "36631              IgD       IgD_TotalSeqB  Antibody Capture   \n",
       "36632              IgM       IgM_TotalSeqB  Antibody Capture   \n",
       "36633             LAG3      LAG3_TotalSeqB  Antibody Capture   \n",
       "36634         TCRVa7.2  TCRVa7.2_TotalSeqB  Antibody Capture   \n",
       "36635            TCRgd     TCRgd_TotalSeqB  Antibody Capture   \n",
       "\n",
       "       AAACCCAAGACTGTTC-1  AAACCCAAGGATCATA-1  AAACCCAGTTATTCTC-1  \\\n",
       "0                       0                   0                   0   \n",
       "1                       0                   0                   0   \n",
       "2                       0                   0                   0   \n",
       "3                       0                   0                   0   \n",
       "4                       0                   0                   0   \n",
       "...                   ...                 ...                 ...   \n",
       "36631                   1                   0                   2   \n",
       "36632                  10                  16                   4   \n",
       "36633                   0                   0                   0   \n",
       "36634                   0                   0                   0   \n",
       "36635                   0                   3                   0   \n",
       "\n",
       "       AAACCCATCATGAGGG-1  AAACGAAAGCCAGTAG-1  AAACGAAAGCTGACAG-1  \\\n",
       "0                       0                   0                   0   \n",
       "1                       0                   0                   0   \n",
       "2                       0                   0                   0   \n",
       "3                       0                   0                   0   \n",
       "4                       0                   0                   0   \n",
       "...                   ...                 ...                 ...   \n",
       "36631                   0                  22                 395   \n",
       "36632                  10                1091                 161   \n",
       "36633                   0                   0                   0   \n",
       "36634                   0                   0                   0   \n",
       "36635                   0                   0                   0   \n",
       "\n",
       "       AAACGAAAGTAATACG-1  ...  TTTGGTTAGCTTTCCC-20  TTTGGTTGTTTCGACA-20  \\\n",
       "0                       0  ...                    0                    0   \n",
       "1                       0  ...                    0                    0   \n",
       "2                       0  ...                    0                    0   \n",
       "3                       0  ...                    0                    0   \n",
       "4                       0  ...                    0                    0   \n",
       "...                   ...  ...                  ...                  ...   \n",
       "36631                   1  ...                    0                    0   \n",
       "36632                   1  ...                    4                    2   \n",
       "36633                   0  ...                    0                    0   \n",
       "36634                   0  ...                    1                    0   \n",
       "36635                   0  ...                    0                    3   \n",
       "\n",
       "       TTTGGTTTCAGACCCG-20  TTTGGTTTCTCATAGG-20  TTTGGTTTCTGTAACG-20  \\\n",
       "0                        0                    0                    0   \n",
       "1                        0                    0                    0   \n",
       "2                        0                    0                    0   \n",
       "3                        0                    0                    0   \n",
       "4                        0                    0                    0   \n",
       "...                    ...                  ...                  ...   \n",
       "36631                    0                    0                    0   \n",
       "36632                    4                    0                    9   \n",
       "36633                    0                    0                    0   \n",
       "36634                    0                    0                    0   \n",
       "36635                    1                    0                    2   \n",
       "\n",
       "       TTTGTTGAGCGTCGAA-20  TTTGTTGAGTGTACCT-20  TTTGTTGCAATTGCAC-20  \\\n",
       "0                        0                    0                    0   \n",
       "1                        0                    0                    0   \n",
       "2                        0                    0                    0   \n",
       "3                        0                    0                    0   \n",
       "4                        0                    0                    0   \n",
       "...                    ...                  ...                  ...   \n",
       "36631                    0                    0                    0   \n",
       "36632                    5                    1                    0   \n",
       "36633                    0                    2                    0   \n",
       "36634                    0                    2                   46   \n",
       "36635                    1                   26                    1   \n",
       "\n",
       "       TTTGTTGCATTCAGCA-20  TTTGTTGGTGGGTTGA-20  \n",
       "0                        0                    0  \n",
       "1                        0                    0  \n",
       "2                        0                    0  \n",
       "3                        0                    0  \n",
       "4                        0                    0  \n",
       "...                    ...                  ...  \n",
       "36631                    0                    1  \n",
       "36632                    4                    9  \n",
       "36633                    0                    0  \n",
       "36634                    0                    0  \n",
       "36635                    0                    2  \n",
       "\n",
       "[36636 rows x 72320 columns]"
      ]
     },
     "execution_count": 26,
     "metadata": {},
     "output_type": "execute_result"
    }
   ],
   "source": [
    "matrix_df = pd.concat([features_df, matrix_df], axis=1)\n",
    "\n",
    "matrix_df"
   ]
  },
  {
   "cell_type": "code",
   "execution_count": 27,
   "metadata": {},
   "outputs": [
    {
     "name": "stdout",
     "output_type": "stream",
     "text": [
      "<class 'pandas.core.frame.DataFrame'>\n",
      "RangeIndex: 36636 entries, 0 to 36635\n",
      "Columns: 72320 entries, ID to TTTGTTGGTGGGTTGA-20\n",
      "dtypes: Sparse[int64, 0](72317), object(3)\n",
      "memory usage: 1.1+ GB\n"
     ]
    }
   ],
   "source": [
    "matrix_df.info()"
   ]
  },
  {
   "cell_type": "code",
   "execution_count": 28,
   "metadata": {},
   "outputs": [],
   "source": [
    "# split matrix in 'Antibody Capture' and 'Gene Expression'\n",
    "\n",
    "antibody_capture_df = matrix_df[matrix_df['expression'] == 'Antibody Capture']\n",
    "gene_expression_df = matrix_df[matrix_df['expression'] == 'Gene Expression']"
   ]
  },
  {
   "cell_type": "code",
   "execution_count": 29,
   "metadata": {},
   "outputs": [
    {
     "data": {
      "text/html": [
       "<div>\n",
       "<style scoped>\n",
       "    .dataframe tbody tr th:only-of-type {\n",
       "        vertical-align: middle;\n",
       "    }\n",
       "\n",
       "    .dataframe tbody tr th {\n",
       "        vertical-align: top;\n",
       "    }\n",
       "\n",
       "    .dataframe thead th {\n",
       "        text-align: right;\n",
       "    }\n",
       "</style>\n",
       "<table border=\"1\" class=\"dataframe\">\n",
       "  <thead>\n",
       "    <tr style=\"text-align: right;\">\n",
       "      <th></th>\n",
       "      <th>ID</th>\n",
       "      <th>symbol</th>\n",
       "      <th>expression</th>\n",
       "      <th>AAACCCAAGACTGTTC-1</th>\n",
       "      <th>AAACCCAAGGATCATA-1</th>\n",
       "      <th>AAACCCAGTTATTCTC-1</th>\n",
       "      <th>AAACCCATCATGAGGG-1</th>\n",
       "      <th>AAACGAAAGCCAGTAG-1</th>\n",
       "      <th>AAACGAAAGCTGACAG-1</th>\n",
       "      <th>AAACGAAAGTAATACG-1</th>\n",
       "      <th>...</th>\n",
       "      <th>TTTGGTTAGCTTTCCC-20</th>\n",
       "      <th>TTTGGTTGTTTCGACA-20</th>\n",
       "      <th>TTTGGTTTCAGACCCG-20</th>\n",
       "      <th>TTTGGTTTCTCATAGG-20</th>\n",
       "      <th>TTTGGTTTCTGTAACG-20</th>\n",
       "      <th>TTTGTTGAGCGTCGAA-20</th>\n",
       "      <th>TTTGTTGAGTGTACCT-20</th>\n",
       "      <th>TTTGTTGCAATTGCAC-20</th>\n",
       "      <th>TTTGTTGCATTCAGCA-20</th>\n",
       "      <th>TTTGTTGGTGGGTTGA-20</th>\n",
       "    </tr>\n",
       "  </thead>\n",
       "  <tbody>\n",
       "    <tr>\n",
       "      <th>36601</th>\n",
       "      <td>CCR4</td>\n",
       "      <td>CCR4_TotalSeqB</td>\n",
       "      <td>Antibody Capture</td>\n",
       "      <td>5</td>\n",
       "      <td>0</td>\n",
       "      <td>0</td>\n",
       "      <td>1</td>\n",
       "      <td>0</td>\n",
       "      <td>0</td>\n",
       "      <td>0</td>\n",
       "      <td>...</td>\n",
       "      <td>0</td>\n",
       "      <td>2</td>\n",
       "      <td>0</td>\n",
       "      <td>0</td>\n",
       "      <td>0</td>\n",
       "      <td>0</td>\n",
       "      <td>0</td>\n",
       "      <td>0</td>\n",
       "      <td>3</td>\n",
       "      <td>0</td>\n",
       "    </tr>\n",
       "    <tr>\n",
       "      <th>36602</th>\n",
       "      <td>CCR5</td>\n",
       "      <td>CCR5_TotalSeqB</td>\n",
       "      <td>Antibody Capture</td>\n",
       "      <td>0</td>\n",
       "      <td>1</td>\n",
       "      <td>0</td>\n",
       "      <td>0</td>\n",
       "      <td>0</td>\n",
       "      <td>1</td>\n",
       "      <td>0</td>\n",
       "      <td>...</td>\n",
       "      <td>0</td>\n",
       "      <td>0</td>\n",
       "      <td>0</td>\n",
       "      <td>0</td>\n",
       "      <td>0</td>\n",
       "      <td>0</td>\n",
       "      <td>0</td>\n",
       "      <td>0</td>\n",
       "      <td>0</td>\n",
       "      <td>3</td>\n",
       "    </tr>\n",
       "  </tbody>\n",
       "</table>\n",
       "<p>2 rows × 72320 columns</p>\n",
       "</div>"
      ],
      "text/plain": [
       "         ID          symbol        expression  AAACCCAAGACTGTTC-1  \\\n",
       "36601  CCR4  CCR4_TotalSeqB  Antibody Capture                   5   \n",
       "36602  CCR5  CCR5_TotalSeqB  Antibody Capture                   0   \n",
       "\n",
       "       AAACCCAAGGATCATA-1  AAACCCAGTTATTCTC-1  AAACCCATCATGAGGG-1  \\\n",
       "36601                   0                   0                   1   \n",
       "36602                   1                   0                   0   \n",
       "\n",
       "       AAACGAAAGCCAGTAG-1  AAACGAAAGCTGACAG-1  AAACGAAAGTAATACG-1  ...  \\\n",
       "36601                   0                   0                   0  ...   \n",
       "36602                   0                   1                   0  ...   \n",
       "\n",
       "       TTTGGTTAGCTTTCCC-20  TTTGGTTGTTTCGACA-20  TTTGGTTTCAGACCCG-20  \\\n",
       "36601                    0                    2                    0   \n",
       "36602                    0                    0                    0   \n",
       "\n",
       "       TTTGGTTTCTCATAGG-20  TTTGGTTTCTGTAACG-20  TTTGTTGAGCGTCGAA-20  \\\n",
       "36601                    0                    0                    0   \n",
       "36602                    0                    0                    0   \n",
       "\n",
       "       TTTGTTGAGTGTACCT-20  TTTGTTGCAATTGCAC-20  TTTGTTGCATTCAGCA-20  \\\n",
       "36601                    0                    0                    3   \n",
       "36602                    0                    0                    0   \n",
       "\n",
       "       TTTGTTGGTGGGTTGA-20  \n",
       "36601                    0  \n",
       "36602                    3  \n",
       "\n",
       "[2 rows x 72320 columns]"
      ]
     },
     "execution_count": 29,
     "metadata": {},
     "output_type": "execute_result"
    }
   ],
   "source": [
    "antibody_capture_df.head(2)"
   ]
  },
  {
   "cell_type": "code",
   "execution_count": 30,
   "metadata": {},
   "outputs": [
    {
     "name": "stdout",
     "output_type": "stream",
     "text": [
      "<class 'pandas.core.frame.DataFrame'>\n",
      "Index: 35 entries, 36601 to 36635\n",
      "Columns: 72320 entries, ID to TTTGTTGGTGGGTTGA-20\n",
      "dtypes: Sparse[int64, 0](72317), object(3)\n",
      "memory usage: 23.0+ MB\n"
     ]
    }
   ],
   "source": [
    "antibody_capture_df.info()"
   ]
  },
  {
   "cell_type": "code",
   "execution_count": 31,
   "metadata": {},
   "outputs": [],
   "source": [
    "antibody_capture_matrix = antibody_capture_df.values\n",
    "antibody_capture_matrix = antibody_capture_matrix.T[3:].T"
   ]
  },
  {
   "cell_type": "code",
   "execution_count": 32,
   "metadata": {},
   "outputs": [
    {
     "data": {
      "text/plain": [
       "array([[5, 0, 0, ..., 0, 3, 0],\n",
       "       [0, 1, 0, ..., 0, 0, 3],\n",
       "       [5, 0, 28, ..., 1, 3, 6],\n",
       "       ...,\n",
       "       [0, 0, 0, ..., 0, 0, 0],\n",
       "       [0, 0, 0, ..., 46, 0, 0],\n",
       "       [0, 3, 0, ..., 1, 0, 2]], dtype=object)"
      ]
     },
     "execution_count": 32,
     "metadata": {},
     "output_type": "execute_result"
    }
   ],
   "source": [
    "antibody_capture_matrix"
   ]
  },
  {
   "cell_type": "code",
   "execution_count": 33,
   "metadata": {},
   "outputs": [
    {
     "data": {
      "image/png": "[encoded data removed]",
      "text/plain": [
       "<Figure size 1000x500 with 1 Axes>"
      ]
     },
     "metadata": {},
     "output_type": "display_data"
    }
   ],
   "source": [
    "import matplotlib.pyplot as plt\n",
    "\n",
    "plt.figure(figsize=(10,5))\n",
    "plt.spy(antibody_capture_matrix, aspect='auto');"
   ]
  },
  {
   "cell_type": "code",
   "execution_count": 34,
   "metadata": {},
   "outputs": [
    {
     "data": {
      "text/html": [
       "<div>\n",
       "<style scoped>\n",
       "    .dataframe tbody tr th:only-of-type {\n",
       "        vertical-align: middle;\n",
       "    }\n",
       "\n",
       "    .dataframe tbody tr th {\n",
       "        vertical-align: top;\n",
       "    }\n",
       "\n",
       "    .dataframe thead th {\n",
       "        text-align: right;\n",
       "    }\n",
       "</style>\n",
       "<table border=\"1\" class=\"dataframe\">\n",
       "  <thead>\n",
       "    <tr style=\"text-align: right;\">\n",
       "      <th></th>\n",
       "      <th>ID</th>\n",
       "      <th>symbol</th>\n",
       "      <th>expression</th>\n",
       "      <th>AAACCCAAGACTGTTC-1</th>\n",
       "      <th>AAACCCAAGGATCATA-1</th>\n",
       "      <th>AAACCCAGTTATTCTC-1</th>\n",
       "      <th>AAACCCATCATGAGGG-1</th>\n",
       "      <th>AAACGAAAGCCAGTAG-1</th>\n",
       "      <th>AAACGAAAGCTGACAG-1</th>\n",
       "      <th>AAACGAAAGTAATACG-1</th>\n",
       "      <th>...</th>\n",
       "      <th>TTTGGTTAGCTTTCCC-20</th>\n",
       "      <th>TTTGGTTGTTTCGACA-20</th>\n",
       "      <th>TTTGGTTTCAGACCCG-20</th>\n",
       "      <th>TTTGGTTTCTCATAGG-20</th>\n",
       "      <th>TTTGGTTTCTGTAACG-20</th>\n",
       "      <th>TTTGTTGAGCGTCGAA-20</th>\n",
       "      <th>TTTGTTGAGTGTACCT-20</th>\n",
       "      <th>TTTGTTGCAATTGCAC-20</th>\n",
       "      <th>TTTGTTGCATTCAGCA-20</th>\n",
       "      <th>TTTGTTGGTGGGTTGA-20</th>\n",
       "    </tr>\n",
       "  </thead>\n",
       "  <tbody>\n",
       "    <tr>\n",
       "      <th>0</th>\n",
       "      <td>ENSG00000243485</td>\n",
       "      <td>MIR1302-2HG</td>\n",
       "      <td>Gene Expression</td>\n",
       "      <td>0</td>\n",
       "      <td>0</td>\n",
       "      <td>0</td>\n",
       "      <td>0</td>\n",
       "      <td>0</td>\n",
       "      <td>0</td>\n",
       "      <td>0</td>\n",
       "      <td>...</td>\n",
       "      <td>0</td>\n",
       "      <td>0</td>\n",
       "      <td>0</td>\n",
       "      <td>0</td>\n",
       "      <td>0</td>\n",
       "      <td>0</td>\n",
       "      <td>0</td>\n",
       "      <td>0</td>\n",
       "      <td>0</td>\n",
       "      <td>0</td>\n",
       "    </tr>\n",
       "    <tr>\n",
       "      <th>1</th>\n",
       "      <td>ENSG00000237613</td>\n",
       "      <td>FAM138A</td>\n",
       "      <td>Gene Expression</td>\n",
       "      <td>0</td>\n",
       "      <td>0</td>\n",
       "      <td>0</td>\n",
       "      <td>0</td>\n",
       "      <td>0</td>\n",
       "      <td>0</td>\n",
       "      <td>0</td>\n",
       "      <td>...</td>\n",
       "      <td>0</td>\n",
       "      <td>0</td>\n",
       "      <td>0</td>\n",
       "      <td>0</td>\n",
       "      <td>0</td>\n",
       "      <td>0</td>\n",
       "      <td>0</td>\n",
       "      <td>0</td>\n",
       "      <td>0</td>\n",
       "      <td>0</td>\n",
       "    </tr>\n",
       "  </tbody>\n",
       "</table>\n",
       "<p>2 rows × 72320 columns</p>\n",
       "</div>"
      ],
      "text/plain": [
       "                ID       symbol       expression  AAACCCAAGACTGTTC-1  \\\n",
       "0  ENSG00000243485  MIR1302-2HG  Gene Expression                   0   \n",
       "1  ENSG00000237613      FAM138A  Gene Expression                   0   \n",
       "\n",
       "   AAACCCAAGGATCATA-1  AAACCCAGTTATTCTC-1  AAACCCATCATGAGGG-1  \\\n",
       "0                   0                   0                   0   \n",
       "1                   0                   0                   0   \n",
       "\n",
       "   AAACGAAAGCCAGTAG-1  AAACGAAAGCTGACAG-1  AAACGAAAGTAATACG-1  ...  \\\n",
       "0                   0                   0                   0  ...   \n",
       "1                   0                   0                   0  ...   \n",
       "\n",
       "   TTTGGTTAGCTTTCCC-20  TTTGGTTGTTTCGACA-20  TTTGGTTTCAGACCCG-20  \\\n",
       "0                    0                    0                    0   \n",
       "1                    0                    0                    0   \n",
       "\n",
       "   TTTGGTTTCTCATAGG-20  TTTGGTTTCTGTAACG-20  TTTGTTGAGCGTCGAA-20  \\\n",
       "0                    0                    0                    0   \n",
       "1                    0                    0                    0   \n",
       "\n",
       "   TTTGTTGAGTGTACCT-20  TTTGTTGCAATTGCAC-20  TTTGTTGCATTCAGCA-20  \\\n",
       "0                    0                    0                    0   \n",
       "1                    0                    0                    0   \n",
       "\n",
       "   TTTGTTGGTGGGTTGA-20  \n",
       "0                    0  \n",
       "1                    0  \n",
       "\n",
       "[2 rows x 72320 columns]"
      ]
     },
     "execution_count": 34,
     "metadata": {},
     "output_type": "execute_result"
    }
   ],
   "source": [
    "gene_expression_df.head(2)"
   ]
  },
  {
   "cell_type": "code",
   "execution_count": 35,
   "metadata": {},
   "outputs": [
    {
     "name": "stdout",
     "output_type": "stream",
     "text": [
      "<class 'pandas.core.frame.DataFrame'>\n",
      "Index: 36601 entries, 0 to 36600\n",
      "Columns: 72320 entries, ID to TTTGTTGGTGGGTTGA-20\n",
      "dtypes: Sparse[int64, 0](72317), object(3)\n",
      "memory usage: 1.1+ GB\n"
     ]
    }
   ],
   "source": [
    "gene_expression_df.info()"
   ]
  },
  {
   "cell_type": "code",
   "execution_count": 36,
   "metadata": {},
   "outputs": [],
   "source": [
    "#gene_expression_df.to_pickle('GSE239626_gene_expression_matrix.pkl')"
   ]
  },
  {
   "cell_type": "code",
   "execution_count": 37,
   "metadata": {},
   "outputs": [],
   "source": [
    "antibody_capture_df.to_pickle('GSE239626_antibody_capture_matrix.pkl')"
   ]
  },
  {
   "cell_type": "code",
   "execution_count": 38,
   "metadata": {},
   "outputs": [],
   "source": [
    "#matrix_df.to_pickle('GSE239626_genomic_matrix_matrix.pkl')"
   ]
  },
  {
   "cell_type": "code",
   "execution_count": null,
   "metadata": {},
   "outputs": [],
   "source": [
    "SERIES_MATRIX_PATH = 'GSE239626\\GSE239626\\GSE239626_series_matrix.txt\\GSE239626_series_matrix.txt'"
   ]
  }
 ],
 "metadata": {
  "kernelspec": {
   "display_name": "base",
   "language": "python",
   "name": "python3"
  },
  "language_info": {
   "codemirror_mode": {
    "name": "ipython",
    "version": 3
   },
   "file_extension": ".py",
   "mimetype": "text/x-python",
   "name": "python",
   "nbconvert_exporter": "python",
   "pygments_lexer": "ipython3",
   "version": "3.10.9"
  }
 },
 "nbformat": 4,
 "nbformat_minor": 2
}
