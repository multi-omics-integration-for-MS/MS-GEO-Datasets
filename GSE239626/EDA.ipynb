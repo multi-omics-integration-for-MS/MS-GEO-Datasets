{
 "cells": [
  {
   "cell_type": "code",
   "execution_count": 38,
   "metadata": {},
   "outputs": [],
   "source": [
    "import scanpy as sc\n",
    "import pandas as pd\n",
    "import numpy as np\n",
    "import matplotlib.pyplot as plt\n",
    "\n",
    "DATA_PATH = 'MTX'"
   ]
  },
  {
   "cell_type": "code",
   "execution_count": 39,
   "metadata": {},
   "outputs": [
    {
     "data": {
      "text/plain": [
       "AnnData object with n_obs × n_vars = 72317 × 36636\n",
       "    var: 'gene_ids', 'feature_types'"
      ]
     },
     "execution_count": 39,
     "metadata": {},
     "output_type": "execute_result"
    }
   ],
   "source": [
    "adata = sc.read_10x_mtx(\n",
    "    DATA_PATH,\n",
    "    var_names='gene_symbols',\n",
    "    gex_only=False,\n",
    "    cache=True)\n",
    "\n",
    "adata.var_names_make_unique()\n",
    "adata"
   ]
  },
  {
   "cell_type": "code",
   "execution_count": 40,
   "metadata": {},
   "outputs": [
    {
     "data": {
      "text/html": [
       "<div>\n",
       "<style scoped>\n",
       "    .dataframe tbody tr th:only-of-type {\n",
       "        vertical-align: middle;\n",
       "    }\n",
       "\n",
       "    .dataframe tbody tr th {\n",
       "        vertical-align: top;\n",
       "    }\n",
       "\n",
       "    .dataframe thead th {\n",
       "        text-align: right;\n",
       "    }\n",
       "</style>\n",
       "<table border=\"1\" class=\"dataframe\">\n",
       "  <thead>\n",
       "    <tr style=\"text-align: right;\">\n",
       "      <th></th>\n",
       "      <th>gene_ids</th>\n",
       "      <th>feature_types</th>\n",
       "    </tr>\n",
       "  </thead>\n",
       "  <tbody>\n",
       "    <tr>\n",
       "      <th>MIR1302-2HG</th>\n",
       "      <td>ENSG00000243485</td>\n",
       "      <td>Gene Expression</td>\n",
       "    </tr>\n",
       "    <tr>\n",
       "      <th>FAM138A</th>\n",
       "      <td>ENSG00000237613</td>\n",
       "      <td>Gene Expression</td>\n",
       "    </tr>\n",
       "    <tr>\n",
       "      <th>OR4F5</th>\n",
       "      <td>ENSG00000186092</td>\n",
       "      <td>Gene Expression</td>\n",
       "    </tr>\n",
       "    <tr>\n",
       "      <th>AL627309.1</th>\n",
       "      <td>ENSG00000238009</td>\n",
       "      <td>Gene Expression</td>\n",
       "    </tr>\n",
       "    <tr>\n",
       "      <th>AL627309.3</th>\n",
       "      <td>ENSG00000239945</td>\n",
       "      <td>Gene Expression</td>\n",
       "    </tr>\n",
       "    <tr>\n",
       "      <th>...</th>\n",
       "      <td>...</td>\n",
       "      <td>...</td>\n",
       "    </tr>\n",
       "    <tr>\n",
       "      <th>IgD_TotalSeqB</th>\n",
       "      <td>IgD</td>\n",
       "      <td>Antibody Capture</td>\n",
       "    </tr>\n",
       "    <tr>\n",
       "      <th>IgM_TotalSeqB</th>\n",
       "      <td>IgM</td>\n",
       "      <td>Antibody Capture</td>\n",
       "    </tr>\n",
       "    <tr>\n",
       "      <th>LAG3_TotalSeqB</th>\n",
       "      <td>LAG3</td>\n",
       "      <td>Antibody Capture</td>\n",
       "    </tr>\n",
       "    <tr>\n",
       "      <th>TCRVa7.2_TotalSeqB</th>\n",
       "      <td>TCRVa7.2</td>\n",
       "      <td>Antibody Capture</td>\n",
       "    </tr>\n",
       "    <tr>\n",
       "      <th>TCRgd_TotalSeqB</th>\n",
       "      <td>TCRgd</td>\n",
       "      <td>Antibody Capture</td>\n",
       "    </tr>\n",
       "  </tbody>\n",
       "</table>\n",
       "<p>36636 rows × 2 columns</p>\n",
       "</div>"
      ],
      "text/plain": [
       "                           gene_ids     feature_types\n",
       "MIR1302-2HG         ENSG00000243485   Gene Expression\n",
       "FAM138A             ENSG00000237613   Gene Expression\n",
       "OR4F5               ENSG00000186092   Gene Expression\n",
       "AL627309.1          ENSG00000238009   Gene Expression\n",
       "AL627309.3          ENSG00000239945   Gene Expression\n",
       "...                             ...               ...\n",
       "IgD_TotalSeqB                   IgD  Antibody Capture\n",
       "IgM_TotalSeqB                   IgM  Antibody Capture\n",
       "LAG3_TotalSeqB                 LAG3  Antibody Capture\n",
       "TCRVa7.2_TotalSeqB         TCRVa7.2  Antibody Capture\n",
       "TCRgd_TotalSeqB               TCRgd  Antibody Capture\n",
       "\n",
       "[36636 rows x 2 columns]"
      ]
     },
     "execution_count": 40,
     "metadata": {},
     "output_type": "execute_result"
    }
   ],
   "source": [
    "adata.var"
   ]
  },
  {
   "cell_type": "code",
   "execution_count": 41,
   "metadata": {},
   "outputs": [
    {
     "data": {
      "text/html": [
       "<div>\n",
       "<style scoped>\n",
       "    .dataframe tbody tr th:only-of-type {\n",
       "        vertical-align: middle;\n",
       "    }\n",
       "\n",
       "    .dataframe tbody tr th {\n",
       "        vertical-align: top;\n",
       "    }\n",
       "\n",
       "    .dataframe thead th {\n",
       "        text-align: right;\n",
       "    }\n",
       "</style>\n",
       "<table border=\"1\" class=\"dataframe\">\n",
       "  <thead>\n",
       "    <tr style=\"text-align: right;\">\n",
       "      <th></th>\n",
       "      <th>gene_ids</th>\n",
       "      <th>feature_types</th>\n",
       "    </tr>\n",
       "  </thead>\n",
       "  <tbody>\n",
       "    <tr>\n",
       "      <th>count</th>\n",
       "      <td>36636</td>\n",
       "      <td>36636</td>\n",
       "    </tr>\n",
       "    <tr>\n",
       "      <th>unique</th>\n",
       "      <td>36636</td>\n",
       "      <td>2</td>\n",
       "    </tr>\n",
       "    <tr>\n",
       "      <th>top</th>\n",
       "      <td>ENSG00000243485</td>\n",
       "      <td>Gene Expression</td>\n",
       "    </tr>\n",
       "    <tr>\n",
       "      <th>freq</th>\n",
       "      <td>1</td>\n",
       "      <td>36601</td>\n",
       "    </tr>\n",
       "  </tbody>\n",
       "</table>\n",
       "</div>"
      ],
      "text/plain": [
       "               gene_ids    feature_types\n",
       "count             36636            36636\n",
       "unique            36636                2\n",
       "top     ENSG00000243485  Gene Expression\n",
       "freq                  1            36601"
      ]
     },
     "execution_count": 41,
     "metadata": {},
     "output_type": "execute_result"
    }
   ],
   "source": [
    "adata.var.describe()"
   ]
  },
  {
   "cell_type": "code",
   "execution_count": 42,
   "metadata": {},
   "outputs": [
    {
     "data": {
      "text/plain": [
       "feature_types\n",
       "Gene Expression     36601\n",
       "Antibody Capture       35\n",
       "Name: count, dtype: int64"
      ]
     },
     "execution_count": 42,
     "metadata": {},
     "output_type": "execute_result"
    }
   ],
   "source": [
    "adata.var['feature_types'].value_counts()"
   ]
  },
  {
   "cell_type": "code",
   "execution_count": 43,
   "metadata": {},
   "outputs": [],
   "source": [
    "adata.var['Total counts'] = adata.X.sum(axis=0).A1"
   ]
  },
  {
   "cell_type": "code",
   "execution_count": 44,
   "metadata": {},
   "outputs": [
    {
     "data": {
      "text/html": [
       "<div>\n",
       "<style scoped>\n",
       "    .dataframe tbody tr th:only-of-type {\n",
       "        vertical-align: middle;\n",
       "    }\n",
       "\n",
       "    .dataframe tbody tr th {\n",
       "        vertical-align: top;\n",
       "    }\n",
       "\n",
       "    .dataframe thead th {\n",
       "        text-align: right;\n",
       "    }\n",
       "</style>\n",
       "<table border=\"1\" class=\"dataframe\">\n",
       "  <thead>\n",
       "    <tr style=\"text-align: right;\">\n",
       "      <th></th>\n",
       "      <th>Total counts</th>\n",
       "    </tr>\n",
       "  </thead>\n",
       "  <tbody>\n",
       "    <tr>\n",
       "      <th>count</th>\n",
       "      <td>3.663600e+04</td>\n",
       "    </tr>\n",
       "    <tr>\n",
       "      <th>mean</th>\n",
       "      <td>1.219822e+04</td>\n",
       "    </tr>\n",
       "    <tr>\n",
       "      <th>std</th>\n",
       "      <td>2.947327e+05</td>\n",
       "    </tr>\n",
       "    <tr>\n",
       "      <th>min</th>\n",
       "      <td>0.000000e+00</td>\n",
       "    </tr>\n",
       "    <tr>\n",
       "      <th>25%</th>\n",
       "      <td>1.000000e+00</td>\n",
       "    </tr>\n",
       "    <tr>\n",
       "      <th>50%</th>\n",
       "      <td>4.800000e+01</td>\n",
       "    </tr>\n",
       "    <tr>\n",
       "      <th>75%</th>\n",
       "      <td>1.911250e+03</td>\n",
       "    </tr>\n",
       "    <tr>\n",
       "      <th>max</th>\n",
       "      <td>3.084658e+07</td>\n",
       "    </tr>\n",
       "  </tbody>\n",
       "</table>\n",
       "</div>"
      ],
      "text/plain": [
       "       Total counts\n",
       "count  3.663600e+04\n",
       "mean   1.219822e+04\n",
       "std    2.947327e+05\n",
       "min    0.000000e+00\n",
       "25%    1.000000e+00\n",
       "50%    4.800000e+01\n",
       "75%    1.911250e+03\n",
       "max    3.084658e+07"
      ]
     },
     "execution_count": 44,
     "metadata": {},
     "output_type": "execute_result"
    }
   ],
   "source": [
    "adata.var.describe()"
   ]
  },
  {
   "cell_type": "code",
   "execution_count": 45,
   "metadata": {},
   "outputs": [
    {
     "data": {
      "text/html": [
       "<div>\n",
       "<style scoped>\n",
       "    .dataframe tbody tr th:only-of-type {\n",
       "        vertical-align: middle;\n",
       "    }\n",
       "\n",
       "    .dataframe tbody tr th {\n",
       "        vertical-align: top;\n",
       "    }\n",
       "\n",
       "    .dataframe thead th {\n",
       "        text-align: right;\n",
       "    }\n",
       "</style>\n",
       "<table border=\"1\" class=\"dataframe\">\n",
       "  <thead>\n",
       "    <tr style=\"text-align: right;\">\n",
       "      <th></th>\n",
       "      <th>gene_ids</th>\n",
       "      <th>feature_types</th>\n",
       "      <th>Total counts</th>\n",
       "    </tr>\n",
       "  </thead>\n",
       "  <tbody>\n",
       "    <tr>\n",
       "      <th>MIR1302-2HG</th>\n",
       "      <td>ENSG00000243485</td>\n",
       "      <td>Gene Expression</td>\n",
       "      <td>0.0</td>\n",
       "    </tr>\n",
       "    <tr>\n",
       "      <th>FAM138A</th>\n",
       "      <td>ENSG00000237613</td>\n",
       "      <td>Gene Expression</td>\n",
       "      <td>0.0</td>\n",
       "    </tr>\n",
       "    <tr>\n",
       "      <th>OR4F5</th>\n",
       "      <td>ENSG00000186092</td>\n",
       "      <td>Gene Expression</td>\n",
       "      <td>0.0</td>\n",
       "    </tr>\n",
       "    <tr>\n",
       "      <th>AL627309.1</th>\n",
       "      <td>ENSG00000238009</td>\n",
       "      <td>Gene Expression</td>\n",
       "      <td>145.0</td>\n",
       "    </tr>\n",
       "    <tr>\n",
       "      <th>AL627309.3</th>\n",
       "      <td>ENSG00000239945</td>\n",
       "      <td>Gene Expression</td>\n",
       "      <td>9.0</td>\n",
       "    </tr>\n",
       "    <tr>\n",
       "      <th>...</th>\n",
       "      <td>...</td>\n",
       "      <td>...</td>\n",
       "      <td>...</td>\n",
       "    </tr>\n",
       "    <tr>\n",
       "      <th>IgD_TotalSeqB</th>\n",
       "      <td>IgD</td>\n",
       "      <td>Antibody Capture</td>\n",
       "      <td>1422630.0</td>\n",
       "    </tr>\n",
       "    <tr>\n",
       "      <th>IgM_TotalSeqB</th>\n",
       "      <td>IgM</td>\n",
       "      <td>Antibody Capture</td>\n",
       "      <td>7127866.0</td>\n",
       "    </tr>\n",
       "    <tr>\n",
       "      <th>LAG3_TotalSeqB</th>\n",
       "      <td>LAG3</td>\n",
       "      <td>Antibody Capture</td>\n",
       "      <td>41436.0</td>\n",
       "    </tr>\n",
       "    <tr>\n",
       "      <th>TCRVa7.2_TotalSeqB</th>\n",
       "      <td>TCRVa7.2</td>\n",
       "      <td>Antibody Capture</td>\n",
       "      <td>417350.0</td>\n",
       "    </tr>\n",
       "    <tr>\n",
       "      <th>TCRgd_TotalSeqB</th>\n",
       "      <td>TCRgd</td>\n",
       "      <td>Antibody Capture</td>\n",
       "      <td>288179.0</td>\n",
       "    </tr>\n",
       "  </tbody>\n",
       "</table>\n",
       "<p>36636 rows × 3 columns</p>\n",
       "</div>"
      ],
      "text/plain": [
       "                           gene_ids     feature_types  Total counts\n",
       "MIR1302-2HG         ENSG00000243485   Gene Expression           0.0\n",
       "FAM138A             ENSG00000237613   Gene Expression           0.0\n",
       "OR4F5               ENSG00000186092   Gene Expression           0.0\n",
       "AL627309.1          ENSG00000238009   Gene Expression         145.0\n",
       "AL627309.3          ENSG00000239945   Gene Expression           9.0\n",
       "...                             ...               ...           ...\n",
       "IgD_TotalSeqB                   IgD  Antibody Capture     1422630.0\n",
       "IgM_TotalSeqB                   IgM  Antibody Capture     7127866.0\n",
       "LAG3_TotalSeqB                 LAG3  Antibody Capture       41436.0\n",
       "TCRVa7.2_TotalSeqB         TCRVa7.2  Antibody Capture      417350.0\n",
       "TCRgd_TotalSeqB               TCRgd  Antibody Capture      288179.0\n",
       "\n",
       "[36636 rows x 3 columns]"
      ]
     },
     "execution_count": 45,
     "metadata": {},
     "output_type": "execute_result"
    }
   ],
   "source": [
    "adata.var"
   ]
  },
  {
   "cell_type": "code",
   "execution_count": 46,
   "metadata": {},
   "outputs": [
    {
     "data": {
      "image/png": "[encoded data removed]",
      "text/plain": [
       "<Figure size 1800x300 with 1 Axes>"
      ]
     },
     "metadata": {},
     "output_type": "display_data"
    }
   ],
   "source": [
    "plt.figure(figsize=(18, 3))\n",
    "adata.var[adata.var['feature_types'] == 'Gene Expression']['Total counts'].plot(kind='hist', bins=100, logy=True, logx=False)\n",
    "plt.xlabel('Total counts for gene');"
   ]
  },
  {
   "cell_type": "code",
   "execution_count": 47,
   "metadata": {},
   "outputs": [
    {
     "data": {
      "text/html": [
       "<div>\n",
       "<style scoped>\n",
       "    .dataframe tbody tr th:only-of-type {\n",
       "        vertical-align: middle;\n",
       "    }\n",
       "\n",
       "    .dataframe tbody tr th {\n",
       "        vertical-align: top;\n",
       "    }\n",
       "\n",
       "    .dataframe thead th {\n",
       "        text-align: right;\n",
       "    }\n",
       "</style>\n",
       "<table border=\"1\" class=\"dataframe\">\n",
       "  <thead>\n",
       "    <tr style=\"text-align: right;\">\n",
       "      <th></th>\n",
       "      <th>Total counts</th>\n",
       "    </tr>\n",
       "  </thead>\n",
       "  <tbody>\n",
       "    <tr>\n",
       "      <th>count</th>\n",
       "      <td>3.660100e+04</td>\n",
       "    </tr>\n",
       "    <tr>\n",
       "      <th>mean</th>\n",
       "      <td>8.231513e+03</td>\n",
       "    </tr>\n",
       "    <tr>\n",
       "      <th>std</th>\n",
       "      <td>1.514445e+05</td>\n",
       "    </tr>\n",
       "    <tr>\n",
       "      <th>min</th>\n",
       "      <td>0.000000e+00</td>\n",
       "    </tr>\n",
       "    <tr>\n",
       "      <th>25%</th>\n",
       "      <td>1.000000e+00</td>\n",
       "    </tr>\n",
       "    <tr>\n",
       "      <th>50%</th>\n",
       "      <td>4.800000e+01</td>\n",
       "    </tr>\n",
       "    <tr>\n",
       "      <th>75%</th>\n",
       "      <td>1.888000e+03</td>\n",
       "    </tr>\n",
       "    <tr>\n",
       "      <th>max</th>\n",
       "      <td>2.168773e+07</td>\n",
       "    </tr>\n",
       "  </tbody>\n",
       "</table>\n",
       "</div>"
      ],
      "text/plain": [
       "       Total counts\n",
       "count  3.660100e+04\n",
       "mean   8.231513e+03\n",
       "std    1.514445e+05\n",
       "min    0.000000e+00\n",
       "25%    1.000000e+00\n",
       "50%    4.800000e+01\n",
       "75%    1.888000e+03\n",
       "max    2.168773e+07"
      ]
     },
     "execution_count": 47,
     "metadata": {},
     "output_type": "execute_result"
    }
   ],
   "source": [
    "adata.var[adata.var['feature_types'] == 'Gene Expression'].describe()"
   ]
  },
  {
   "cell_type": "code",
   "execution_count": 48,
   "metadata": {},
   "outputs": [
    {
     "name": "stderr",
     "output_type": "stream",
     "text": [
      "c:\\Users\\giuli\\anaconda3\\lib\\site-packages\\scanpy\\preprocessing\\_normalization.py:206: UserWarning: Received a view of an AnnData. Making a copy.\n",
      "  view_to_actual(adata)\n"
     ]
    },
    {
     "data": {
      "image/png": "[encoded data removed]",
      "text/plain": [
       "<Figure size 500x550 with 1 Axes>"
      ]
     },
     "metadata": {},
     "output_type": "display_data"
    }
   ],
   "source": [
    "# visualize most highly expressed genes\n",
    "sc.pl.highest_expr_genes(adata[:, adata.var['feature_types'] == 'Gene Expression'], n_top=20);"
   ]
  },
  {
   "cell_type": "code",
   "execution_count": 52,
   "metadata": {},
   "outputs": [],
   "source": [
    "adata[:, adata.var['feature_types'] == 'Antibody Capture'].var_names = adata[\n",
    "    :, adata.var['feature_types'] == 'Antibody Capture'].var_names.str.split('_').str[0]"
   ]
  },
  {
   "cell_type": "code",
   "execution_count": 58,
   "metadata": {},
   "outputs": [
    {
     "name": "stderr",
     "output_type": "stream",
     "text": [
      "c:\\Users\\giuli\\anaconda3\\lib\\site-packages\\scanpy\\preprocessing\\_normalization.py:206: UserWarning: Received a view of an AnnData. Making a copy.\n",
      "  view_to_actual(adata)\n",
      "c:\\Users\\giuli\\anaconda3\\lib\\site-packages\\scanpy\\preprocessing\\_normalization.py:233: UserWarning: Some cells have zero counts\n",
      "  warn(UserWarning(\"Some cells have zero counts\"))\n",
      "c:\\Users\\giuli\\anaconda3\\lib\\site-packages\\scanpy\\plotting\\_qc.py:89: FutureWarning: Series.__getitem__ treating keys as positions is deprecated. In a future version, integer keys will always be treated as labels (consistent with DataFrame behavior). To access a value by position, use `ser.iloc[pos]`\n",
      "  else adata.var[gene_symbols][top_idx]\n"
     ]
    },
    {
     "data": {
      "image/png": "[encoded data removed]",
      "text/plain": [
       "<Figure size 500x550 with 1 Axes>"
      ]
     },
     "metadata": {},
     "output_type": "display_data"
    }
   ],
   "source": [
    "# visualize most highly expressed genes\n",
    "sc.pl.highest_expr_genes(adata[:, adata.var['feature_types'] == 'Antibody Capture'], n_top=20, gene_symbols='gene_ids');"
   ]
  },
  {
   "cell_type": "code",
   "execution_count": 13,
   "metadata": {},
   "outputs": [
    {
     "data": {
      "image/png": "[encoded data removed]",
      "text/plain": [
       "<Figure size 1800x300 with 1 Axes>"
      ]
     },
     "metadata": {},
     "output_type": "display_data"
    }
   ],
   "source": [
    "plt.figure(figsize=(18, 3))\n",
    "adata.var[adata.var['feature_types'] == 'Antibody Capture']['Total counts'].plot(kind='bar', logy=True, logx=False)\n",
    "plt.xlabel('Antibody Capture')\n",
    "plt.ylabel('Total counts');"
   ]
  },
  {
   "cell_type": "code",
   "execution_count": 14,
   "metadata": {},
   "outputs": [],
   "source": [
    "adata.obs['Total counts'] = adata.X.sum(axis=1).A1\n",
    "adata.obs['Total counts antibody'] = adata[:, adata.var['feature_types'] == 'Antibody Capture'].X.sum(axis=1).A1\n",
    "adata.obs['Total counts genes'] = adata[:, adata.var['feature_types'] == 'Gene Expression'].X.sum(axis=1).A1"
   ]
  },
  {
   "cell_type": "code",
   "execution_count": 15,
   "metadata": {},
   "outputs": [
    {
     "data": {
      "text/html": [
       "<div>\n",
       "<style scoped>\n",
       "    .dataframe tbody tr th:only-of-type {\n",
       "        vertical-align: middle;\n",
       "    }\n",
       "\n",
       "    .dataframe tbody tr th {\n",
       "        vertical-align: top;\n",
       "    }\n",
       "\n",
       "    .dataframe thead th {\n",
       "        text-align: right;\n",
       "    }\n",
       "</style>\n",
       "<table border=\"1\" class=\"dataframe\">\n",
       "  <thead>\n",
       "    <tr style=\"text-align: right;\">\n",
       "      <th></th>\n",
       "      <th>Total counts</th>\n",
       "      <th>Total counts antibody</th>\n",
       "      <th>Total counts genes</th>\n",
       "    </tr>\n",
       "  </thead>\n",
       "  <tbody>\n",
       "    <tr>\n",
       "      <th>count</th>\n",
       "      <td>72317.000000</td>\n",
       "      <td>72317.000000</td>\n",
       "      <td>72317.000000</td>\n",
       "    </tr>\n",
       "    <tr>\n",
       "      <th>mean</th>\n",
       "      <td>6179.653809</td>\n",
       "      <td>2013.529541</td>\n",
       "      <td>4166.124023</td>\n",
       "    </tr>\n",
       "    <tr>\n",
       "      <th>std</th>\n",
       "      <td>4337.226074</td>\n",
       "      <td>2769.344482</td>\n",
       "      <td>2863.764160</td>\n",
       "    </tr>\n",
       "    <tr>\n",
       "      <th>min</th>\n",
       "      <td>314.000000</td>\n",
       "      <td>0.000000</td>\n",
       "      <td>311.000000</td>\n",
       "    </tr>\n",
       "    <tr>\n",
       "      <th>25%</th>\n",
       "      <td>3327.000000</td>\n",
       "      <td>1176.000000</td>\n",
       "      <td>1806.000000</td>\n",
       "    </tr>\n",
       "    <tr>\n",
       "      <th>50%</th>\n",
       "      <td>5464.000000</td>\n",
       "      <td>1650.000000</td>\n",
       "      <td>3433.000000</td>\n",
       "    </tr>\n",
       "    <tr>\n",
       "      <th>75%</th>\n",
       "      <td>8303.000000</td>\n",
       "      <td>2373.000000</td>\n",
       "      <td>6084.000000</td>\n",
       "    </tr>\n",
       "    <tr>\n",
       "      <th>max</th>\n",
       "      <td>302567.000000</td>\n",
       "      <td>283990.000000</td>\n",
       "      <td>40142.000000</td>\n",
       "    </tr>\n",
       "  </tbody>\n",
       "</table>\n",
       "</div>"
      ],
      "text/plain": [
       "        Total counts  Total counts antibody  Total counts genes\n",
       "count   72317.000000           72317.000000        72317.000000\n",
       "mean     6179.653809            2013.529541         4166.124023\n",
       "std      4337.226074            2769.344482         2863.764160\n",
       "min       314.000000               0.000000          311.000000\n",
       "25%      3327.000000            1176.000000         1806.000000\n",
       "50%      5464.000000            1650.000000         3433.000000\n",
       "75%      8303.000000            2373.000000         6084.000000\n",
       "max    302567.000000          283990.000000        40142.000000"
      ]
     },
     "execution_count": 15,
     "metadata": {},
     "output_type": "execute_result"
    }
   ],
   "source": [
    "adata.obs.describe()"
   ]
  },
  {
   "cell_type": "code",
   "execution_count": 16,
   "metadata": {},
   "outputs": [
    {
     "data": {
      "image/png": "[encoded data removed]",
      "text/plain": [
       "<Figure size 1500x400 with 2 Axes>"
      ]
     },
     "metadata": {},
     "output_type": "display_data"
    }
   ],
   "source": [
    "fig, axs = plt.subplots(1, 2, figsize=(15, 4), sharey=True)\n",
    "adata.obs['Total counts genes'].plot(kind='hist', bins=100, logy=True, logx=False, ax=axs[0],\n",
    "    edgecolor='black', linewidth=0.8, alpha=0.5)\n",
    "axs[0].set_title('Total counts of genes expressed per cells distribution')\n",
    "adata.obs['Total counts antibody'].plot(kind='hist', bins=100, logy=True, logx=False, ax=axs[1],\n",
    "    edgecolor='black', linewidth=0.8, alpha=0.5)\n",
    "axs[1].set_title('Total counts of antibodies expressed per cells distribution')\n",
    "axs[0].set_xlabel('Total counts per cell')\n",
    "axs[1].set_xlabel('Total counts per cell')\n",
    "plt.show()"
   ]
  },
  {
   "cell_type": "code",
   "execution_count": 18,
   "metadata": {},
   "outputs": [
    {
     "data": {
      "text/plain": [
       "AnnData object with n_obs × n_vars = 72317 × 36636\n",
       "    obs: 'Total counts', 'Total counts antibody', 'Total counts genes'\n",
       "    var: 'gene_ids', 'feature_types', 'Total counts'"
      ]
     },
     "execution_count": 18,
     "metadata": {},
     "output_type": "execute_result"
    }
   ],
   "source": [
    "adata"
   ]
  },
  {
   "cell_type": "code",
   "execution_count": 20,
   "metadata": {},
   "outputs": [
    {
     "data": {
      "text/html": [
       "<div>\n",
       "<style scoped>\n",
       "    .dataframe tbody tr th:only-of-type {\n",
       "        vertical-align: middle;\n",
       "    }\n",
       "\n",
       "    .dataframe tbody tr th {\n",
       "        vertical-align: top;\n",
       "    }\n",
       "\n",
       "    .dataframe thead th {\n",
       "        text-align: right;\n",
       "    }\n",
       "</style>\n",
       "<table border=\"1\" class=\"dataframe\">\n",
       "  <thead>\n",
       "    <tr style=\"text-align: right;\">\n",
       "      <th></th>\n",
       "      <th>Total counts</th>\n",
       "      <th>Total counts antibody</th>\n",
       "      <th>Total counts genes</th>\n",
       "    </tr>\n",
       "  </thead>\n",
       "  <tbody>\n",
       "    <tr>\n",
       "      <th>count</th>\n",
       "      <td>72317.000000</td>\n",
       "      <td>72317.000000</td>\n",
       "      <td>72317.000000</td>\n",
       "    </tr>\n",
       "    <tr>\n",
       "      <th>mean</th>\n",
       "      <td>6179.653809</td>\n",
       "      <td>2013.529541</td>\n",
       "      <td>4166.124023</td>\n",
       "    </tr>\n",
       "    <tr>\n",
       "      <th>std</th>\n",
       "      <td>4337.226074</td>\n",
       "      <td>2769.344482</td>\n",
       "      <td>2863.764160</td>\n",
       "    </tr>\n",
       "    <tr>\n",
       "      <th>min</th>\n",
       "      <td>314.000000</td>\n",
       "      <td>0.000000</td>\n",
       "      <td>311.000000</td>\n",
       "    </tr>\n",
       "    <tr>\n",
       "      <th>25%</th>\n",
       "      <td>3327.000000</td>\n",
       "      <td>1176.000000</td>\n",
       "      <td>1806.000000</td>\n",
       "    </tr>\n",
       "    <tr>\n",
       "      <th>50%</th>\n",
       "      <td>5464.000000</td>\n",
       "      <td>1650.000000</td>\n",
       "      <td>3433.000000</td>\n",
       "    </tr>\n",
       "    <tr>\n",
       "      <th>75%</th>\n",
       "      <td>8303.000000</td>\n",
       "      <td>2373.000000</td>\n",
       "      <td>6084.000000</td>\n",
       "    </tr>\n",
       "    <tr>\n",
       "      <th>max</th>\n",
       "      <td>302567.000000</td>\n",
       "      <td>283990.000000</td>\n",
       "      <td>40142.000000</td>\n",
       "    </tr>\n",
       "  </tbody>\n",
       "</table>\n",
       "</div>"
      ],
      "text/plain": [
       "        Total counts  Total counts antibody  Total counts genes\n",
       "count   72317.000000           72317.000000        72317.000000\n",
       "mean     6179.653809            2013.529541         4166.124023\n",
       "std      4337.226074            2769.344482         2863.764160\n",
       "min       314.000000               0.000000          311.000000\n",
       "25%      3327.000000            1176.000000         1806.000000\n",
       "50%      5464.000000            1650.000000         3433.000000\n",
       "75%      8303.000000            2373.000000         6084.000000\n",
       "max    302567.000000          283990.000000        40142.000000"
      ]
     },
     "execution_count": 20,
     "metadata": {},
     "output_type": "execute_result"
    }
   ],
   "source": [
    "adata.obs.describe()"
   ]
  },
  {
   "cell_type": "markdown",
   "metadata": {},
   "source": [
    "### Only Genes"
   ]
  },
  {
   "cell_type": "code",
   "execution_count": 21,
   "metadata": {},
   "outputs": [],
   "source": [
    "PATH = 'GSE239626'\n",
    "\n",
    "adata = sc.read(PATH)"
   ]
  },
  {
   "cell_type": "code",
   "execution_count": 22,
   "metadata": {},
   "outputs": [
    {
     "data": {
      "text/plain": [
       "AnnData object with n_obs × n_vars = 72317 × 36601\n",
       "    obs: 'dataset', 'disease', 'cell_type', 'patiens', 'patiens_id', 'time'\n",
       "    var: 'gene_ids', 'feature_types'"
      ]
     },
     "execution_count": 22,
     "metadata": {},
     "output_type": "execute_result"
    }
   ],
   "source": [
    "adata"
   ]
  },
  {
   "cell_type": "code",
   "execution_count": 23,
   "metadata": {},
   "outputs": [
    {
     "data": {
      "text/html": [
       "<div>\n",
       "<style scoped>\n",
       "    .dataframe tbody tr th:only-of-type {\n",
       "        vertical-align: middle;\n",
       "    }\n",
       "\n",
       "    .dataframe tbody tr th {\n",
       "        vertical-align: top;\n",
       "    }\n",
       "\n",
       "    .dataframe thead th {\n",
       "        text-align: right;\n",
       "    }\n",
       "</style>\n",
       "<table border=\"1\" class=\"dataframe\">\n",
       "  <thead>\n",
       "    <tr style=\"text-align: right;\">\n",
       "      <th></th>\n",
       "      <th>dataset</th>\n",
       "      <th>disease</th>\n",
       "      <th>cell_type</th>\n",
       "      <th>patiens</th>\n",
       "      <th>patiens_id</th>\n",
       "      <th>time</th>\n",
       "    </tr>\n",
       "  </thead>\n",
       "  <tbody>\n",
       "    <tr>\n",
       "      <th>AAACCCAAGACTGTTC-1</th>\n",
       "      <td>GSE239626</td>\n",
       "      <td>MS</td>\n",
       "      <td>PBMC</td>\n",
       "      <td>GSM7669046</td>\n",
       "      <td>N1</td>\n",
       "      <td>J0</td>\n",
       "    </tr>\n",
       "    <tr>\n",
       "      <th>AAACCCAAGGATCATA-1</th>\n",
       "      <td>GSE239626</td>\n",
       "      <td>MS</td>\n",
       "      <td>PBMC</td>\n",
       "      <td>GSM7669046</td>\n",
       "      <td>N1</td>\n",
       "      <td>J0</td>\n",
       "    </tr>\n",
       "    <tr>\n",
       "      <th>AAACCCAGTTATTCTC-1</th>\n",
       "      <td>GSE239626</td>\n",
       "      <td>MS</td>\n",
       "      <td>PBMC</td>\n",
       "      <td>GSM7669046</td>\n",
       "      <td>N1</td>\n",
       "      <td>J0</td>\n",
       "    </tr>\n",
       "    <tr>\n",
       "      <th>AAACCCATCATGAGGG-1</th>\n",
       "      <td>GSE239626</td>\n",
       "      <td>MS</td>\n",
       "      <td>PBMC</td>\n",
       "      <td>GSM7669046</td>\n",
       "      <td>N1</td>\n",
       "      <td>J0</td>\n",
       "    </tr>\n",
       "    <tr>\n",
       "      <th>AAACGAAAGCCAGTAG-1</th>\n",
       "      <td>GSE239626</td>\n",
       "      <td>MS</td>\n",
       "      <td>PBMC</td>\n",
       "      <td>GSM7669046</td>\n",
       "      <td>N1</td>\n",
       "      <td>J0</td>\n",
       "    </tr>\n",
       "    <tr>\n",
       "      <th>...</th>\n",
       "      <td>...</td>\n",
       "      <td>...</td>\n",
       "      <td>...</td>\n",
       "      <td>...</td>\n",
       "      <td>...</td>\n",
       "      <td>...</td>\n",
       "    </tr>\n",
       "    <tr>\n",
       "      <th>TTTGTTGAGCGTCGAA-20</th>\n",
       "      <td>GSE239626</td>\n",
       "      <td>MS</td>\n",
       "      <td>PBMC</td>\n",
       "      <td>GSM7669084</td>\n",
       "      <td>N5</td>\n",
       "      <td>M3</td>\n",
       "    </tr>\n",
       "    <tr>\n",
       "      <th>TTTGTTGAGTGTACCT-20</th>\n",
       "      <td>GSE239626</td>\n",
       "      <td>MS</td>\n",
       "      <td>PBMC</td>\n",
       "      <td>GSM7669084</td>\n",
       "      <td>N5</td>\n",
       "      <td>M3</td>\n",
       "    </tr>\n",
       "    <tr>\n",
       "      <th>TTTGTTGCAATTGCAC-20</th>\n",
       "      <td>GSE239626</td>\n",
       "      <td>MS</td>\n",
       "      <td>PBMC</td>\n",
       "      <td>GSM7669084</td>\n",
       "      <td>N5</td>\n",
       "      <td>M3</td>\n",
       "    </tr>\n",
       "    <tr>\n",
       "      <th>TTTGTTGCATTCAGCA-20</th>\n",
       "      <td>GSE239626</td>\n",
       "      <td>MS</td>\n",
       "      <td>PBMC</td>\n",
       "      <td>GSM7669084</td>\n",
       "      <td>N5</td>\n",
       "      <td>M3</td>\n",
       "    </tr>\n",
       "    <tr>\n",
       "      <th>TTTGTTGGTGGGTTGA-20</th>\n",
       "      <td>GSE239626</td>\n",
       "      <td>MS</td>\n",
       "      <td>PBMC</td>\n",
       "      <td>GSM7669084</td>\n",
       "      <td>N5</td>\n",
       "      <td>M3</td>\n",
       "    </tr>\n",
       "  </tbody>\n",
       "</table>\n",
       "<p>72317 rows × 6 columns</p>\n",
       "</div>"
      ],
      "text/plain": [
       "                       dataset disease cell_type     patiens patiens_id time\n",
       "AAACCCAAGACTGTTC-1   GSE239626      MS      PBMC  GSM7669046         N1   J0\n",
       "AAACCCAAGGATCATA-1   GSE239626      MS      PBMC  GSM7669046         N1   J0\n",
       "AAACCCAGTTATTCTC-1   GSE239626      MS      PBMC  GSM7669046         N1   J0\n",
       "AAACCCATCATGAGGG-1   GSE239626      MS      PBMC  GSM7669046         N1   J0\n",
       "AAACGAAAGCCAGTAG-1   GSE239626      MS      PBMC  GSM7669046         N1   J0\n",
       "...                        ...     ...       ...         ...        ...  ...\n",
       "TTTGTTGAGCGTCGAA-20  GSE239626      MS      PBMC  GSM7669084         N5   M3\n",
       "TTTGTTGAGTGTACCT-20  GSE239626      MS      PBMC  GSM7669084         N5   M3\n",
       "TTTGTTGCAATTGCAC-20  GSE239626      MS      PBMC  GSM7669084         N5   M3\n",
       "TTTGTTGCATTCAGCA-20  GSE239626      MS      PBMC  GSM7669084         N5   M3\n",
       "TTTGTTGGTGGGTTGA-20  GSE239626      MS      PBMC  GSM7669084         N5   M3\n",
       "\n",
       "[72317 rows x 6 columns]"
      ]
     },
     "execution_count": 23,
     "metadata": {},
     "output_type": "execute_result"
    }
   ],
   "source": [
    "adata.obs"
   ]
  },
  {
   "cell_type": "code",
   "execution_count": 25,
   "metadata": {},
   "outputs": [
    {
     "data": {
      "text/plain": [
       "20"
      ]
     },
     "execution_count": 25,
     "metadata": {},
     "output_type": "execute_result"
    }
   ],
   "source": [
    "len(adata.obs['patiens'].unique())"
   ]
  },
  {
   "cell_type": "code",
   "execution_count": 26,
   "metadata": {},
   "outputs": [
    {
     "data": {
      "text/plain": [
       "['GSM7669046', 'GSM7669048', 'GSM7669050', 'GSM7669052', 'GSM7669054', ..., 'GSM7669076', 'GSM7669078', 'GSM7669080', 'GSM7669082', 'GSM7669084']\n",
       "Length: 20\n",
       "Categories (20, object): ['GSM7669046', 'GSM7669048', 'GSM7669050', 'GSM7669052', ..., 'GSM7669078', 'GSM7669080', 'GSM7669082', 'GSM7669084']"
      ]
     },
     "execution_count": 26,
     "metadata": {},
     "output_type": "execute_result"
    }
   ],
   "source": [
    "adata.obs['patiens'].unique()"
   ]
  },
  {
   "cell_type": "code",
   "execution_count": 27,
   "metadata": {},
   "outputs": [
    {
     "name": "stderr",
     "output_type": "stream",
     "text": [
      "C:\\Users\\giuli\\AppData\\Local\\Temp\\ipykernel_2120\\2125955697.py:7: FutureWarning: Setting an item of incompatible dtype is deprecated and will raise an error in a future version of pandas. Value 'GSM7669046-GSM7669048' has dtype incompatible with float64, please explicitly cast to a compatible dtype first.\n",
      "  adata.obs.at[index, 'patient_id'] = patiens[i]+'-'+patiens[i+1]\n"
     ]
    }
   ],
   "source": [
    "patiens = adata.obs['patiens'].unique()\n",
    "adata.obs['patient_id'] = np.nan\n",
    "\n",
    "# accoppia a due a due i pazienti\n",
    "for i in range(0, len(patiens), 2):\n",
    "    for index, row in adata.obs[adata.obs['patiens']==patiens[i]].iterrows():\n",
    "        adata.obs.at[index, 'patient_id'] = patiens[i]+'-'+patiens[i+1]\n",
    "    for index, row in adata.obs[adata.obs['patiens']==patiens[i+1]].iterrows():\n",
    "        adata.obs.at[index, 'patient_id'] = patiens[i]+'-'+patiens[i+1]"
   ]
  },
  {
   "cell_type": "code",
   "execution_count": 28,
   "metadata": {},
   "outputs": [
    {
     "data": {
      "text/plain": [
       "array(['GSM7669046-GSM7669048', 'GSM7669050-GSM7669052',\n",
       "       'GSM7669054-GSM7669056', 'GSM7669058-GSM7669060',\n",
       "       'GSM7669062-GSM7669064', 'GSM7669066-GSM7669068',\n",
       "       'GSM7669070-GSM7669072', 'GSM7669074-GSM7669076',\n",
       "       'GSM7669078-GSM7669080', 'GSM7669082-GSM7669084'], dtype=object)"
      ]
     },
     "execution_count": 28,
     "metadata": {},
     "output_type": "execute_result"
    }
   ],
   "source": [
    "adata.obs['patient_id'].unique()"
   ]
  },
  {
   "cell_type": "code",
   "execution_count": 29,
   "metadata": {},
   "outputs": [],
   "source": [
    "adata.obs['total_counts_genes'] = adata[:, adata.var['feature_types'] == 'Gene Expression'].X.sum(axis=1).A1"
   ]
  },
  {
   "cell_type": "code",
   "execution_count": 30,
   "metadata": {},
   "outputs": [
    {
     "data": {
      "text/html": [
       "<div>\n",
       "<style scoped>\n",
       "    .dataframe tbody tr th:only-of-type {\n",
       "        vertical-align: middle;\n",
       "    }\n",
       "\n",
       "    .dataframe tbody tr th {\n",
       "        vertical-align: top;\n",
       "    }\n",
       "\n",
       "    .dataframe thead th {\n",
       "        text-align: right;\n",
       "    }\n",
       "</style>\n",
       "<table border=\"1\" class=\"dataframe\">\n",
       "  <thead>\n",
       "    <tr style=\"text-align: right;\">\n",
       "      <th></th>\n",
       "      <th>total_counts_genes</th>\n",
       "    </tr>\n",
       "  </thead>\n",
       "  <tbody>\n",
       "    <tr>\n",
       "      <th>count</th>\n",
       "      <td>72317.000000</td>\n",
       "    </tr>\n",
       "    <tr>\n",
       "      <th>mean</th>\n",
       "      <td>4166.124023</td>\n",
       "    </tr>\n",
       "    <tr>\n",
       "      <th>std</th>\n",
       "      <td>2863.764160</td>\n",
       "    </tr>\n",
       "    <tr>\n",
       "      <th>min</th>\n",
       "      <td>311.000000</td>\n",
       "    </tr>\n",
       "    <tr>\n",
       "      <th>25%</th>\n",
       "      <td>1806.000000</td>\n",
       "    </tr>\n",
       "    <tr>\n",
       "      <th>50%</th>\n",
       "      <td>3433.000000</td>\n",
       "    </tr>\n",
       "    <tr>\n",
       "      <th>75%</th>\n",
       "      <td>6084.000000</td>\n",
       "    </tr>\n",
       "    <tr>\n",
       "      <th>max</th>\n",
       "      <td>40142.000000</td>\n",
       "    </tr>\n",
       "  </tbody>\n",
       "</table>\n",
       "</div>"
      ],
      "text/plain": [
       "       total_counts_genes\n",
       "count        72317.000000\n",
       "mean          4166.124023\n",
       "std           2863.764160\n",
       "min            311.000000\n",
       "25%           1806.000000\n",
       "50%           3433.000000\n",
       "75%           6084.000000\n",
       "max          40142.000000"
      ]
     },
     "execution_count": 30,
     "metadata": {},
     "output_type": "execute_result"
    }
   ],
   "source": [
    "adata.obs.describe()"
   ]
  },
  {
   "cell_type": "code",
   "execution_count": 32,
   "metadata": {},
   "outputs": [
    {
     "name": "stderr",
     "output_type": "stream",
     "text": [
      "C:\\Users\\giuli\\AppData\\Local\\Temp\\ipykernel_2120\\2719042320.py:1: FutureWarning: The default of observed=False is deprecated and will be changed to True in a future version of pandas. Pass observed=False to retain current behavior or observed=True to adopt the future default and silence this warning.\n",
      "  adata_grouped = adata.obs.groupby('patiens')\n"
     ]
    },
    {
     "data": {
      "text/html": [
       "<div>\n",
       "<style scoped>\n",
       "    .dataframe tbody tr th:only-of-type {\n",
       "        vertical-align: middle;\n",
       "    }\n",
       "\n",
       "    .dataframe tbody tr th {\n",
       "        vertical-align: top;\n",
       "    }\n",
       "\n",
       "    .dataframe thead tr th {\n",
       "        text-align: left;\n",
       "    }\n",
       "\n",
       "    .dataframe thead tr:last-of-type th {\n",
       "        text-align: right;\n",
       "    }\n",
       "</style>\n",
       "<table border=\"1\" class=\"dataframe\">\n",
       "  <thead>\n",
       "    <tr>\n",
       "      <th></th>\n",
       "      <th colspan=\"8\" halign=\"left\">total_counts_genes</th>\n",
       "    </tr>\n",
       "    <tr>\n",
       "      <th></th>\n",
       "      <th>count</th>\n",
       "      <th>mean</th>\n",
       "      <th>std</th>\n",
       "      <th>min</th>\n",
       "      <th>25%</th>\n",
       "      <th>50%</th>\n",
       "      <th>75%</th>\n",
       "      <th>max</th>\n",
       "    </tr>\n",
       "    <tr>\n",
       "      <th>patiens</th>\n",
       "      <th></th>\n",
       "      <th></th>\n",
       "      <th></th>\n",
       "      <th></th>\n",
       "      <th></th>\n",
       "      <th></th>\n",
       "      <th></th>\n",
       "      <th></th>\n",
       "    </tr>\n",
       "  </thead>\n",
       "  <tbody>\n",
       "    <tr>\n",
       "      <th>GSM7669046</th>\n",
       "      <td>5491.0</td>\n",
       "      <td>6232.377930</td>\n",
       "      <td>2989.813721</td>\n",
       "      <td>311.0</td>\n",
       "      <td>4661.00</td>\n",
       "      <td>6413.0</td>\n",
       "      <td>7822.00</td>\n",
       "      <td>40142.0</td>\n",
       "    </tr>\n",
       "    <tr>\n",
       "      <th>GSM7669048</th>\n",
       "      <td>6018.0</td>\n",
       "      <td>5944.405273</td>\n",
       "      <td>3116.153076</td>\n",
       "      <td>373.0</td>\n",
       "      <td>3503.00</td>\n",
       "      <td>6161.5</td>\n",
       "      <td>7715.00</td>\n",
       "      <td>38287.0</td>\n",
       "    </tr>\n",
       "    <tr>\n",
       "      <th>GSM7669050</th>\n",
       "      <td>2583.0</td>\n",
       "      <td>3568.228027</td>\n",
       "      <td>2742.932129</td>\n",
       "      <td>328.0</td>\n",
       "      <td>1726.00</td>\n",
       "      <td>2401.0</td>\n",
       "      <td>5019.00</td>\n",
       "      <td>21706.0</td>\n",
       "    </tr>\n",
       "    <tr>\n",
       "      <th>GSM7669052</th>\n",
       "      <td>3143.0</td>\n",
       "      <td>4027.762939</td>\n",
       "      <td>3075.891602</td>\n",
       "      <td>355.0</td>\n",
       "      <td>1661.00</td>\n",
       "      <td>3541.0</td>\n",
       "      <td>5691.50</td>\n",
       "      <td>38932.0</td>\n",
       "    </tr>\n",
       "    <tr>\n",
       "      <th>GSM7669054</th>\n",
       "      <td>3579.0</td>\n",
       "      <td>3847.993408</td>\n",
       "      <td>2852.841553</td>\n",
       "      <td>503.0</td>\n",
       "      <td>1791.00</td>\n",
       "      <td>2657.0</td>\n",
       "      <td>5630.50</td>\n",
       "      <td>27790.0</td>\n",
       "    </tr>\n",
       "    <tr>\n",
       "      <th>GSM7669056</th>\n",
       "      <td>3884.0</td>\n",
       "      <td>3832.475342</td>\n",
       "      <td>2804.962646</td>\n",
       "      <td>317.0</td>\n",
       "      <td>1665.00</td>\n",
       "      <td>2561.0</td>\n",
       "      <td>5653.00</td>\n",
       "      <td>29256.0</td>\n",
       "    </tr>\n",
       "    <tr>\n",
       "      <th>GSM7669058</th>\n",
       "      <td>3809.0</td>\n",
       "      <td>3519.326904</td>\n",
       "      <td>2597.796875</td>\n",
       "      <td>474.0</td>\n",
       "      <td>1705.00</td>\n",
       "      <td>2580.0</td>\n",
       "      <td>4975.00</td>\n",
       "      <td>33825.0</td>\n",
       "    </tr>\n",
       "    <tr>\n",
       "      <th>GSM7669060</th>\n",
       "      <td>2822.0</td>\n",
       "      <td>3763.465332</td>\n",
       "      <td>2779.339600</td>\n",
       "      <td>446.0</td>\n",
       "      <td>1666.50</td>\n",
       "      <td>2715.0</td>\n",
       "      <td>5504.25</td>\n",
       "      <td>32205.0</td>\n",
       "    </tr>\n",
       "    <tr>\n",
       "      <th>GSM7669062</th>\n",
       "      <td>5006.0</td>\n",
       "      <td>4497.238770</td>\n",
       "      <td>2829.455811</td>\n",
       "      <td>500.0</td>\n",
       "      <td>2112.00</td>\n",
       "      <td>4227.5</td>\n",
       "      <td>6184.75</td>\n",
       "      <td>31364.0</td>\n",
       "    </tr>\n",
       "    <tr>\n",
       "      <th>GSM7669064</th>\n",
       "      <td>3160.0</td>\n",
       "      <td>3406.679199</td>\n",
       "      <td>2590.651367</td>\n",
       "      <td>432.0</td>\n",
       "      <td>1594.00</td>\n",
       "      <td>2350.5</td>\n",
       "      <td>4857.25</td>\n",
       "      <td>21941.0</td>\n",
       "    </tr>\n",
       "    <tr>\n",
       "      <th>GSM7669066</th>\n",
       "      <td>2945.0</td>\n",
       "      <td>4659.398438</td>\n",
       "      <td>2449.537842</td>\n",
       "      <td>351.0</td>\n",
       "      <td>2225.00</td>\n",
       "      <td>4911.0</td>\n",
       "      <td>6333.00</td>\n",
       "      <td>19381.0</td>\n",
       "    </tr>\n",
       "    <tr>\n",
       "      <th>GSM7669068</th>\n",
       "      <td>2709.0</td>\n",
       "      <td>4099.130859</td>\n",
       "      <td>2743.760498</td>\n",
       "      <td>452.0</td>\n",
       "      <td>1755.00</td>\n",
       "      <td>3462.0</td>\n",
       "      <td>6124.00</td>\n",
       "      <td>29950.0</td>\n",
       "    </tr>\n",
       "    <tr>\n",
       "      <th>GSM7669070</th>\n",
       "      <td>2956.0</td>\n",
       "      <td>2952.255371</td>\n",
       "      <td>2614.632080</td>\n",
       "      <td>449.0</td>\n",
       "      <td>1376.00</td>\n",
       "      <td>2005.5</td>\n",
       "      <td>3781.00</td>\n",
       "      <td>22534.0</td>\n",
       "    </tr>\n",
       "    <tr>\n",
       "      <th>GSM7669072</th>\n",
       "      <td>3715.0</td>\n",
       "      <td>4473.819824</td>\n",
       "      <td>2579.041992</td>\n",
       "      <td>335.0</td>\n",
       "      <td>1970.00</td>\n",
       "      <td>4637.0</td>\n",
       "      <td>6308.50</td>\n",
       "      <td>25461.0</td>\n",
       "    </tr>\n",
       "    <tr>\n",
       "      <th>GSM7669074</th>\n",
       "      <td>2543.0</td>\n",
       "      <td>4776.746582</td>\n",
       "      <td>2584.431641</td>\n",
       "      <td>449.0</td>\n",
       "      <td>2426.50</td>\n",
       "      <td>4989.0</td>\n",
       "      <td>6421.50</td>\n",
       "      <td>26231.0</td>\n",
       "    </tr>\n",
       "    <tr>\n",
       "      <th>GSM7669076</th>\n",
       "      <td>3946.0</td>\n",
       "      <td>2900.145508</td>\n",
       "      <td>2420.584717</td>\n",
       "      <td>408.0</td>\n",
       "      <td>1475.00</td>\n",
       "      <td>1938.5</td>\n",
       "      <td>3755.50</td>\n",
       "      <td>26415.0</td>\n",
       "    </tr>\n",
       "    <tr>\n",
       "      <th>GSM7669078</th>\n",
       "      <td>2779.0</td>\n",
       "      <td>3742.952881</td>\n",
       "      <td>2326.518799</td>\n",
       "      <td>408.0</td>\n",
       "      <td>1655.50</td>\n",
       "      <td>3580.0</td>\n",
       "      <td>5427.50</td>\n",
       "      <td>16089.0</td>\n",
       "    </tr>\n",
       "    <tr>\n",
       "      <th>GSM7669080</th>\n",
       "      <td>3964.0</td>\n",
       "      <td>3321.853516</td>\n",
       "      <td>2401.903320</td>\n",
       "      <td>329.0</td>\n",
       "      <td>1814.75</td>\n",
       "      <td>2390.0</td>\n",
       "      <td>4357.25</td>\n",
       "      <td>32057.0</td>\n",
       "    </tr>\n",
       "    <tr>\n",
       "      <th>GSM7669082</th>\n",
       "      <td>3423.0</td>\n",
       "      <td>3716.737549</td>\n",
       "      <td>2342.016357</td>\n",
       "      <td>318.0</td>\n",
       "      <td>1554.00</td>\n",
       "      <td>3574.0</td>\n",
       "      <td>5527.00</td>\n",
       "      <td>18089.0</td>\n",
       "    </tr>\n",
       "    <tr>\n",
       "      <th>GSM7669084</th>\n",
       "      <td>3842.0</td>\n",
       "      <td>3485.758057</td>\n",
       "      <td>2343.367920</td>\n",
       "      <td>400.0</td>\n",
       "      <td>1764.00</td>\n",
       "      <td>2441.0</td>\n",
       "      <td>5006.00</td>\n",
       "      <td>22022.0</td>\n",
       "    </tr>\n",
       "  </tbody>\n",
       "</table>\n",
       "</div>"
      ],
      "text/plain": [
       "           total_counts_genes                                            \\\n",
       "                        count         mean          std    min      25%   \n",
       "patiens                                                                   \n",
       "GSM7669046             5491.0  6232.377930  2989.813721  311.0  4661.00   \n",
       "GSM7669048             6018.0  5944.405273  3116.153076  373.0  3503.00   \n",
       "GSM7669050             2583.0  3568.228027  2742.932129  328.0  1726.00   \n",
       "GSM7669052             3143.0  4027.762939  3075.891602  355.0  1661.00   \n",
       "GSM7669054             3579.0  3847.993408  2852.841553  503.0  1791.00   \n",
       "GSM7669056             3884.0  3832.475342  2804.962646  317.0  1665.00   \n",
       "GSM7669058             3809.0  3519.326904  2597.796875  474.0  1705.00   \n",
       "GSM7669060             2822.0  3763.465332  2779.339600  446.0  1666.50   \n",
       "GSM7669062             5006.0  4497.238770  2829.455811  500.0  2112.00   \n",
       "GSM7669064             3160.0  3406.679199  2590.651367  432.0  1594.00   \n",
       "GSM7669066             2945.0  4659.398438  2449.537842  351.0  2225.00   \n",
       "GSM7669068             2709.0  4099.130859  2743.760498  452.0  1755.00   \n",
       "GSM7669070             2956.0  2952.255371  2614.632080  449.0  1376.00   \n",
       "GSM7669072             3715.0  4473.819824  2579.041992  335.0  1970.00   \n",
       "GSM7669074             2543.0  4776.746582  2584.431641  449.0  2426.50   \n",
       "GSM7669076             3946.0  2900.145508  2420.584717  408.0  1475.00   \n",
       "GSM7669078             2779.0  3742.952881  2326.518799  408.0  1655.50   \n",
       "GSM7669080             3964.0  3321.853516  2401.903320  329.0  1814.75   \n",
       "GSM7669082             3423.0  3716.737549  2342.016357  318.0  1554.00   \n",
       "GSM7669084             3842.0  3485.758057  2343.367920  400.0  1764.00   \n",
       "\n",
       "                                      \n",
       "               50%      75%      max  \n",
       "patiens                               \n",
       "GSM7669046  6413.0  7822.00  40142.0  \n",
       "GSM7669048  6161.5  7715.00  38287.0  \n",
       "GSM7669050  2401.0  5019.00  21706.0  \n",
       "GSM7669052  3541.0  5691.50  38932.0  \n",
       "GSM7669054  2657.0  5630.50  27790.0  \n",
       "GSM7669056  2561.0  5653.00  29256.0  \n",
       "GSM7669058  2580.0  4975.00  33825.0  \n",
       "GSM7669060  2715.0  5504.25  32205.0  \n",
       "GSM7669062  4227.5  6184.75  31364.0  \n",
       "GSM7669064  2350.5  4857.25  21941.0  \n",
       "GSM7669066  4911.0  6333.00  19381.0  \n",
       "GSM7669068  3462.0  6124.00  29950.0  \n",
       "GSM7669070  2005.5  3781.00  22534.0  \n",
       "GSM7669072  4637.0  6308.50  25461.0  \n",
       "GSM7669074  4989.0  6421.50  26231.0  \n",
       "GSM7669076  1938.5  3755.50  26415.0  \n",
       "GSM7669078  3580.0  5427.50  16089.0  \n",
       "GSM7669080  2390.0  4357.25  32057.0  \n",
       "GSM7669082  3574.0  5527.00  18089.0  \n",
       "GSM7669084  2441.0  5006.00  22022.0  "
      ]
     },
     "execution_count": 32,
     "metadata": {},
     "output_type": "execute_result"
    }
   ],
   "source": [
    "adata_grouped = adata.obs.groupby('patiens')\n",
    "adata_grouped.describe()"
   ]
  },
  {
   "cell_type": "code",
   "execution_count": 31,
   "metadata": {},
   "outputs": [
    {
     "name": "stderr",
     "output_type": "stream",
     "text": [
      "c:\\Users\\giuli\\anaconda3\\lib\\site-packages\\anndata\\_core\\anndata.py:1209: ImplicitModificationWarning: Trying to modify attribute `.obs` of view, initializing view as actual.\n",
      "  df[key] = c\n"
     ]
    },
    {
     "data": {
      "image/png": "[encoded data removed]",
      "text/plain": [
       "<Figure size 804.6x480 with 1 Axes>"
      ]
     },
     "metadata": {},
     "output_type": "display_data"
    }
   ],
   "source": [
    "sc.pl.violin(\n",
    "        adata[:, adata.var['feature_types'] == 'Gene Expression'],\n",
    "        keys=['total_counts_genes'],\n",
    "        groupby='patient_id',\n",
    "        stripplot=False,\n",
    "        inner='box',\n",
    "        rotation=90,\n",
    "    );"
   ]
  }
 ],
 "metadata": {
  "kernelspec": {
   "display_name": "base",
   "language": "python",
   "name": "python3"
  },
  "language_info": {
   "codemirror_mode": {
    "name": "ipython",
    "version": 3
   },
   "file_extension": ".py",
   "mimetype": "text/x-python",
   "name": "python",
   "nbconvert_exporter": "python",
   "pygments_lexer": "ipython3",
   "version": "3.10.9"
  }
 },
 "nbformat": 4,
 "nbformat_minor": 2
}
