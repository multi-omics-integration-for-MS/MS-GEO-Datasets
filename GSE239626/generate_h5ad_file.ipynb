{
 "cells": [
  {
   "cell_type": "code",
   "execution_count": 1,
   "metadata": {},
   "outputs": [
    {
     "name": "stderr",
     "output_type": "stream",
     "text": [
      "c:\\Users\\giuli\\anaconda3\\lib\\site-packages\\pandas\\core\\arrays\\masked.py:60: UserWarning: Pandas requires version '1.3.6' or newer of 'bottleneck' (version '1.3.5' currently installed).\n",
      "  from pandas.core import (\n"
     ]
    }
   ],
   "source": [
    "import scanpy as sc\n",
    "import pandas as pd\n",
    "import numpy as np\n",
    "\n",
    "TXT_PATH = 'patients_list.txt'"
   ]
  },
  {
   "cell_type": "code",
   "execution_count": 2,
   "metadata": {},
   "outputs": [],
   "source": [
    "adata = sc.read_10x_mtx(\n",
    "        '../GSE239626/MTX',\n",
    "        var_names='gene_symbols',\n",
    "        gex_only=True,\n",
    "        cache=True)"
   ]
  },
  {
   "cell_type": "code",
   "execution_count": 3,
   "metadata": {},
   "outputs": [],
   "source": [
    "adata.obs['dataset'] = 'GSE239626'\n",
    "adata.obs['disease'] = 'MS'\n",
    "adata.obs['cell_type'] = 'PBMC'"
   ]
  },
  {
   "cell_type": "code",
   "execution_count": 4,
   "metadata": {},
   "outputs": [
    {
     "data": {
      "text/plain": [
       "AnnData object with n_obs × n_vars = 72317 × 36601\n",
       "    obs: 'dataset', 'disease', 'cell_type'\n",
       "    var: 'gene_ids', 'feature_types'"
      ]
     },
     "execution_count": 4,
     "metadata": {},
     "output_type": "execute_result"
    }
   ],
   "source": [
    "adata"
   ]
  },
  {
   "cell_type": "code",
   "execution_count": 5,
   "metadata": {},
   "outputs": [
    {
     "data": {
      "text/plain": [
       "array(['1', '10', '11', '12', '13', '14', '15', '16', '17', '18', '19',\n",
       "       '2', '20', '3', '4', '5', '6', '7', '8', '9'], dtype='<U2')"
      ]
     },
     "execution_count": 5,
     "metadata": {},
     "output_type": "execute_result"
    }
   ],
   "source": [
    "obs = adata.obs.index\n",
    "obs = [ob.split('-')[-1] for ob in obs]\n",
    "obs = np.unique(obs)\n",
    "obs"
   ]
  },
  {
   "cell_type": "code",
   "execution_count": 35,
   "metadata": {},
   "outputs": [
    {
     "data": {
      "text/html": [
       "<div>\n",
       "<style scoped>\n",
       "    .dataframe tbody tr th:only-of-type {\n",
       "        vertical-align: middle;\n",
       "    }\n",
       "\n",
       "    .dataframe tbody tr th {\n",
       "        vertical-align: top;\n",
       "    }\n",
       "\n",
       "    .dataframe thead th {\n",
       "        text-align: right;\n",
       "    }\n",
       "</style>\n",
       "<table border=\"1\" class=\"dataframe\">\n",
       "  <thead>\n",
       "    <tr style=\"text-align: right;\">\n",
       "      <th></th>\n",
       "      <th>patiens</th>\n",
       "      <th>p</th>\n",
       "      <th>placebo/vit</th>\n",
       "      <th>patiens_id</th>\n",
       "      <th>time</th>\n",
       "      <th>prov</th>\n",
       "    </tr>\n",
       "  </thead>\n",
       "  <tbody>\n",
       "    <tr>\n",
       "      <th>0</th>\n",
       "      <td>GSM7669046</td>\n",
       "      <td>Patient</td>\n",
       "      <td>Placebo</td>\n",
       "      <td>N1</td>\n",
       "      <td>J0</td>\n",
       "      <td>GEX</td>\n",
       "    </tr>\n",
       "    <tr>\n",
       "      <th>1</th>\n",
       "      <td>GSM7669047</td>\n",
       "      <td>Patient</td>\n",
       "      <td>Placebo</td>\n",
       "      <td>N1</td>\n",
       "      <td>J0</td>\n",
       "      <td>ADT</td>\n",
       "    </tr>\n",
       "    <tr>\n",
       "      <th>2</th>\n",
       "      <td>GSM7669048</td>\n",
       "      <td>Patient</td>\n",
       "      <td>Placebo</td>\n",
       "      <td>N1</td>\n",
       "      <td>M3</td>\n",
       "      <td>GEX</td>\n",
       "    </tr>\n",
       "    <tr>\n",
       "      <th>3</th>\n",
       "      <td>GSM7669049</td>\n",
       "      <td>Patient</td>\n",
       "      <td>Placebo</td>\n",
       "      <td>N1</td>\n",
       "      <td>M3</td>\n",
       "      <td>ADT</td>\n",
       "    </tr>\n",
       "    <tr>\n",
       "      <th>4</th>\n",
       "      <td>GSM7669050</td>\n",
       "      <td>Patient</td>\n",
       "      <td>Placebo</td>\n",
       "      <td>N2</td>\n",
       "      <td>J0</td>\n",
       "      <td>GEX</td>\n",
       "    </tr>\n",
       "  </tbody>\n",
       "</table>\n",
       "</div>"
      ],
      "text/plain": [
       "      patiens         p placebo/vit patiens_id time  prov\n",
       "0  GSM7669046   Patient     Placebo         N1   J0   GEX\n",
       "1  GSM7669047   Patient     Placebo         N1   J0   ADT\n",
       "2  GSM7669048   Patient     Placebo         N1   M3   GEX\n",
       "3  GSM7669049   Patient     Placebo         N1   M3   ADT\n",
       "4  GSM7669050   Patient     Placebo         N2   J0   GEX"
      ]
     },
     "execution_count": 35,
     "metadata": {},
     "output_type": "execute_result"
    }
   ],
   "source": [
    "patients_info = pd.read_csv(TXT_PATH, sep=',', header=None)\n",
    "# add columns name\n",
    "patients_info.columns = ['patiens', 'p', 'placebo/vit', 'patiens_id', 'time', 'prov']\n",
    "patients_info.head()"
   ]
  },
  {
   "cell_type": "code",
   "execution_count": 53,
   "metadata": {},
   "outputs": [],
   "source": [
    "def add_info(row):\n",
    "    number = row.name.split('-')[-1]\n",
    "    number_id = (int(number) - 1) * 2\n",
    "    row['patiens'] = patients_info['patiens'][number_id]\n",
    "    row['patiens_id'] = patients_info['patiens_id'][number_id]\n",
    "    row['time'] = patients_info['time'][number_id]\n",
    "\n",
    "    return row"
   ]
  },
  {
   "cell_type": "code",
   "execution_count": 54,
   "metadata": {},
   "outputs": [],
   "source": [
    "adata.obs = adata.obs.apply(add_info, axis=1)"
   ]
  },
  {
   "cell_type": "code",
   "execution_count": 55,
   "metadata": {},
   "outputs": [
    {
     "data": {
      "text/plain": [
       "AnnData object with n_obs × n_vars = 72317 × 36601\n",
       "    obs: 'dataset', 'disease', 'cell_type', 'patiens', 'patiens_id', 'time'\n",
       "    var: 'gene_ids', 'feature_types'"
      ]
     },
     "execution_count": 55,
     "metadata": {},
     "output_type": "execute_result"
    }
   ],
   "source": [
    "adata"
   ]
  },
  {
   "cell_type": "code",
   "execution_count": 56,
   "metadata": {},
   "outputs": [
    {
     "data": {
      "text/html": [
       "<div>\n",
       "<style scoped>\n",
       "    .dataframe tbody tr th:only-of-type {\n",
       "        vertical-align: middle;\n",
       "    }\n",
       "\n",
       "    .dataframe tbody tr th {\n",
       "        vertical-align: top;\n",
       "    }\n",
       "\n",
       "    .dataframe thead th {\n",
       "        text-align: right;\n",
       "    }\n",
       "</style>\n",
       "<table border=\"1\" class=\"dataframe\">\n",
       "  <thead>\n",
       "    <tr style=\"text-align: right;\">\n",
       "      <th></th>\n",
       "      <th>dataset</th>\n",
       "      <th>disease</th>\n",
       "      <th>cell_type</th>\n",
       "      <th>patiens</th>\n",
       "      <th>patiens_id</th>\n",
       "      <th>time</th>\n",
       "    </tr>\n",
       "  </thead>\n",
       "  <tbody>\n",
       "    <tr>\n",
       "      <th>AAACCCAAGACTGTTC-1</th>\n",
       "      <td>GSE239626</td>\n",
       "      <td>MS</td>\n",
       "      <td>PBMC</td>\n",
       "      <td>GSM7669046</td>\n",
       "      <td>N1</td>\n",
       "      <td>J0</td>\n",
       "    </tr>\n",
       "    <tr>\n",
       "      <th>AAACCCAAGGATCATA-1</th>\n",
       "      <td>GSE239626</td>\n",
       "      <td>MS</td>\n",
       "      <td>PBMC</td>\n",
       "      <td>GSM7669046</td>\n",
       "      <td>N1</td>\n",
       "      <td>J0</td>\n",
       "    </tr>\n",
       "    <tr>\n",
       "      <th>AAACCCAGTTATTCTC-1</th>\n",
       "      <td>GSE239626</td>\n",
       "      <td>MS</td>\n",
       "      <td>PBMC</td>\n",
       "      <td>GSM7669046</td>\n",
       "      <td>N1</td>\n",
       "      <td>J0</td>\n",
       "    </tr>\n",
       "    <tr>\n",
       "      <th>AAACCCATCATGAGGG-1</th>\n",
       "      <td>GSE239626</td>\n",
       "      <td>MS</td>\n",
       "      <td>PBMC</td>\n",
       "      <td>GSM7669046</td>\n",
       "      <td>N1</td>\n",
       "      <td>J0</td>\n",
       "    </tr>\n",
       "    <tr>\n",
       "      <th>AAACGAAAGCCAGTAG-1</th>\n",
       "      <td>GSE239626</td>\n",
       "      <td>MS</td>\n",
       "      <td>PBMC</td>\n",
       "      <td>GSM7669046</td>\n",
       "      <td>N1</td>\n",
       "      <td>J0</td>\n",
       "    </tr>\n",
       "    <tr>\n",
       "      <th>...</th>\n",
       "      <td>...</td>\n",
       "      <td>...</td>\n",
       "      <td>...</td>\n",
       "      <td>...</td>\n",
       "      <td>...</td>\n",
       "      <td>...</td>\n",
       "    </tr>\n",
       "    <tr>\n",
       "      <th>TTTGTTGAGCGTCGAA-20</th>\n",
       "      <td>GSE239626</td>\n",
       "      <td>MS</td>\n",
       "      <td>PBMC</td>\n",
       "      <td>GSM7669084</td>\n",
       "      <td>N5</td>\n",
       "      <td>M3</td>\n",
       "    </tr>\n",
       "    <tr>\n",
       "      <th>TTTGTTGAGTGTACCT-20</th>\n",
       "      <td>GSE239626</td>\n",
       "      <td>MS</td>\n",
       "      <td>PBMC</td>\n",
       "      <td>GSM7669084</td>\n",
       "      <td>N5</td>\n",
       "      <td>M3</td>\n",
       "    </tr>\n",
       "    <tr>\n",
       "      <th>TTTGTTGCAATTGCAC-20</th>\n",
       "      <td>GSE239626</td>\n",
       "      <td>MS</td>\n",
       "      <td>PBMC</td>\n",
       "      <td>GSM7669084</td>\n",
       "      <td>N5</td>\n",
       "      <td>M3</td>\n",
       "    </tr>\n",
       "    <tr>\n",
       "      <th>TTTGTTGCATTCAGCA-20</th>\n",
       "      <td>GSE239626</td>\n",
       "      <td>MS</td>\n",
       "      <td>PBMC</td>\n",
       "      <td>GSM7669084</td>\n",
       "      <td>N5</td>\n",
       "      <td>M3</td>\n",
       "    </tr>\n",
       "    <tr>\n",
       "      <th>TTTGTTGGTGGGTTGA-20</th>\n",
       "      <td>GSE239626</td>\n",
       "      <td>MS</td>\n",
       "      <td>PBMC</td>\n",
       "      <td>GSM7669084</td>\n",
       "      <td>N5</td>\n",
       "      <td>M3</td>\n",
       "    </tr>\n",
       "  </tbody>\n",
       "</table>\n",
       "<p>72317 rows × 6 columns</p>\n",
       "</div>"
      ],
      "text/plain": [
       "                       dataset disease cell_type     patiens patiens_id time\n",
       "AAACCCAAGACTGTTC-1   GSE239626      MS      PBMC  GSM7669046         N1   J0\n",
       "AAACCCAAGGATCATA-1   GSE239626      MS      PBMC  GSM7669046         N1   J0\n",
       "AAACCCAGTTATTCTC-1   GSE239626      MS      PBMC  GSM7669046         N1   J0\n",
       "AAACCCATCATGAGGG-1   GSE239626      MS      PBMC  GSM7669046         N1   J0\n",
       "AAACGAAAGCCAGTAG-1   GSE239626      MS      PBMC  GSM7669046         N1   J0\n",
       "...                        ...     ...       ...         ...        ...  ...\n",
       "TTTGTTGAGCGTCGAA-20  GSE239626      MS      PBMC  GSM7669084         N5   M3\n",
       "TTTGTTGAGTGTACCT-20  GSE239626      MS      PBMC  GSM7669084         N5   M3\n",
       "TTTGTTGCAATTGCAC-20  GSE239626      MS      PBMC  GSM7669084         N5   M3\n",
       "TTTGTTGCATTCAGCA-20  GSE239626      MS      PBMC  GSM7669084         N5   M3\n",
       "TTTGTTGGTGGGTTGA-20  GSE239626      MS      PBMC  GSM7669084         N5   M3\n",
       "\n",
       "[72317 rows x 6 columns]"
      ]
     },
     "execution_count": 56,
     "metadata": {},
     "output_type": "execute_result"
    }
   ],
   "source": [
    "adata.obs"
   ]
  },
  {
   "cell_type": "code",
   "execution_count": 57,
   "metadata": {},
   "outputs": [],
   "source": [
    "adata.write('GSE239626.h5ad')"
   ]
  }
 ],
 "metadata": {
  "kernelspec": {
   "display_name": "base",
   "language": "python",
   "name": "python3"
  },
  "language_info": {
   "codemirror_mode": {
    "name": "ipython",
    "version": 3
   },
   "file_extension": ".py",
   "mimetype": "text/x-python",
   "name": "python",
   "nbconvert_exporter": "python",
   "pygments_lexer": "ipython3",
   "version": "3.10.9"
  }
 },
 "nbformat": 4,
 "nbformat_minor": 2
}
