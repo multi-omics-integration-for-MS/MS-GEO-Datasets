{
 "cells": [
  {
   "cell_type": "code",
   "execution_count": 39,
   "metadata": {},
   "outputs": [],
   "source": [
    "import pandas as pd\n",
    "\n",
    "CELL_TYPES_PATH = 'celltypes.csv'"
   ]
  },
  {
   "cell_type": "code",
   "execution_count": 40,
   "metadata": {},
   "outputs": [
    {
     "data": {
      "text/html": [
       "<div>\n",
       "<style scoped>\n",
       "    .dataframe tbody tr th:only-of-type {\n",
       "        vertical-align: middle;\n",
       "    }\n",
       "\n",
       "    .dataframe tbody tr th {\n",
       "        vertical-align: top;\n",
       "    }\n",
       "\n",
       "    .dataframe thead th {\n",
       "        text-align: right;\n",
       "    }\n",
       "</style>\n",
       "<table border=\"1\" class=\"dataframe\">\n",
       "  <thead>\n",
       "    <tr style=\"text-align: right;\">\n",
       "      <th></th>\n",
       "      <th>donor</th>\n",
       "      <th>status</th>\n",
       "      <th>NA</th>\n",
       "      <th>clustering</th>\n",
       "      <th>qc_num_umi</th>\n",
       "      <th>qc_num_reads</th>\n",
       "      <th>qc_mean_reads_per_umi</th>\n",
       "      <th>qc_std_reads_per_umi</th>\n",
       "      <th>qc_mapped_reads</th>\n",
       "      <th>qc_genome_not_gene</th>\n",
       "      <th>qc_unmapped_reads</th>\n",
       "      <th>qc_umi_corrected</th>\n",
       "      <th>qc_barcode_corrected</th>\n",
       "      <th>fineclusters</th>\n",
       "    </tr>\n",
       "  </thead>\n",
       "  <tbody>\n",
       "    <tr>\n",
       "      <th>0</th>\n",
       "      <td>donor_11</td>\n",
       "      <td>control</td>\n",
       "      <td>PST32190_CSF</td>\n",
       "      <td>class_mono</td>\n",
       "      <td>8062</td>\n",
       "      <td>46593</td>\n",
       "      <td>5.779335</td>\n",
       "      <td>4.434340</td>\n",
       "      <td>0.576310</td>\n",
       "      <td>0.261391</td>\n",
       "      <td>0.162299</td>\n",
       "      <td>0.006653</td>\n",
       "      <td>0.015818</td>\n",
       "      <td>class_mono</td>\n",
       "    </tr>\n",
       "    <tr>\n",
       "      <th>1</th>\n",
       "      <td>donor_11</td>\n",
       "      <td>control</td>\n",
       "      <td>PST32190_CSF</td>\n",
       "      <td>CD4_Tc</td>\n",
       "      <td>4293</td>\n",
       "      <td>22185</td>\n",
       "      <td>5.167715</td>\n",
       "      <td>3.697158</td>\n",
       "      <td>0.552310</td>\n",
       "      <td>0.315303</td>\n",
       "      <td>0.132387</td>\n",
       "      <td>0.006311</td>\n",
       "      <td>0.012982</td>\n",
       "      <td>Tc_3</td>\n",
       "    </tr>\n",
       "    <tr>\n",
       "      <th>2</th>\n",
       "      <td>donor_11</td>\n",
       "      <td>control</td>\n",
       "      <td>PST32190_CSF</td>\n",
       "      <td>CD4_Tc</td>\n",
       "      <td>7236</td>\n",
       "      <td>41255</td>\n",
       "      <td>5.701354</td>\n",
       "      <td>4.129179</td>\n",
       "      <td>0.547279</td>\n",
       "      <td>0.315259</td>\n",
       "      <td>0.137462</td>\n",
       "      <td>0.006375</td>\n",
       "      <td>0.013307</td>\n",
       "      <td>Tc_6</td>\n",
       "    </tr>\n",
       "    <tr>\n",
       "      <th>3</th>\n",
       "      <td>donor_11</td>\n",
       "      <td>control</td>\n",
       "      <td>PST32190_CSF</td>\n",
       "      <td>nc_mono</td>\n",
       "      <td>10631</td>\n",
       "      <td>62440</td>\n",
       "      <td>5.873389</td>\n",
       "      <td>4.336651</td>\n",
       "      <td>0.575561</td>\n",
       "      <td>0.285186</td>\n",
       "      <td>0.139254</td>\n",
       "      <td>0.007239</td>\n",
       "      <td>0.016224</td>\n",
       "      <td>nc_mono</td>\n",
       "    </tr>\n",
       "    <tr>\n",
       "      <th>4</th>\n",
       "      <td>donor_11</td>\n",
       "      <td>control</td>\n",
       "      <td>PST32190_CSF</td>\n",
       "      <td>CD4_Tc</td>\n",
       "      <td>8061</td>\n",
       "      <td>43739</td>\n",
       "      <td>5.426002</td>\n",
       "      <td>4.047318</td>\n",
       "      <td>0.529322</td>\n",
       "      <td>0.335079</td>\n",
       "      <td>0.135600</td>\n",
       "      <td>0.005670</td>\n",
       "      <td>0.015478</td>\n",
       "      <td>Tc_6</td>\n",
       "    </tr>\n",
       "    <tr>\n",
       "      <th>...</th>\n",
       "      <td>...</td>\n",
       "      <td>...</td>\n",
       "      <td>...</td>\n",
       "      <td>...</td>\n",
       "      <td>...</td>\n",
       "      <td>...</td>\n",
       "      <td>...</td>\n",
       "      <td>...</td>\n",
       "      <td>...</td>\n",
       "      <td>...</td>\n",
       "      <td>...</td>\n",
       "      <td>...</td>\n",
       "      <td>...</td>\n",
       "      <td>...</td>\n",
       "    </tr>\n",
       "    <tr>\n",
       "      <th>22352</th>\n",
       "      <td>donor_7</td>\n",
       "      <td>disease</td>\n",
       "      <td>MS49131CSF</td>\n",
       "      <td>mDC</td>\n",
       "      <td>16247</td>\n",
       "      <td>98786</td>\n",
       "      <td>6.080261</td>\n",
       "      <td>4.736146</td>\n",
       "      <td>0.559543</td>\n",
       "      <td>0.297127</td>\n",
       "      <td>0.143330</td>\n",
       "      <td>0.010133</td>\n",
       "      <td>0.027878</td>\n",
       "      <td>mDC1/2</td>\n",
       "    </tr>\n",
       "    <tr>\n",
       "      <th>22353</th>\n",
       "      <td>donor_7</td>\n",
       "      <td>disease</td>\n",
       "      <td>MS49131CSF</td>\n",
       "      <td>CD4_Tc</td>\n",
       "      <td>7694</td>\n",
       "      <td>39612</td>\n",
       "      <td>5.148427</td>\n",
       "      <td>4.057280</td>\n",
       "      <td>0.523023</td>\n",
       "      <td>0.331516</td>\n",
       "      <td>0.145461</td>\n",
       "      <td>0.009189</td>\n",
       "      <td>0.027542</td>\n",
       "      <td>Tc_1</td>\n",
       "    </tr>\n",
       "    <tr>\n",
       "      <th>22354</th>\n",
       "      <td>donor_7</td>\n",
       "      <td>disease</td>\n",
       "      <td>MS49131CSF</td>\n",
       "      <td>CD4_Tc</td>\n",
       "      <td>5181</td>\n",
       "      <td>29191</td>\n",
       "      <td>5.634240</td>\n",
       "      <td>4.470363</td>\n",
       "      <td>0.452228</td>\n",
       "      <td>0.393066</td>\n",
       "      <td>0.154705</td>\n",
       "      <td>0.007228</td>\n",
       "      <td>0.028125</td>\n",
       "      <td>Tc_2</td>\n",
       "    </tr>\n",
       "    <tr>\n",
       "      <th>22355</th>\n",
       "      <td>donor_7</td>\n",
       "      <td>disease</td>\n",
       "      <td>MS49131CSF</td>\n",
       "      <td>CD4_Tc</td>\n",
       "      <td>7504</td>\n",
       "      <td>42749</td>\n",
       "      <td>5.696828</td>\n",
       "      <td>4.400745</td>\n",
       "      <td>0.537276</td>\n",
       "      <td>0.323072</td>\n",
       "      <td>0.139652</td>\n",
       "      <td>0.009825</td>\n",
       "      <td>0.027626</td>\n",
       "      <td>Tc_3</td>\n",
       "    </tr>\n",
       "    <tr>\n",
       "      <th>22356</th>\n",
       "      <td>donor_7</td>\n",
       "      <td>disease</td>\n",
       "      <td>MS49131CSF</td>\n",
       "      <td>CD4_Tc</td>\n",
       "      <td>9116</td>\n",
       "      <td>52057</td>\n",
       "      <td>5.710509</td>\n",
       "      <td>4.433590</td>\n",
       "      <td>0.439902</td>\n",
       "      <td>0.410973</td>\n",
       "      <td>0.149125</td>\n",
       "      <td>0.007434</td>\n",
       "      <td>0.024550</td>\n",
       "      <td>Tc_4</td>\n",
       "    </tr>\n",
       "  </tbody>\n",
       "</table>\n",
       "<p>22357 rows × 14 columns</p>\n",
       "</div>"
      ],
      "text/plain": [
       "          donor   status            NA  clustering  qc_num_umi  qc_num_reads  \\\n",
       "0      donor_11  control  PST32190_CSF  class_mono        8062         46593   \n",
       "1      donor_11  control  PST32190_CSF      CD4_Tc        4293         22185   \n",
       "2      donor_11  control  PST32190_CSF      CD4_Tc        7236         41255   \n",
       "3      donor_11  control  PST32190_CSF     nc_mono       10631         62440   \n",
       "4      donor_11  control  PST32190_CSF      CD4_Tc        8061         43739   \n",
       "...         ...      ...           ...         ...         ...           ...   \n",
       "22352   donor_7  disease    MS49131CSF         mDC       16247         98786   \n",
       "22353   donor_7  disease    MS49131CSF      CD4_Tc        7694         39612   \n",
       "22354   donor_7  disease    MS49131CSF      CD4_Tc        5181         29191   \n",
       "22355   donor_7  disease    MS49131CSF      CD4_Tc        7504         42749   \n",
       "22356   donor_7  disease    MS49131CSF      CD4_Tc        9116         52057   \n",
       "\n",
       "       qc_mean_reads_per_umi  qc_std_reads_per_umi  qc_mapped_reads  \\\n",
       "0                   5.779335              4.434340         0.576310   \n",
       "1                   5.167715              3.697158         0.552310   \n",
       "2                   5.701354              4.129179         0.547279   \n",
       "3                   5.873389              4.336651         0.575561   \n",
       "4                   5.426002              4.047318         0.529322   \n",
       "...                      ...                   ...              ...   \n",
       "22352               6.080261              4.736146         0.559543   \n",
       "22353               5.148427              4.057280         0.523023   \n",
       "22354               5.634240              4.470363         0.452228   \n",
       "22355               5.696828              4.400745         0.537276   \n",
       "22356               5.710509              4.433590         0.439902   \n",
       "\n",
       "       qc_genome_not_gene  qc_unmapped_reads  qc_umi_corrected  \\\n",
       "0                0.261391           0.162299          0.006653   \n",
       "1                0.315303           0.132387          0.006311   \n",
       "2                0.315259           0.137462          0.006375   \n",
       "3                0.285186           0.139254          0.007239   \n",
       "4                0.335079           0.135600          0.005670   \n",
       "...                   ...                ...               ...   \n",
       "22352            0.297127           0.143330          0.010133   \n",
       "22353            0.331516           0.145461          0.009189   \n",
       "22354            0.393066           0.154705          0.007228   \n",
       "22355            0.323072           0.139652          0.009825   \n",
       "22356            0.410973           0.149125          0.007434   \n",
       "\n",
       "       qc_barcode_corrected fineclusters  \n",
       "0                  0.015818   class_mono  \n",
       "1                  0.012982         Tc_3  \n",
       "2                  0.013307         Tc_6  \n",
       "3                  0.016224      nc_mono  \n",
       "4                  0.015478         Tc_6  \n",
       "...                     ...          ...  \n",
       "22352              0.027878       mDC1/2  \n",
       "22353              0.027542         Tc_1  \n",
       "22354              0.028125         Tc_2  \n",
       "22355              0.027626         Tc_3  \n",
       "22356              0.024550         Tc_4  \n",
       "\n",
       "[22357 rows x 14 columns]"
      ]
     },
     "execution_count": 40,
     "metadata": {},
     "output_type": "execute_result"
    }
   ],
   "source": [
    "cell_types_df  = pd.read_csv(CELL_TYPES_PATH, sep=',')\n",
    "cell_types_df"
   ]
  },
  {
   "cell_type": "code",
   "execution_count": 41,
   "metadata": {},
   "outputs": [
    {
     "data": {
      "text/plain": [
       "Index(['donor', 'status', 'NA', 'clustering', 'qc_num_umi', 'qc_num_reads',\n",
       "       'qc_mean_reads_per_umi', 'qc_std_reads_per_umi', 'qc_mapped_reads',\n",
       "       'qc_genome_not_gene', 'qc_unmapped_reads', 'qc_umi_corrected',\n",
       "       'qc_barcode_corrected', 'fineclusters'],\n",
       "      dtype='object')"
      ]
     },
     "execution_count": 41,
     "metadata": {},
     "output_type": "execute_result"
    }
   ],
   "source": [
    "cell_types_df.columns"
   ]
  },
  {
   "cell_type": "code",
   "execution_count": 42,
   "metadata": {},
   "outputs": [
    {
     "data": {
      "text/plain": [
       "array(['control', 'disease'], dtype=object)"
      ]
     },
     "execution_count": 42,
     "metadata": {},
     "output_type": "execute_result"
    }
   ],
   "source": [
    "cell_types_df['status'].unique()"
   ]
  },
  {
   "cell_type": "code",
   "execution_count": 43,
   "metadata": {},
   "outputs": [
    {
     "data": {
      "text/plain": [
       "array(['donor_11', 'donor_10', 'donor_3', 'donor_2', 'donor_5',\n",
       "       'donor_12', 'donor_9', 'donor_7'], dtype=object)"
      ]
     },
     "execution_count": 43,
     "metadata": {},
     "output_type": "execute_result"
    }
   ],
   "source": [
    "cell_types_df['donor'].unique()"
   ]
  },
  {
   "cell_type": "code",
   "execution_count": 44,
   "metadata": {},
   "outputs": [
    {
     "data": {
      "text/plain": [
       "array(['PST32190_CSF', 'PST41540_CSF', 'PST45044_CSF', 'PST85037_CSF',\n",
       "       'MS58637_CSF', 'MS19270CSF', 'MS71658CSF', 'MS49131CSF'],\n",
       "      dtype=object)"
      ]
     },
     "execution_count": 44,
     "metadata": {},
     "output_type": "execute_result"
    }
   ],
   "source": [
    "cell_types_df['NA'].unique()"
   ]
  },
  {
   "cell_type": "code",
   "execution_count": 45,
   "metadata": {},
   "outputs": [
    {
     "data": {
      "text/plain": [
       "array(['class_mono', 'CD4_Tc', 'nc_mono', 'aCD8_Tc', 'nCD8_Tc', 'mDC',\n",
       "       'pDC', 'NK', 'Bc', 'plasma'], dtype=object)"
      ]
     },
     "execution_count": 45,
     "metadata": {},
     "output_type": "execute_result"
    }
   ],
   "source": [
    "cell_types_df['clustering'].unique()"
   ]
  },
  {
   "cell_type": "code",
   "execution_count": 46,
   "metadata": {},
   "outputs": [
    {
     "data": {
      "text/plain": [
       "clustering\n",
       "CD4_Tc        14513\n",
       "nCD8_Tc        2495\n",
       "aCD8_Tc        1761\n",
       "nc_mono        1458\n",
       "mDC             930\n",
       "class_mono      363\n",
       "NK              319\n",
       "Bc              308\n",
       "pDC             155\n",
       "plasma           55\n",
       "Name: count, dtype: int64"
      ]
     },
     "execution_count": 46,
     "metadata": {},
     "output_type": "execute_result"
    }
   ],
   "source": [
    "cell_types_df['clustering'].value_counts()"
   ]
  },
  {
   "cell_type": "code",
   "execution_count": 47,
   "metadata": {},
   "outputs": [
    {
     "data": {
      "image/png": "[encoded data removed]",
      "text/plain": [
       "<Figure size 640x480 with 1 Axes>"
      ]
     },
     "metadata": {},
     "output_type": "display_data"
    }
   ],
   "source": [
    "cell_types_df['clustering'].value_counts().plot(kind='bar');"
   ]
  },
  {
   "cell_type": "code",
   "execution_count": 48,
   "metadata": {},
   "outputs": [
    {
     "data": {
      "text/plain": [
       "array(['class_mono', 'Tc_3', 'Tc_6', 'nc_mono', 'Tc_2', 'aCD8', 'nCD8',\n",
       "       'Tc_4', 'mDC1/2', 'pDC', 'Tc_1', 'NK', 'Bc', 'plasma', 'Tc_5'],\n",
       "      dtype=object)"
      ]
     },
     "execution_count": 48,
     "metadata": {},
     "output_type": "execute_result"
    }
   ],
   "source": [
    "cell_types_df['fineclusters'].unique()"
   ]
  },
  {
   "cell_type": "code",
   "execution_count": 49,
   "metadata": {},
   "outputs": [
    {
     "data": {
      "text/plain": [
       "fineclusters\n",
       "Tc_1          3826\n",
       "Tc_2          3012\n",
       "Tc_3          2980\n",
       "nCD8          2495\n",
       "Tc_4          2337\n",
       "Tc_6          2304\n",
       "aCD8          1761\n",
       "nc_mono       1458\n",
       "mDC1/2         930\n",
       "class_mono     363\n",
       "NK             319\n",
       "Bc             308\n",
       "pDC            155\n",
       "plasma          55\n",
       "Tc_5            54\n",
       "Name: count, dtype: int64"
      ]
     },
     "execution_count": 49,
     "metadata": {},
     "output_type": "execute_result"
    }
   ],
   "source": [
    "cell_types_df['fineclusters'].value_counts()"
   ]
  },
  {
   "cell_type": "code",
   "execution_count": 50,
   "metadata": {},
   "outputs": [
    {
     "data": {
      "text/plain": [
       "<Axes: xlabel='fineclusters'>"
      ]
     },
     "execution_count": 50,
     "metadata": {},
     "output_type": "execute_result"
    },
    {
     "data": {
      "image/png": "[encoded data removed]",
      "text/plain": [
       "<Figure size 640x480 with 1 Axes>"
      ]
     },
     "metadata": {},
     "output_type": "display_data"
    }
   ],
   "source": [
    "cell_types_df['fineclusters'].value_counts().plot(kind='bar')"
   ]
  },
  {
   "cell_type": "code",
   "execution_count": 51,
   "metadata": {},
   "outputs": [],
   "source": [
    "import seaborn as sns\n",
    "import plotly.offline as pyo\n",
    "import plotly.graph_objs as go"
   ]
  },
  {
   "cell_type": "code",
   "execution_count": 72,
   "metadata": {},
   "outputs": [],
   "source": [
    "def sankey_plot(\n",
    "        labels,\n",
    "        labels_titles=None,\n",
    "        title=None,\n",
    "        color_palette=sns.color_palette(),\n",
    "        width=None,\n",
    "        height=None\n",
    "    ):\n",
    "    '''\n",
    "    This function plots a Sankey diagram of the sets of labels passed as arguments.\n",
    "\n",
    "    :param labels1: list of labels list\n",
    "    :param labels2: lables titles\n",
    "    :param title: title of the plot\n",
    "    :param color_palette: color palette to use\n",
    "    '''\n",
    "\n",
    "    sorted_pairs = sorted(zip(labels[0], labels[1]))\n",
    "    sorted0, sorted1 = zip(*sorted_pairs)\n",
    "    labels = [pd.Series(sorted0), pd.Series(sorted1)]\n",
    "\n",
    "    n_types = [len(set(label_list)) for label_list in labels]\n",
    "\n",
    "    plot_labels = []\n",
    "    for i in labels:\n",
    "        for j in i.unique():\n",
    "            plot_labels.append(j)\n",
    "\n",
    "    source = []\n",
    "    target = []\n",
    "    value = []\n",
    "    for i in range(len(labels)-1):\n",
    "        confusion_matrix = pd.crosstab(labels[i], labels[i+1])\n",
    "        curr_source = []\n",
    "        curr_target = []\n",
    "        curr_value = []\n",
    "\n",
    "        source_add = 0\n",
    "        for j in range(0, i):\n",
    "            source_add += n_types[j]\n",
    "        target_add = source_add + n_types[i]\n",
    "\n",
    "        for j in range(n_types[i]):\n",
    "            for k in range(n_types[i+1]):\n",
    "                if confusion_matrix.iloc[j, k] != 0:\n",
    "                    curr_source.append(j+source_add)\n",
    "                    curr_target.append(k+target_add) #FIXME\n",
    "                    curr_value.append(confusion_matrix.iloc[j, k])\n",
    "\n",
    "        source += curr_source\n",
    "        target += curr_target\n",
    "        value += curr_value\n",
    "\n",
    "    colors = []\n",
    "    for i in range(len(labels)):\n",
    "        colors += color_palette.as_hex()[:n_types[i]]\n",
    "\n",
    "    fig = go.Figure(\n",
    "        data=[\n",
    "            go.Sankey(\n",
    "                node = dict(\n",
    "                    pad = 15,\n",
    "                    thickness = 20,\n",
    "                    line = dict(color = \"black\", width = 0.5),\n",
    "                    label = plot_labels,\n",
    "                    color = colors\n",
    "                ),\n",
    "                link = dict(\n",
    "                    source = source,\n",
    "                    target = target,\n",
    "                    value = value\n",
    "                )\n",
    "            )\n",
    "        ]\n",
    "    )\n",
    "\n",
    "    for x_coordinate, column_name in enumerate(labels_titles):\n",
    "        fig.add_annotation(\n",
    "            x=x_coordinate,\n",
    "            y=1.05,\n",
    "            xref=\"x\",\n",
    "            yref=\"paper\",\n",
    "            text=column_name,\n",
    "            showarrow=False\n",
    "        )\n",
    "    fig.update_layout(\n",
    "        title_text=title, \n",
    "        xaxis={'showgrid': False, 'zeroline': False, 'visible': False},\n",
    "        yaxis={'showgrid': False, 'zeroline': False, 'visible': False},\n",
    "        plot_bgcolor='rgba(0,0,0,0)',\n",
    "        font_size=10,\n",
    "        width=width,\n",
    "        height=height\n",
    "    )\n",
    "\n",
    "    \"\"\"file_name = f'../sankey'\n",
    "    if title is not None:\n",
    "        camel_title = title.replace(' ', '_')\n",
    "        file_name += f'_{camel_title}'\n",
    "    file_name += '.html'\n",
    "    pyo.plot(fig, filename=file_name, auto_open=False)\"\"\"\n",
    "    fig.show()"
   ]
  },
  {
   "cell_type": "code",
   "execution_count": 73,
   "metadata": {},
   "outputs": [
    {
     "data": {
      "application/vnd.plotly.v1+json": {
       "config": {
        "plotlyServerURL": "https://plot.ly"
       },
       "data": [
        {
         "link": {
          "source": [
           0,
           1,
           1,
           1,
           1,
           1,
           1,
           2,
           3,
           4,
           5,
           6,
           7,
           8,
           9
          ],
          "target": [
           10,
           12,
           13,
           14,
           15,
           16,
           17,
           11,
           18,
           19,
           20,
           21,
           22,
           23,
           24
          ],
          "value": [
           308,
           3826,
           3012,
           2980,
           2337,
           54,
           2304,
           319,
           1761,
           363,
           930,
           2495,
           1458,
           155,
           55
          ]
         },
         "node": {
          "color": [
           "#1f77b4",
           "#ff7f0e",
           "#2ca02c",
           "#d62728",
           "#9467bd",
           "#8c564b",
           "#e377c2",
           "#7f7f7f",
           "#bcbd22",
           "#17becf",
           "#1f77b4",
           "#ff7f0e",
           "#2ca02c",
           "#d62728",
           "#9467bd",
           "#8c564b",
           "#e377c2",
           "#7f7f7f",
           "#bcbd22",
           "#17becf"
          ],
          "label": [
           "Bc",
           "CD4_Tc",
           "NK",
           "aCD8_Tc",
           "class_mono",
           "mDC",
           "nCD8_Tc",
           "nc_mono",
           "pDC",
           "plasma",
           "Bc",
           "Tc_1",
           "Tc_2",
           "Tc_3",
           "Tc_4",
           "Tc_5",
           "Tc_6",
           "NK",
           "aCD8",
           "class_mono",
           "mDC1/2",
           "nCD8",
           "nc_mono",
           "pDC",
           "plasma"
          ],
          "line": {
           "color": "black",
           "width": 0.5
          },
          "pad": 15,
          "thickness": 20
         },
         "type": "sankey"
        }
       ],
       "layout": {
        "annotations": [
         {
          "showarrow": false,
          "text": "Types",
          "x": 0,
          "xref": "x",
          "y": 1.05,
          "yref": "paper"
         },
         {
          "showarrow": false,
          "text": "Sub-types",
          "x": 1,
          "xref": "x",
          "y": 1.05,
          "yref": "paper"
         }
        ],
        "font": {
         "size": 10
        },
        "plot_bgcolor": "rgba(0,0,0,0)",
        "template": {
         "data": {
          "bar": [
           {
            "error_x": {
             "color": "#2a3f5f"
            },
            "error_y": {
             "color": "#2a3f5f"
            },
            "marker": {
             "line": {
              "color": "#E5ECF6",
              "width": 0.5
             },
             "pattern": {
              "fillmode": "overlay",
              "size": 10,
              "solidity": 0.2
             }
            },
            "type": "bar"
           }
          ],
          "barpolar": [
           {
            "marker": {
             "line": {
              "color": "#E5ECF6",
              "width": 0.5
             },
             "pattern": {
              "fillmode": "overlay",
              "size": 10,
              "solidity": 0.2
             }
            },
            "type": "barpolar"
           }
          ],
          "carpet": [
           {
            "aaxis": {
             "endlinecolor": "#2a3f5f",
             "gridcolor": "white",
             "linecolor": "white",
             "minorgridcolor": "white",
             "startlinecolor": "#2a3f5f"
            },
            "baxis": {
             "endlinecolor": "#2a3f5f",
             "gridcolor": "white",
             "linecolor": "white",
             "minorgridcolor": "white",
             "startlinecolor": "#2a3f5f"
            },
            "type": "carpet"
           }
          ],
          "choropleth": [
           {
            "colorbar": {
             "outlinewidth": 0,
             "ticks": ""
            },
            "type": "choropleth"
           }
          ],
          "contour": [
           {
            "colorbar": {
             "outlinewidth": 0,
             "ticks": ""
            },
            "colorscale": [
             [
              0,
              "#0d0887"
             ],
             [
              0.1111111111111111,
              "#46039f"
             ],
             [
              0.2222222222222222,
              "#7201a8"
             ],
             [
              0.3333333333333333,
              "#9c179e"
             ],
             [
              0.4444444444444444,
              "#bd3786"
             ],
             [
              0.5555555555555556,
              "#d8576b"
             ],
             [
              0.6666666666666666,
              "#ed7953"
             ],
             [
              0.7777777777777778,
              "#fb9f3a"
             ],
             [
              0.8888888888888888,
              "#fdca26"
             ],
             [
              1,
              "#f0f921"
             ]
            ],
            "type": "contour"
           }
          ],
          "contourcarpet": [
           {
            "colorbar": {
             "outlinewidth": 0,
             "ticks": ""
            },
            "type": "contourcarpet"
           }
          ],
          "heatmap": [
           {
            "colorbar": {
             "outlinewidth": 0,
             "ticks": ""
            },
            "colorscale": [
             [
              0,
              "#0d0887"
             ],
             [
              0.1111111111111111,
              "#46039f"
             ],
             [
              0.2222222222222222,
              "#7201a8"
             ],
             [
              0.3333333333333333,
              "#9c179e"
             ],
             [
              0.4444444444444444,
              "#bd3786"
             ],
             [
              0.5555555555555556,
              "#d8576b"
             ],
             [
              0.6666666666666666,
              "#ed7953"
             ],
             [
              0.7777777777777778,
              "#fb9f3a"
             ],
             [
              0.8888888888888888,
              "#fdca26"
             ],
             [
              1,
              "#f0f921"
             ]
            ],
            "type": "heatmap"
           }
          ],
          "heatmapgl": [
           {
            "colorbar": {
             "outlinewidth": 0,
             "ticks": ""
            },
            "colorscale": [
             [
              0,
              "#0d0887"
             ],
             [
              0.1111111111111111,
              "#46039f"
             ],
             [
              0.2222222222222222,
              "#7201a8"
             ],
             [
              0.3333333333333333,
              "#9c179e"
             ],
             [
              0.4444444444444444,
              "#bd3786"
             ],
             [
              0.5555555555555556,
              "#d8576b"
             ],
             [
              0.6666666666666666,
              "#ed7953"
             ],
             [
              0.7777777777777778,
              "#fb9f3a"
             ],
             [
              0.8888888888888888,
              "#fdca26"
             ],
             [
              1,
              "#f0f921"
             ]
            ],
            "type": "heatmapgl"
           }
          ],
          "histogram": [
           {
            "marker": {
             "pattern": {
              "fillmode": "overlay",
              "size": 10,
              "solidity": 0.2
             }
            },
            "type": "histogram"
           }
          ],
          "histogram2d": [
           {
            "colorbar": {
             "outlinewidth": 0,
             "ticks": ""
            },
            "colorscale": [
             [
              0,
              "#0d0887"
             ],
             [
              0.1111111111111111,
              "#46039f"
             ],
             [
              0.2222222222222222,
              "#7201a8"
             ],
             [
              0.3333333333333333,
              "#9c179e"
             ],
             [
              0.4444444444444444,
              "#bd3786"
             ],
             [
              0.5555555555555556,
              "#d8576b"
             ],
             [
              0.6666666666666666,
              "#ed7953"
             ],
             [
              0.7777777777777778,
              "#fb9f3a"
             ],
             [
              0.8888888888888888,
              "#fdca26"
             ],
             [
              1,
              "#f0f921"
             ]
            ],
            "type": "histogram2d"
           }
          ],
          "histogram2dcontour": [
           {
            "colorbar": {
             "outlinewidth": 0,
             "ticks": ""
            },
            "colorscale": [
             [
              0,
              "#0d0887"
             ],
             [
              0.1111111111111111,
              "#46039f"
             ],
             [
              0.2222222222222222,
              "#7201a8"
             ],
             [
              0.3333333333333333,
              "#9c179e"
             ],
             [
              0.4444444444444444,
              "#bd3786"
             ],
             [
              0.5555555555555556,
              "#d8576b"
             ],
             [
              0.6666666666666666,
              "#ed7953"
             ],
             [
              0.7777777777777778,
              "#fb9f3a"
             ],
             [
              0.8888888888888888,
              "#fdca26"
             ],
             [
              1,
              "#f0f921"
             ]
            ],
            "type": "histogram2dcontour"
           }
          ],
          "mesh3d": [
           {
            "colorbar": {
             "outlinewidth": 0,
             "ticks": ""
            },
            "type": "mesh3d"
           }
          ],
          "parcoords": [
           {
            "line": {
             "colorbar": {
              "outlinewidth": 0,
              "ticks": ""
             }
            },
            "type": "parcoords"
           }
          ],
          "pie": [
           {
            "automargin": true,
            "type": "pie"
           }
          ],
          "scatter": [
           {
            "fillpattern": {
             "fillmode": "overlay",
             "size": 10,
             "solidity": 0.2
            },
            "type": "scatter"
           }
          ],
          "scatter3d": [
           {
            "line": {
             "colorbar": {
              "outlinewidth": 0,
              "ticks": ""
             }
            },
            "marker": {
             "colorbar": {
              "outlinewidth": 0,
              "ticks": ""
             }
            },
            "type": "scatter3d"
           }
          ],
          "scattercarpet": [
           {
            "marker": {
             "colorbar": {
              "outlinewidth": 0,
              "ticks": ""
             }
            },
            "type": "scattercarpet"
           }
          ],
          "scattergeo": [
           {
            "marker": {
             "colorbar": {
              "outlinewidth": 0,
              "ticks": ""
             }
            },
            "type": "scattergeo"
           }
          ],
          "scattergl": [
           {
            "marker": {
             "colorbar": {
              "outlinewidth": 0,
              "ticks": ""
             }
            },
            "type": "scattergl"
           }
          ],
          "scattermapbox": [
           {
            "marker": {
             "colorbar": {
              "outlinewidth": 0,
              "ticks": ""
             }
            },
            "type": "scattermapbox"
           }
          ],
          "scatterpolar": [
           {
            "marker": {
             "colorbar": {
              "outlinewidth": 0,
              "ticks": ""
             }
            },
            "type": "scatterpolar"
           }
          ],
          "scatterpolargl": [
           {
            "marker": {
             "colorbar": {
              "outlinewidth": 0,
              "ticks": ""
             }
            },
            "type": "scatterpolargl"
           }
          ],
          "scatterternary": [
           {
            "marker": {
             "colorbar": {
              "outlinewidth": 0,
              "ticks": ""
             }
            },
            "type": "scatterternary"
           }
          ],
          "surface": [
           {
            "colorbar": {
             "outlinewidth": 0,
             "ticks": ""
            },
            "colorscale": [
             [
              0,
              "#0d0887"
             ],
             [
              0.1111111111111111,
              "#46039f"
             ],
             [
              0.2222222222222222,
              "#7201a8"
             ],
             [
              0.3333333333333333,
              "#9c179e"
             ],
             [
              0.4444444444444444,
              "#bd3786"
             ],
             [
              0.5555555555555556,
              "#d8576b"
             ],
             [
              0.6666666666666666,
              "#ed7953"
             ],
             [
              0.7777777777777778,
              "#fb9f3a"
             ],
             [
              0.8888888888888888,
              "#fdca26"
             ],
             [
              1,
              "#f0f921"
             ]
            ],
            "type": "surface"
           }
          ],
          "table": [
           {
            "cells": {
             "fill": {
              "color": "#EBF0F8"
             },
             "line": {
              "color": "white"
             }
            },
            "header": {
             "fill": {
              "color": "#C8D4E3"
             },
             "line": {
              "color": "white"
             }
            },
            "type": "table"
           }
          ]
         },
         "layout": {
          "annotationdefaults": {
           "arrowcolor": "#2a3f5f",
           "arrowhead": 0,
           "arrowwidth": 1
          },
          "autotypenumbers": "strict",
          "coloraxis": {
           "colorbar": {
            "outlinewidth": 0,
            "ticks": ""
           }
          },
          "colorscale": {
           "diverging": [
            [
             0,
             "#8e0152"
            ],
            [
             0.1,
             "#c51b7d"
            ],
            [
             0.2,
             "#de77ae"
            ],
            [
             0.3,
             "#f1b6da"
            ],
            [
             0.4,
             "#fde0ef"
            ],
            [
             0.5,
             "#f7f7f7"
            ],
            [
             0.6,
             "#e6f5d0"
            ],
            [
             0.7,
             "#b8e186"
            ],
            [
             0.8,
             "#7fbc41"
            ],
            [
             0.9,
             "#4d9221"
            ],
            [
             1,
             "#276419"
            ]
           ],
           "sequential": [
            [
             0,
             "#0d0887"
            ],
            [
             0.1111111111111111,
             "#46039f"
            ],
            [
             0.2222222222222222,
             "#7201a8"
            ],
            [
             0.3333333333333333,
             "#9c179e"
            ],
            [
             0.4444444444444444,
             "#bd3786"
            ],
            [
             0.5555555555555556,
             "#d8576b"
            ],
            [
             0.6666666666666666,
             "#ed7953"
            ],
            [
             0.7777777777777778,
             "#fb9f3a"
            ],
            [
             0.8888888888888888,
             "#fdca26"
            ],
            [
             1,
             "#f0f921"
            ]
           ],
           "sequentialminus": [
            [
             0,
             "#0d0887"
            ],
            [
             0.1111111111111111,
             "#46039f"
            ],
            [
             0.2222222222222222,
             "#7201a8"
            ],
            [
             0.3333333333333333,
             "#9c179e"
            ],
            [
             0.4444444444444444,
             "#bd3786"
            ],
            [
             0.5555555555555556,
             "#d8576b"
            ],
            [
             0.6666666666666666,
             "#ed7953"
            ],
            [
             0.7777777777777778,
             "#fb9f3a"
            ],
            [
             0.8888888888888888,
             "#fdca26"
            ],
            [
             1,
             "#f0f921"
            ]
           ]
          },
          "colorway": [
           "#636efa",
           "#EF553B",
           "#00cc96",
           "#ab63fa",
           "#FFA15A",
           "#19d3f3",
           "#FF6692",
           "#B6E880",
           "#FF97FF",
           "#FECB52"
          ],
          "font": {
           "color": "#2a3f5f"
          },
          "geo": {
           "bgcolor": "white",
           "lakecolor": "white",
           "landcolor": "#E5ECF6",
           "showlakes": true,
           "showland": true,
           "subunitcolor": "white"
          },
          "hoverlabel": {
           "align": "left"
          },
          "hovermode": "closest",
          "mapbox": {
           "style": "light"
          },
          "paper_bgcolor": "white",
          "plot_bgcolor": "#E5ECF6",
          "polar": {
           "angularaxis": {
            "gridcolor": "white",
            "linecolor": "white",
            "ticks": ""
           },
           "bgcolor": "#E5ECF6",
           "radialaxis": {
            "gridcolor": "white",
            "linecolor": "white",
            "ticks": ""
           }
          },
          "scene": {
           "xaxis": {
            "backgroundcolor": "#E5ECF6",
            "gridcolor": "white",
            "gridwidth": 2,
            "linecolor": "white",
            "showbackground": true,
            "ticks": "",
            "zerolinecolor": "white"
           },
           "yaxis": {
            "backgroundcolor": "#E5ECF6",
            "gridcolor": "white",
            "gridwidth": 2,
            "linecolor": "white",
            "showbackground": true,
            "ticks": "",
            "zerolinecolor": "white"
           },
           "zaxis": {
            "backgroundcolor": "#E5ECF6",
            "gridcolor": "white",
            "gridwidth": 2,
            "linecolor": "white",
            "showbackground": true,
            "ticks": "",
            "zerolinecolor": "white"
           }
          },
          "shapedefaults": {
           "line": {
            "color": "#2a3f5f"
           }
          },
          "ternary": {
           "aaxis": {
            "gridcolor": "white",
            "linecolor": "white",
            "ticks": ""
           },
           "baxis": {
            "gridcolor": "white",
            "linecolor": "white",
            "ticks": ""
           },
           "bgcolor": "#E5ECF6",
           "caxis": {
            "gridcolor": "white",
            "linecolor": "white",
            "ticks": ""
           }
          },
          "title": {
           "x": 0.05
          },
          "xaxis": {
           "automargin": true,
           "gridcolor": "white",
           "linecolor": "white",
           "ticks": "",
           "title": {
            "standoff": 15
           },
           "zerolinecolor": "white",
           "zerolinewidth": 2
          },
          "yaxis": {
           "automargin": true,
           "gridcolor": "white",
           "linecolor": "white",
           "ticks": "",
           "title": {
            "standoff": 15
           },
           "zerolinecolor": "white",
           "zerolinewidth": 2
          }
         }
        },
        "title": {
         "text": "Sankey Plot Cell Types and Sub-types"
        },
        "xaxis": {
         "showgrid": false,
         "visible": false,
         "zeroline": false
        },
        "yaxis": {
         "showgrid": false,
         "visible": false,
         "zeroline": false
        }
       }
      }
     },
     "metadata": {},
     "output_type": "display_data"
    }
   ],
   "source": [
    "sankey_plot(\n",
    "    [cell_types_df['clustering'], cell_types_df['fineclusters']],\n",
    "    labels_titles=['Types', 'Sub-types'],\n",
    "    title='Sankey Plot Cell Types and Sub-types'\n",
    ")"
   ]
  },
  {
   "cell_type": "code",
   "execution_count": 54,
   "metadata": {},
   "outputs": [
    {
     "data": {
      "text/plain": [
       "array(['Tc_3', 'Tc_6', 'Tc_2', 'Tc_4', 'Tc_1', 'Tc_5'], dtype=object)"
      ]
     },
     "execution_count": 54,
     "metadata": {},
     "output_type": "execute_result"
    }
   ],
   "source": [
    "cell_types_df[cell_types_df['clustering']=='CD4_Tc']['fineclusters'].unique()"
   ]
  }
 ],
 "metadata": {
  "kernelspec": {
   "display_name": "base",
   "language": "python",
   "name": "python3"
  },
  "language_info": {
   "codemirror_mode": {
    "name": "ipython",
    "version": 3
   },
   "file_extension": ".py",
   "mimetype": "text/x-python",
   "name": "python",
   "nbconvert_exporter": "python",
   "pygments_lexer": "ipython3",
   "version": "3.10.9"
  }
 },
 "nbformat": 4,
 "nbformat_minor": 2
}
