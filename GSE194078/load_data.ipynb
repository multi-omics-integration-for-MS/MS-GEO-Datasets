{
 "cells": [
  {
   "cell_type": "code",
   "execution_count": null,
   "metadata": {},
   "outputs": [],
   "source": [
    "import os\n",
    "import glob\n",
    "import gzip\n",
    "import glob"
   ]
  },
  {
   "cell_type": "code",
   "execution_count": null,
   "metadata": {},
   "outputs": [],
   "source": [
    "def decompress_gzip(input_filepath, output_filepath):\n",
    "    input_files = glob.glob()\n",
    "\n",
    "    for f_path in input_files:\n",
    "        with gzip.open(f_path, 'rb') as f_in:\n",
    "            with open(output_filepath, 'wb') as f_out:\n",
    "                f_out.write(f_in.read())\n",
    "\n",
    "def decompress_gz_files(files_gz_path, path_to_extract_files):\n",
    "    gz_files = glob.glob(os.path.join(files_gz_path, '*.faa.gz'))\n",
    "\n",
    "    for gz_file in gz_files:\n",
    "        os.system(f'gunzip -c {gz_file} > {os.path.join(path_to_extract_files, os.path.basename(gz_file)[:-7] + \".fna\")}')"
   ]
  }
 ],
 "metadata": {
  "language_info": {
   "name": "python"
  }
 },
 "nbformat": 4,
 "nbformat_minor": 2
}
