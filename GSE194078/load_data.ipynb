{
 "cells": [
  {
   "cell_type": "code",
   "execution_count": 1,
   "metadata": {},
   "outputs": [],
   "source": [
    "import numpy as np\n",
    "import pandas as pd\n",
    "import scanpy as sc\n",
    "import anndata as ad"
   ]
  },
  {
   "cell_type": "code",
   "execution_count": 2,
   "metadata": {},
   "outputs": [],
   "source": [
    "with open('matrix_list.txt', 'r') as file:\n",
    "    content = file.read()"
   ]
  },
  {
   "cell_type": "code",
   "execution_count": 3,
   "metadata": {},
   "outputs": [],
   "source": [
    "content_list = content.split(\"\\n\")\n",
    "grouped_list = [content_list[i:i+3] for i in range(0, len(content_list), 3)]"
   ]
  },
  {
   "cell_type": "code",
   "execution_count": 4,
   "metadata": {},
   "outputs": [],
   "source": [
    "samples_prefixes = [sample[0].split(\"_\")[1] for sample in grouped_list[::2]]"
   ]
  },
  {
   "cell_type": "code",
   "execution_count": 5,
   "metadata": {},
   "outputs": [],
   "source": [
    "samples_prefixes = [f'{sample}_CSF_' for sample in samples_prefixes] + [f'{sample}_PBMC_' for sample in samples_prefixes]"
   ]
  },
  {
   "cell_type": "code",
   "execution_count": 6,
   "metadata": {},
   "outputs": [],
   "source": [
    "adatas = {}\n",
    "for (barcode, feature, matrix), prefix in zip(grouped_list, samples_prefixes):\n",
    "    adatas[prefix] = sc.read_10x_mtx(\n",
    "        '../GSE194078/MTX',\n",
    "        var_names='gene_symbols',\n",
    "        gex_only=False, \n",
    "        cache=True,\n",
    "        prefix=prefix)\n"
   ]
  },
  {
   "cell_type": "code",
   "execution_count": 7,
   "metadata": {},
   "outputs": [
    {
     "data": {
      "text/plain": [
       "{'CYG_CSF_': AnnData object with n_obs × n_vars = 2641 × 36601\n",
       "     var: 'gene_ids', 'feature_types',\n",
       " 'JSB_CSF_': AnnData object with n_obs × n_vars = 1917 × 36601\n",
       "     var: 'gene_ids', 'feature_types',\n",
       " 'JYJ_CSF_': AnnData object with n_obs × n_vars = 3827 × 36601\n",
       "     var: 'gene_ids', 'feature_types',\n",
       " 'KHW_CSF_': AnnData object with n_obs × n_vars = 11138 × 36601\n",
       "     var: 'gene_ids', 'feature_types',\n",
       " 'KJS_CSF_': AnnData object with n_obs × n_vars = 10394 × 36601\n",
       "     var: 'gene_ids', 'feature_types',\n",
       " 'KSH_CSF_': AnnData object with n_obs × n_vars = 11289 × 36601\n",
       "     var: 'gene_ids', 'feature_types',\n",
       " 'KYO_CSF_': AnnData object with n_obs × n_vars = 395 × 36601\n",
       "     var: 'gene_ids', 'feature_types',\n",
       " 'SYG_CSF_': AnnData object with n_obs × n_vars = 1849 × 36601\n",
       "     var: 'gene_ids', 'feature_types',\n",
       " 'YYJ_CSF_': AnnData object with n_obs × n_vars = 1996 × 36601\n",
       "     var: 'gene_ids', 'feature_types',\n",
       " 'YYS_CSF_': AnnData object with n_obs × n_vars = 329 × 36601\n",
       "     var: 'gene_ids', 'feature_types',\n",
       " 'YYW_CSF_': AnnData object with n_obs × n_vars = 2887 × 36601\n",
       "     var: 'gene_ids', 'feature_types',\n",
       " 'CYG_PBMC_': AnnData object with n_obs × n_vars = 8528 × 36601\n",
       "     var: 'gene_ids', 'feature_types',\n",
       " 'JSB_PBMC_': AnnData object with n_obs × n_vars = 9621 × 36601\n",
       "     var: 'gene_ids', 'feature_types',\n",
       " 'JYJ_PBMC_': AnnData object with n_obs × n_vars = 9748 × 36601\n",
       "     var: 'gene_ids', 'feature_types',\n",
       " 'KHW_PBMC_': AnnData object with n_obs × n_vars = 16133 × 36601\n",
       "     var: 'gene_ids', 'feature_types',\n",
       " 'KJS_PBMC_': AnnData object with n_obs × n_vars = 9178 × 36601\n",
       "     var: 'gene_ids', 'feature_types',\n",
       " 'KSH_PBMC_': AnnData object with n_obs × n_vars = 10319 × 36601\n",
       "     var: 'gene_ids', 'feature_types',\n",
       " 'KYO_PBMC_': AnnData object with n_obs × n_vars = 8963 × 36601\n",
       "     var: 'gene_ids', 'feature_types',\n",
       " 'SYG_PBMC_': AnnData object with n_obs × n_vars = 11823 × 36601\n",
       "     var: 'gene_ids', 'feature_types',\n",
       " 'YYJ_PBMC_': AnnData object with n_obs × n_vars = 7640 × 36601\n",
       "     var: 'gene_ids', 'feature_types',\n",
       " 'YYS_PBMC_': AnnData object with n_obs × n_vars = 10079 × 36601\n",
       "     var: 'gene_ids', 'feature_types',\n",
       " 'YYW_PBMC_': AnnData object with n_obs × n_vars = 13241 × 36601\n",
       "     var: 'gene_ids', 'feature_types'}"
      ]
     },
     "execution_count": 7,
     "metadata": {},
     "output_type": "execute_result"
    }
   ],
   "source": [
    "adatas"
   ]
  },
  {
   "cell_type": "code",
   "execution_count": 13,
   "metadata": {},
   "outputs": [],
   "source": [
    "import itertools\n",
    "\n",
    "adatas_csf = dict(itertools.islice(adatas.items(), 10))\n",
    "\n",
    "adatas_pmcb = dict(itertools.islice(adatas.items(), 11, adatas.__len__()))"
   ]
  },
  {
   "cell_type": "code",
   "execution_count": 10,
   "metadata": {},
   "outputs": [
    {
     "data": {
      "text/plain": [
       "{'CYG_CSF_': AnnData object with n_obs × n_vars = 2641 × 36601\n",
       "     var: 'gene_ids', 'feature_types',\n",
       " 'JSB_CSF_': AnnData object with n_obs × n_vars = 1917 × 36601\n",
       "     var: 'gene_ids', 'feature_types',\n",
       " 'JYJ_CSF_': AnnData object with n_obs × n_vars = 3827 × 36601\n",
       "     var: 'gene_ids', 'feature_types',\n",
       " 'KHW_CSF_': AnnData object with n_obs × n_vars = 11138 × 36601\n",
       "     var: 'gene_ids', 'feature_types',\n",
       " 'KJS_CSF_': AnnData object with n_obs × n_vars = 10394 × 36601\n",
       "     var: 'gene_ids', 'feature_types',\n",
       " 'KSH_CSF_': AnnData object with n_obs × n_vars = 11289 × 36601\n",
       "     var: 'gene_ids', 'feature_types',\n",
       " 'KYO_CSF_': AnnData object with n_obs × n_vars = 395 × 36601\n",
       "     var: 'gene_ids', 'feature_types',\n",
       " 'SYG_CSF_': AnnData object with n_obs × n_vars = 1849 × 36601\n",
       "     var: 'gene_ids', 'feature_types',\n",
       " 'YYJ_CSF_': AnnData object with n_obs × n_vars = 1996 × 36601\n",
       "     var: 'gene_ids', 'feature_types',\n",
       " 'YYS_CSF_': AnnData object with n_obs × n_vars = 329 × 36601\n",
       "     var: 'gene_ids', 'feature_types'}"
      ]
     },
     "execution_count": 10,
     "metadata": {},
     "output_type": "execute_result"
    }
   ],
   "source": [
    "adatas_csf"
   ]
  },
  {
   "cell_type": "code",
   "execution_count": 14,
   "metadata": {},
   "outputs": [
    {
     "data": {
      "text/plain": [
       "{'CYG_PBMC_': AnnData object with n_obs × n_vars = 8528 × 36601\n",
       "     var: 'gene_ids', 'feature_types',\n",
       " 'JSB_PBMC_': AnnData object with n_obs × n_vars = 9621 × 36601\n",
       "     var: 'gene_ids', 'feature_types',\n",
       " 'JYJ_PBMC_': AnnData object with n_obs × n_vars = 9748 × 36601\n",
       "     var: 'gene_ids', 'feature_types',\n",
       " 'KHW_PBMC_': AnnData object with n_obs × n_vars = 16133 × 36601\n",
       "     var: 'gene_ids', 'feature_types',\n",
       " 'KJS_PBMC_': AnnData object with n_obs × n_vars = 9178 × 36601\n",
       "     var: 'gene_ids', 'feature_types',\n",
       " 'KSH_PBMC_': AnnData object with n_obs × n_vars = 10319 × 36601\n",
       "     var: 'gene_ids', 'feature_types',\n",
       " 'KYO_PBMC_': AnnData object with n_obs × n_vars = 8963 × 36601\n",
       "     var: 'gene_ids', 'feature_types',\n",
       " 'SYG_PBMC_': AnnData object with n_obs × n_vars = 11823 × 36601\n",
       "     var: 'gene_ids', 'feature_types',\n",
       " 'YYJ_PBMC_': AnnData object with n_obs × n_vars = 7640 × 36601\n",
       "     var: 'gene_ids', 'feature_types',\n",
       " 'YYS_PBMC_': AnnData object with n_obs × n_vars = 10079 × 36601\n",
       "     var: 'gene_ids', 'feature_types',\n",
       " 'YYW_PBMC_': AnnData object with n_obs × n_vars = 13241 × 36601\n",
       "     var: 'gene_ids', 'feature_types'}"
      ]
     },
     "execution_count": 14,
     "metadata": {},
     "output_type": "execute_result"
    }
   ],
   "source": [
    "adatas_pmcb"
   ]
  },
  {
   "cell_type": "code",
   "execution_count": 22,
   "metadata": {},
   "outputs": [
    {
     "data": {
      "text/html": [
       "<div>\n",
       "<style scoped>\n",
       "    .dataframe tbody tr th:only-of-type {\n",
       "        vertical-align: middle;\n",
       "    }\n",
       "\n",
       "    .dataframe tbody tr th {\n",
       "        vertical-align: top;\n",
       "    }\n",
       "\n",
       "    .dataframe thead th {\n",
       "        text-align: right;\n",
       "    }\n",
       "</style>\n",
       "<table border=\"1\" class=\"dataframe\">\n",
       "  <thead>\n",
       "    <tr style=\"text-align: right;\">\n",
       "      <th></th>\n",
       "    </tr>\n",
       "  </thead>\n",
       "  <tbody>\n",
       "    <tr>\n",
       "      <th>AAACCCACAGAGATGC-1</th>\n",
       "    </tr>\n",
       "    <tr>\n",
       "      <th>AAACGAACAACCCTCT-1</th>\n",
       "    </tr>\n",
       "    <tr>\n",
       "      <th>AAACGAAGTGCCTGAC-1</th>\n",
       "    </tr>\n",
       "    <tr>\n",
       "      <th>AAACGAATCAGAATAG-1</th>\n",
       "    </tr>\n",
       "    <tr>\n",
       "      <th>AAACGCTAGTTGCTCA-1</th>\n",
       "    </tr>\n",
       "    <tr>\n",
       "      <th>...</th>\n",
       "    </tr>\n",
       "    <tr>\n",
       "      <th>TTTGACTGTTCTCTAT-1</th>\n",
       "    </tr>\n",
       "    <tr>\n",
       "      <th>TTTGACTTCCGTAGTA-1</th>\n",
       "    </tr>\n",
       "    <tr>\n",
       "      <th>TTTGGAGCAAATGATG-1</th>\n",
       "    </tr>\n",
       "    <tr>\n",
       "      <th>TTTGGTTAGTAGTGCG-1</th>\n",
       "    </tr>\n",
       "    <tr>\n",
       "      <th>TTTGTTGGTATTCCTT-1</th>\n",
       "    </tr>\n",
       "  </tbody>\n",
       "</table>\n",
       "<p>1996 rows × 0 columns</p>\n",
       "</div>"
      ],
      "text/plain": [
       "Empty DataFrame\n",
       "Columns: []\n",
       "Index: [AAACCCACAGAGATGC-1, AAACGAACAACCCTCT-1, AAACGAAGTGCCTGAC-1, AAACGAATCAGAATAG-1, AAACGCTAGTTGCTCA-1, AAAGGATAGCAGGCAT-1, AAAGGATCAGAACCGA-1, AAAGGATCATGAGTAA-1, AAAGGGCCAGATCACT-1, AAAGGGCGTAAGCGGT-1, AAAGGGCTCGAGCACC-1, AAAGGTAAGACGTCCC-1, AAAGTCCAGCTGGCCT-1, AAAGTCCCACACTGGC-1, AAAGTCCGTTTGGCTA-1, AAAGTCCTCGCGCTGA-1, AAAGTGAAGGCATTTC-1, AAAGTGAAGTCTAGCT-1, AAAGTGACAATCGCAT-1, AAAGTGACATCGTCCT-1, AAATGGAGTAGAGGAA-1, AAATGGAGTATGAGCG-1, AACAAAGAGCCAACCC-1, AACAAAGTCCAGGACC-1, AACAACCAGGGAGATA-1, AACAACCGTAGATTGA-1, AACACACAGCTAATCC-1, AACAGGGGTACTGAGG-1, AACAGGGGTATCCTTT-1, AACAGGGGTTGGTACT-1, AACCAACTCATCACCC-1, AACCACATCTACGGTA-1, AACCATGCACCAGTAT-1, AACCATGTCAACTTTC-1, AACCTGACAGTGTGGA-1, AACCTGACATCGGATT-1, AACCTGATCGACGACC-1, AACCTGATCTTACGTT-1, AACGAAACAAACGTGG-1, AACGAAACAATTCACG-1, AACGAAAGTCACAATC-1, AACGGGATCAAGCTGT-1, AACGGGATCGAACTCA-1, AACGGGATCGCATTGA-1, AACGTCATCGGTATGT-1, AACTTCTAGGAAGTAG-1, AACTTCTCACTTGAGT-1, AAGAACAAGCTGTCCG-1, AAGAACAGTCTTGAAC-1, AAGACTCTCCGATAAC-1, AAGATAGAGCTTCATG-1, AAGATAGAGTGAACAT-1, AAGATAGCAAGTTGGG-1, AAGATAGGTATTTCCT-1, AAGCATCAGTCAGCCC-1, AAGCCATAGTGAGTTA-1, AAGCGAGAGAAGCCAC-1, AAGCGAGCAGAATGTA-1, AAGCGTTGTTGTAGCT-1, AAGGAATGTTAAACCC-1, AAGGTAAAGCAATTAG-1, AAGGTAACACTTACAG-1, AAGGTAAGTGCCCTTT-1, AAGTACCGTGCATCTA-1, AAGTACCTCAGCGGAA-1, AAGTACCTCAGGGATG-1, AAGTACCTCCCTAGGG-1, AAGTCGTCACGCTATA-1, AAGTCGTTCCTCTCTT-1, AAGTGAATCCTTGGAA-1, AATAGAGGTACAGGTG-1, AATAGAGTCGGAGTAG-1, AATAGAGTCGTGCAGC-1, AATCACGAGGGCATGT-1, AATCACGCAGACACCC-1, AATCGACGTGATTCTG-1, AATCGTGAGACCAAGC-1, AATGAAGAGTAGCAAT-1, AATGAAGAGTTGTAAG-1, AATGAAGTCATCGACA-1, AATGAAGTCCTTACCG-1, AATGAAGTCGCTGCGA-1, AATGACCTCGCTTAAG-1, AATGGAAAGCATTTCG-1, AATGGAACAAGACGAC-1, AATGGCTCATGGGCAA-1, AATTCCTCACAACGAG-1, AATTCCTCAGTCAACT-1, AATTCCTGTAACATCC-1, AATTTCCCAGGATGAC-1, AATTTCCTCCGATCTC-1, ACAAAGACATGTCTAG-1, ACAAAGATCCTTCAGC-1, ACAACCAAGGTGCTAG-1, ACAACCAGTGTCATGT-1, ACAACCATCTCGAGTA-1, ACAAGCTGTGACGCCT-1, ACAAGCTGTGCCGTTG-1, ACAAGCTTCAGCTTGA-1, ACAAGCTTCTGGGCAC-1, ...]\n",
       "\n",
       "[1996 rows x 0 columns]"
      ]
     },
     "execution_count": 22,
     "metadata": {},
     "output_type": "execute_result"
    }
   ],
   "source": [
    "adatas_csf['YYJ_CSF_'].obs"
   ]
  },
  {
   "cell_type": "code",
   "execution_count": 26,
   "metadata": {},
   "outputs": [],
   "source": [
    "adata_csf = ad.concat(adatas_csf.values(), keys=adatas_csf.keys(), index_unique='-', join='outer')"
   ]
  },
  {
   "cell_type": "code",
   "execution_count": 27,
   "metadata": {},
   "outputs": [],
   "source": [
    "adata_pbmc = ad.concat(adatas_pmcb.values(), keys=adatas_pmcb.keys(), index_unique='-', join='outer')"
   ]
  }
 ],
 "metadata": {
  "kernelspec": {
   "display_name": "chl",
   "language": "python",
   "name": "python3"
  },
  "language_info": {
   "codemirror_mode": {
    "name": "ipython",
    "version": 3
   },
   "file_extension": ".py",
   "mimetype": "text/x-python",
   "name": "python",
   "nbconvert_exporter": "python",
   "pygments_lexer": "ipython3",
   "version": "3.9.19"
  }
 },
 "nbformat": 4,
 "nbformat_minor": 2
}
