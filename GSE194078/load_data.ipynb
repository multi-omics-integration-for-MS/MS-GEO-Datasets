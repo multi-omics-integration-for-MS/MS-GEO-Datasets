{
 "cells": [
  {
   "cell_type": "code",
   "execution_count": 48,
   "metadata": {},
   "outputs": [],
   "source": [
    "import numpy as np\n",
    "import pandas as pd\n",
    "import scanpy as sc\n",
    "import anndata as ad"
   ]
  },
  {
   "cell_type": "code",
   "execution_count": 2,
   "metadata": {},
   "outputs": [],
   "source": [
    "with open('matrix_list.txt', 'r') as file:\n",
    "    content = file.read()"
   ]
  },
  {
   "cell_type": "code",
   "execution_count": 36,
   "metadata": {},
   "outputs": [],
   "source": [
    "content_list = content.split(\"\\n\")\n",
    "grouped_list = [content_list[i:i+3] for i in range(0, len(content_list), 3)]"
   ]
  },
  {
   "cell_type": "code",
   "execution_count": 43,
   "metadata": {},
   "outputs": [],
   "source": [
    "samples_prefixes = [sample[0].split(\"_\")[1] for sample in grouped_list[::2]]"
   ]
  },
  {
   "cell_type": "code",
   "execution_count": 44,
   "metadata": {},
   "outputs": [],
   "source": [
    "samples_prefixes = [f'{sample}_CSF_' for sample in samples_prefixes] + [f'{sample}_PBMC_' for sample in samples_prefixes]"
   ]
  },
  {
   "cell_type": "code",
   "execution_count": 46,
   "metadata": {},
   "outputs": [],
   "source": [
    "adatas = {}\n",
    "for (barcode, feature, matrix), prefix in zip(grouped_list, samples_prefixes):\n",
    "    adatas[prefix] = sc.read_10x_mtx(\n",
    "        '../GSE194078/MTX',\n",
    "        var_names='gene_symbols',\n",
    "        gex_only=False, \n",
    "        cache=True,\n",
    "        prefix=prefix)\n"
   ]
  },
  {
   "cell_type": "code",
   "execution_count": 52,
   "metadata": {},
   "outputs": [
    {
     "name": "stderr",
     "output_type": "stream",
     "text": [
      "/Users/nicolapitzalis/anaconda3/envs/chl/lib/python3.9/site-packages/anndata/_core/anndata.py:1818: UserWarning: Observation names are not unique. To make them unique, call `.obs_names_make_unique`.\n",
      "  utils.warn_names_duplicates(\"obs\")\n"
     ]
    },
    {
     "data": {
      "text/html": [
       "<div>\n",
       "<style scoped>\n",
       "    .dataframe tbody tr th:only-of-type {\n",
       "        vertical-align: middle;\n",
       "    }\n",
       "\n",
       "    .dataframe tbody tr th {\n",
       "        vertical-align: top;\n",
       "    }\n",
       "\n",
       "    .dataframe thead th {\n",
       "        text-align: right;\n",
       "    }\n",
       "</style>\n",
       "<table border=\"1\" class=\"dataframe\">\n",
       "  <thead>\n",
       "    <tr style=\"text-align: right;\">\n",
       "      <th></th>\n",
       "    </tr>\n",
       "  </thead>\n",
       "  <tbody>\n",
       "    <tr>\n",
       "      <th>AAACCCACAAGACCGA-1</th>\n",
       "    </tr>\n",
       "    <tr>\n",
       "      <th>AAACCCACACGGCACT-1</th>\n",
       "    </tr>\n",
       "    <tr>\n",
       "      <th>AAACCCATCAGAATAG-1</th>\n",
       "    </tr>\n",
       "    <tr>\n",
       "      <th>AAACGAAAGGTAAAGG-1</th>\n",
       "    </tr>\n",
       "    <tr>\n",
       "      <th>AAACGAACACAGCCAC-1</th>\n",
       "    </tr>\n",
       "    <tr>\n",
       "      <th>...</th>\n",
       "    </tr>\n",
       "    <tr>\n",
       "      <th>TTTGTTGCAAGTGCAG-1</th>\n",
       "    </tr>\n",
       "    <tr>\n",
       "      <th>TTTGTTGGTCAACCAT-1</th>\n",
       "    </tr>\n",
       "    <tr>\n",
       "      <th>TTTGTTGGTGTGATGG-1</th>\n",
       "    </tr>\n",
       "    <tr>\n",
       "      <th>TTTGTTGGTTGGCCTG-1</th>\n",
       "    </tr>\n",
       "    <tr>\n",
       "      <th>TTTGTTGTCGTGGACC-1</th>\n",
       "    </tr>\n",
       "  </tbody>\n",
       "</table>\n",
       "<p>11169 rows × 0 columns</p>\n",
       "</div>"
      ],
      "text/plain": [
       "Empty DataFrame\n",
       "Columns: []\n",
       "Index: [AAACCCACAAGACCGA-1, AAACCCACACGGCACT-1, AAACCCATCAGAATAG-1, AAACGAAAGGTAAAGG-1, AAACGAACACAGCCAC-1, AAACGAATCACTCCGT-1, AAACGCTTCAGCTGTA-1, AAAGAACAGCGACTGA-1, AAAGGATGTAGCTTAC-1, AAAGGATGTATCCTCC-1, AAAGGATGTTACTCAG-1, AAAGGGCTCGAGGCAA-1, AAAGGTACAGCTGTCG-1, AAAGGTACATGGGAAC-1, AAAGTCCAGAGTGAAG-1, AAAGTCCAGGTCACAG-1, AAAGTCCGTGTTGATC-1, AAAGTGAAGCGAATGC-1, AAAGTGAAGCGTGTCC-1, AAAGTGACACCAGCTG-1, AAAGTGACAGCAGGAT-1, AAATGGAGTTCTCCAC-1, AACAAAGAGTAAACGT-1, AACAAAGTCGGTCGAC-1, AACAAAGTCTTGGGCG-1, AACAACCAGAGGACTC-1, AACAACCAGCGGTAAC-1, AACAACCAGGTACAGC-1, AACAACCGTACTGCCG-1, AACAACCGTAGGAGTC-1, AACAACCTCCTCGATC-1, AACAAGAGTCCAGCAC-1, AACAAGATCCGATGCG-1, AACACACGTAGGAGGG-1, AACACACTCCTTCTAA-1, AACAGGGCAAGTGATA-1, AACAGGGTCACTGATG-1, AACCAACCATTGACTG-1, AACCAACGTGTCATTG-1, AACCAACTCTGCATAG-1, AACCACAGTGACTGTT-1, AACCACAGTTCTCTAT-1, AACCATGAGGCCTTCG-1, AACCATGAGGTCACTT-1, AACCATGAGTCAAGCG-1, AACCATGCATAATGAG-1, AACCATGTCGGCCTTT-1, AACCTGACACAACCGC-1, AACCTGAGTCCAAGAG-1, AACCTTTAGTCGCTAT-1, AACCTTTTCTGAGATC-1, AACGAAAAGAGGTGCT-1, AACGAAAAGCTATCCA-1, AACGAAATCGCAGTCG-1, AACGGGAAGCATTTGC-1, AACGGGACAACAAAGT-1, AACGGGATCATTTCGT-1, AACGTCAAGATGTAGT-1, AACGTCAAGTAGTCAA-1, AACGTCAAGTCCTGTA-1, AACTTCTAGGGAGGGT-1, AACTTCTGTCCTGTCT-1, AACTTCTTCATGGAGG-1, AACTTCTTCTCTTGCG-1, AAGAACAGTAGCGTTT-1, AAGAACATCTGTAAGC-1, AAGACAACATCGTGCG-1, AAGACAAGTACGCGTC-1, AAGACAAGTATAATGG-1, AAGACAATCCTTCGAC-1, AAGACTCAGCTTTCTT-1, AAGACTCCACTCTGCT-1, AAGATAGAGGCTTAAA-1, AAGATAGCAATGTCAC-1, AAGATAGGTTGTCCCT-1, AAGCATCAGTGATCGG-1, AAGCATCCAAGGTCTT-1, AAGCATCGTGTCGATT-1, AAGCCATCAGTGCCTG-1, AAGCCATGTAGATTAG-1, AAGCCATTCTGTCGTC-1, AAGCCATTCTTCGCTG-1, AAGCGAGCAATACCTG-1, AAGCGAGCAATCTAGC-1, AAGCGAGCAGTACTAC-1, AAGCGTTCAGACGCTC-1, AAGCGTTTCGTGGTAT-1, AAGCGTTTCTATTCGT-1, AAGGAATCAAAGCACG-1, AAGGAATTCGAGATGG-1, AAGGTAACACCATTCC-1, AAGTACCAGCCTGAAG-1, AAGTCGTGTCCAACGC-1, AAGTCGTGTCGTCGGT-1, AAGTCGTTCAGACTGT-1, AAGTCGTTCCCATACC-1, AAGTGAATCGGATTAC-1, AAGTTCGGTCCCGTGA-1, AATAGAGCATGAGAAT-1, AATAGAGTCCGAGGCT-1, ...]\n",
       "\n",
       "[11169 rows x 0 columns]"
      ]
     },
     "execution_count": 52,
     "metadata": {},
     "output_type": "execute_result"
    }
   ],
   "source": [
    "ad.concat([adatas['CYG_CSF_'], adatas['CYG_PBMC_']]).obs"
   ]
  },
  {
   "cell_type": "code",
   "execution_count": 56,
   "metadata": {},
   "outputs": [
    {
     "name": "stderr",
     "output_type": "stream",
     "text": [
      "/Users/nicolapitzalis/anaconda3/envs/chl/lib/python3.9/site-packages/anndata/_core/anndata.py:1818: UserWarning: Observation names are not unique. To make them unique, call `.obs_names_make_unique`.\n",
      "  utils.warn_names_duplicates(\"obs\")\n"
     ]
    }
   ],
   "source": [
    "a = ad.concat([adatas['CYG_CSF_'], adatas['CYG_PBMC_']])"
   ]
  },
  {
   "cell_type": "code",
   "execution_count": 58,
   "metadata": {},
   "outputs": [],
   "source": [
    "a.obs_names_make_unique()"
   ]
  },
  {
   "cell_type": "code",
   "execution_count": 59,
   "metadata": {},
   "outputs": [
    {
     "data": {
      "text/html": [
       "<div>\n",
       "<style scoped>\n",
       "    .dataframe tbody tr th:only-of-type {\n",
       "        vertical-align: middle;\n",
       "    }\n",
       "\n",
       "    .dataframe tbody tr th {\n",
       "        vertical-align: top;\n",
       "    }\n",
       "\n",
       "    .dataframe thead th {\n",
       "        text-align: right;\n",
       "    }\n",
       "</style>\n",
       "<table border=\"1\" class=\"dataframe\">\n",
       "  <thead>\n",
       "    <tr style=\"text-align: right;\">\n",
       "      <th></th>\n",
       "    </tr>\n",
       "  </thead>\n",
       "  <tbody>\n",
       "    <tr>\n",
       "      <th>AAACCCACAAGACCGA-1</th>\n",
       "    </tr>\n",
       "    <tr>\n",
       "      <th>AAACCCACACGGCACT-1</th>\n",
       "    </tr>\n",
       "    <tr>\n",
       "      <th>AAACCCATCAGAATAG-1</th>\n",
       "    </tr>\n",
       "    <tr>\n",
       "      <th>AAACGAAAGGTAAAGG-1</th>\n",
       "    </tr>\n",
       "    <tr>\n",
       "      <th>AAACGAACACAGCCAC-1</th>\n",
       "    </tr>\n",
       "    <tr>\n",
       "      <th>...</th>\n",
       "    </tr>\n",
       "    <tr>\n",
       "      <th>TTTGTTGCAAGTGCAG-1</th>\n",
       "    </tr>\n",
       "    <tr>\n",
       "      <th>TTTGTTGGTCAACCAT-1</th>\n",
       "    </tr>\n",
       "    <tr>\n",
       "      <th>TTTGTTGGTGTGATGG-1</th>\n",
       "    </tr>\n",
       "    <tr>\n",
       "      <th>TTTGTTGGTTGGCCTG-1</th>\n",
       "    </tr>\n",
       "    <tr>\n",
       "      <th>TTTGTTGTCGTGGACC-1</th>\n",
       "    </tr>\n",
       "  </tbody>\n",
       "</table>\n",
       "<p>11169 rows × 0 columns</p>\n",
       "</div>"
      ],
      "text/plain": [
       "Empty DataFrame\n",
       "Columns: []\n",
       "Index: [AAACCCACAAGACCGA-1, AAACCCACACGGCACT-1, AAACCCATCAGAATAG-1, AAACGAAAGGTAAAGG-1, AAACGAACACAGCCAC-1, AAACGAATCACTCCGT-1, AAACGCTTCAGCTGTA-1, AAAGAACAGCGACTGA-1, AAAGGATGTAGCTTAC-1, AAAGGATGTATCCTCC-1, AAAGGATGTTACTCAG-1, AAAGGGCTCGAGGCAA-1, AAAGGTACAGCTGTCG-1, AAAGGTACATGGGAAC-1, AAAGTCCAGAGTGAAG-1, AAAGTCCAGGTCACAG-1, AAAGTCCGTGTTGATC-1, AAAGTGAAGCGAATGC-1, AAAGTGAAGCGTGTCC-1, AAAGTGACACCAGCTG-1, AAAGTGACAGCAGGAT-1, AAATGGAGTTCTCCAC-1, AACAAAGAGTAAACGT-1, AACAAAGTCGGTCGAC-1, AACAAAGTCTTGGGCG-1, AACAACCAGAGGACTC-1, AACAACCAGCGGTAAC-1, AACAACCAGGTACAGC-1, AACAACCGTACTGCCG-1, AACAACCGTAGGAGTC-1, AACAACCTCCTCGATC-1, AACAAGAGTCCAGCAC-1, AACAAGATCCGATGCG-1, AACACACGTAGGAGGG-1, AACACACTCCTTCTAA-1, AACAGGGCAAGTGATA-1, AACAGGGTCACTGATG-1, AACCAACCATTGACTG-1, AACCAACGTGTCATTG-1, AACCAACTCTGCATAG-1, AACCACAGTGACTGTT-1, AACCACAGTTCTCTAT-1, AACCATGAGGCCTTCG-1, AACCATGAGGTCACTT-1, AACCATGAGTCAAGCG-1, AACCATGCATAATGAG-1, AACCATGTCGGCCTTT-1, AACCTGACACAACCGC-1, AACCTGAGTCCAAGAG-1, AACCTTTAGTCGCTAT-1, AACCTTTTCTGAGATC-1, AACGAAAAGAGGTGCT-1, AACGAAAAGCTATCCA-1, AACGAAATCGCAGTCG-1, AACGGGAAGCATTTGC-1, AACGGGACAACAAAGT-1, AACGGGATCATTTCGT-1, AACGTCAAGATGTAGT-1, AACGTCAAGTAGTCAA-1, AACGTCAAGTCCTGTA-1, AACTTCTAGGGAGGGT-1, AACTTCTGTCCTGTCT-1, AACTTCTTCATGGAGG-1, AACTTCTTCTCTTGCG-1, AAGAACAGTAGCGTTT-1, AAGAACATCTGTAAGC-1, AAGACAACATCGTGCG-1, AAGACAAGTACGCGTC-1, AAGACAAGTATAATGG-1, AAGACAATCCTTCGAC-1, AAGACTCAGCTTTCTT-1, AAGACTCCACTCTGCT-1, AAGATAGAGGCTTAAA-1, AAGATAGCAATGTCAC-1, AAGATAGGTTGTCCCT-1, AAGCATCAGTGATCGG-1, AAGCATCCAAGGTCTT-1, AAGCATCGTGTCGATT-1, AAGCCATCAGTGCCTG-1, AAGCCATGTAGATTAG-1, AAGCCATTCTGTCGTC-1, AAGCCATTCTTCGCTG-1, AAGCGAGCAATACCTG-1, AAGCGAGCAATCTAGC-1, AAGCGAGCAGTACTAC-1, AAGCGTTCAGACGCTC-1, AAGCGTTTCGTGGTAT-1, AAGCGTTTCTATTCGT-1, AAGGAATCAAAGCACG-1, AAGGAATTCGAGATGG-1, AAGGTAACACCATTCC-1, AAGTACCAGCCTGAAG-1, AAGTCGTGTCCAACGC-1, AAGTCGTGTCGTCGGT-1, AAGTCGTTCAGACTGT-1, AAGTCGTTCCCATACC-1, AAGTGAATCGGATTAC-1, AAGTTCGGTCCCGTGA-1, AATAGAGCATGAGAAT-1, AATAGAGTCCGAGGCT-1, ...]\n",
       "\n",
       "[11169 rows x 0 columns]"
      ]
     },
     "execution_count": 59,
     "metadata": {},
     "output_type": "execute_result"
    }
   ],
   "source": [
    "a.obs"
   ]
  },
  {
   "cell_type": "code",
   "execution_count": null,
   "metadata": {},
   "outputs": [],
   "source": []
  }
 ],
 "metadata": {
  "kernelspec": {
   "display_name": "chl",
   "language": "python",
   "name": "python3"
  },
  "language_info": {
   "codemirror_mode": {
    "name": "ipython",
    "version": 3
   },
   "file_extension": ".py",
   "mimetype": "text/x-python",
   "name": "python",
   "nbconvert_exporter": "python",
   "pygments_lexer": "ipython3",
   "version": "3.9.19"
  }
 },
 "nbformat": 4,
 "nbformat_minor": 2
}
