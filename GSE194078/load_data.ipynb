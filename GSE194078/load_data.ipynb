{
 "cells": [
  {
   "cell_type": "code",
   "execution_count": 1,
   "metadata": {},
   "outputs": [
    {
     "name": "stderr",
     "output_type": "stream",
     "text": [
      "c:\\Users\\giuli\\anaconda3\\lib\\site-packages\\pandas\\core\\arrays\\masked.py:60: UserWarning: Pandas requires version '1.3.6' or newer of 'bottleneck' (version '1.3.5' currently installed).\n",
      "  from pandas.core import (\n"
     ]
    }
   ],
   "source": [
    "import scanpy as sc\n",
    "import pandas as pd\n",
    "import numpy as np"
   ]
  },
  {
   "cell_type": "code",
   "execution_count": 2,
   "metadata": {},
   "outputs": [],
   "source": [
    "with open('matrix_list.txt', 'r') as file:\n",
    "    content = file.read()"
   ]
  },
  {
   "cell_type": "code",
   "execution_count": 3,
   "metadata": {},
   "outputs": [],
   "source": [
    "content_list = content.split(\"\\n\")\n",
    "grouped_list = [content_list[i:i+3] for i in range(0, len(content_list), 3)]"
   ]
  },
  {
   "cell_type": "code",
   "execution_count": 4,
   "metadata": {},
   "outputs": [],
   "source": [
    "samples_prefixes = [sample[0].split(\"_\")[1] for sample in grouped_list[::2]]"
   ]
  },
  {
   "cell_type": "code",
   "execution_count": 5,
   "metadata": {},
   "outputs": [],
   "source": [
    "samples_prefixes = [f'{sample}_CSF_' for sample in samples_prefixes] + [f'{sample}_PBMC_' for sample in samples_prefixes]"
   ]
  },
  {
   "cell_type": "code",
   "execution_count": 6,
   "metadata": {},
   "outputs": [],
   "source": [
    "patients = [sample[0].split(\"_\")[0] for sample in grouped_list[::1]]"
   ]
  },
  {
   "cell_type": "code",
   "execution_count": 7,
   "metadata": {},
   "outputs": [
    {
     "data": {
      "text/plain": [
       "22"
      ]
     },
     "execution_count": 7,
     "metadata": {},
     "output_type": "execute_result"
    }
   ],
   "source": [
    "len(samples_prefixes)"
   ]
  },
  {
   "cell_type": "code",
   "execution_count": 8,
   "metadata": {},
   "outputs": [],
   "source": [
    "adatas = {}\n",
    "for (barcode, feature, matrix), prefix in zip(grouped_list, samples_prefixes):\n",
    "    adatas[prefix] = sc.read_10x_mtx(\n",
    "        '../GSE194078/MTX',\n",
    "        var_names='gene_symbols',\n",
    "        gex_only=False,\n",
    "        cache=True,\n",
    "        prefix=prefix)"
   ]
  },
  {
   "cell_type": "code",
   "execution_count": 9,
   "metadata": {},
   "outputs": [
    {
     "data": {
      "text/plain": [
       "['CYG_CSF_',\n",
       " 'JSB_CSF_',\n",
       " 'JYJ_CSF_',\n",
       " 'KHW_CSF_',\n",
       " 'KJS_CSF_',\n",
       " 'KSH_CSF_',\n",
       " 'KYO_CSF_',\n",
       " 'SYG_CSF_',\n",
       " 'YYJ_CSF_',\n",
       " 'YYS_CSF_',\n",
       " 'YYW_CSF_',\n",
       " 'CYG_PBMC_',\n",
       " 'JSB_PBMC_',\n",
       " 'JYJ_PBMC_',\n",
       " 'KHW_PBMC_',\n",
       " 'KJS_PBMC_',\n",
       " 'KSH_PBMC_',\n",
       " 'KYO_PBMC_',\n",
       " 'SYG_PBMC_',\n",
       " 'YYJ_PBMC_',\n",
       " 'YYS_PBMC_',\n",
       " 'YYW_PBMC_']"
      ]
     },
     "execution_count": 9,
     "metadata": {},
     "output_type": "execute_result"
    }
   ],
   "source": [
    "samples_prefixes"
   ]
  },
  {
   "cell_type": "code",
   "execution_count": 10,
   "metadata": {},
   "outputs": [],
   "source": [
    "disease_dict = {\n",
    "    'CYG': 'Ab-mediated IDD',\n",
    "    'JSB': 'Normal',\n",
    "    'JYJ': 'MS',\n",
    "    'KHW': 'Ab-mediated IDD',\n",
    "    'KJS': 'MS',\n",
    "    'KSH': 'Ab-mediated IDD',\n",
    "    'KYO': 'Normal',\n",
    "    'SYG': 'Ab-mediated IDD',\n",
    "    'YYJ': 'Ab-mediated IDD',\n",
    "    'YYS': 'Ab-mediated IDD',\n",
    "    'YYW': 'MS'\n",
    "}"
   ]
  },
  {
   "cell_type": "code",
   "execution_count": 11,
   "metadata": {},
   "outputs": [
    {
     "name": "stderr",
     "output_type": "stream",
     "text": [
      "C:\\Users\\giuli\\AppData\\Local\\Temp\\ipykernel_21416\\4271032471.py:13: FutureWarning: Use anndata.concat instead of AnnData.concatenate, AnnData.concatenate is deprecated and will be removed in the future. See the tutorial for concat at: https://anndata.readthedocs.io/en/latest/concatenation.html\n",
      "  csf_adata = csf_adata.concatenate(adata, join='outer', index_unique=None)\n",
      "C:\\Users\\giuli\\AppData\\Local\\Temp\\ipykernel_21416\\4271032471.py:13: FutureWarning: Use anndata.concat instead of AnnData.concatenate, AnnData.concatenate is deprecated and will be removed in the future. See the tutorial for concat at: https://anndata.readthedocs.io/en/latest/concatenation.html\n",
      "  csf_adata = csf_adata.concatenate(adata, join='outer', index_unique=None)\n",
      "C:\\Users\\giuli\\AppData\\Local\\Temp\\ipykernel_21416\\4271032471.py:13: FutureWarning: Use anndata.concat instead of AnnData.concatenate, AnnData.concatenate is deprecated and will be removed in the future. See the tutorial for concat at: https://anndata.readthedocs.io/en/latest/concatenation.html\n",
      "  csf_adata = csf_adata.concatenate(adata, join='outer', index_unique=None)\n",
      "C:\\Users\\giuli\\AppData\\Local\\Temp\\ipykernel_21416\\4271032471.py:13: FutureWarning: Use anndata.concat instead of AnnData.concatenate, AnnData.concatenate is deprecated and will be removed in the future. See the tutorial for concat at: https://anndata.readthedocs.io/en/latest/concatenation.html\n",
      "  csf_adata = csf_adata.concatenate(adata, join='outer', index_unique=None)\n",
      "C:\\Users\\giuli\\AppData\\Local\\Temp\\ipykernel_21416\\4271032471.py:13: FutureWarning: Use anndata.concat instead of AnnData.concatenate, AnnData.concatenate is deprecated and will be removed in the future. See the tutorial for concat at: https://anndata.readthedocs.io/en/latest/concatenation.html\n",
      "  csf_adata = csf_adata.concatenate(adata, join='outer', index_unique=None)\n",
      "C:\\Users\\giuli\\AppData\\Local\\Temp\\ipykernel_21416\\4271032471.py:13: FutureWarning: Use anndata.concat instead of AnnData.concatenate, AnnData.concatenate is deprecated and will be removed in the future. See the tutorial for concat at: https://anndata.readthedocs.io/en/latest/concatenation.html\n",
      "  csf_adata = csf_adata.concatenate(adata, join='outer', index_unique=None)\n",
      "C:\\Users\\giuli\\AppData\\Local\\Temp\\ipykernel_21416\\4271032471.py:13: FutureWarning: Use anndata.concat instead of AnnData.concatenate, AnnData.concatenate is deprecated and will be removed in the future. See the tutorial for concat at: https://anndata.readthedocs.io/en/latest/concatenation.html\n",
      "  csf_adata = csf_adata.concatenate(adata, join='outer', index_unique=None)\n",
      "C:\\Users\\giuli\\AppData\\Local\\Temp\\ipykernel_21416\\4271032471.py:13: FutureWarning: Use anndata.concat instead of AnnData.concatenate, AnnData.concatenate is deprecated and will be removed in the future. See the tutorial for concat at: https://anndata.readthedocs.io/en/latest/concatenation.html\n",
      "  csf_adata = csf_adata.concatenate(adata, join='outer', index_unique=None)\n",
      "C:\\Users\\giuli\\AppData\\Local\\Temp\\ipykernel_21416\\4271032471.py:13: FutureWarning: Use anndata.concat instead of AnnData.concatenate, AnnData.concatenate is deprecated and will be removed in the future. See the tutorial for concat at: https://anndata.readthedocs.io/en/latest/concatenation.html\n",
      "  csf_adata = csf_adata.concatenate(adata, join='outer', index_unique=None)\n",
      "C:\\Users\\giuli\\AppData\\Local\\Temp\\ipykernel_21416\\4271032471.py:13: FutureWarning: Use anndata.concat instead of AnnData.concatenate, AnnData.concatenate is deprecated and will be removed in the future. See the tutorial for concat at: https://anndata.readthedocs.io/en/latest/concatenation.html\n",
      "  csf_adata = csf_adata.concatenate(adata, join='outer', index_unique=None)\n"
     ]
    }
   ],
   "source": [
    "csf_adata = adatas[samples_prefixes[0]]\n",
    "csf_adata.obs['patient'] = patients[0]\n",
    "csf_adata.obs['patient_id'] = samples_prefixes[0].split(\"_\")[0]\n",
    "csf_adata.obs['disease'] = disease_dict[samples_prefixes[0].split(\"_\")[0]]\n",
    "\n",
    "for i, prefix in enumerate(samples_prefixes[1:11]):\n",
    "    adata = adatas[prefix]\n",
    "    adata.obs.index = adata.obs.index.str[:-1] + str(i+2)\n",
    "    adata.var_names_make_unique()\n",
    "    adata.obs['patient'] = patients[i+1]\n",
    "    adata.obs['patient_id'] = prefix.split(\"_\")[0]\n",
    "    adata.obs['disease'] = disease_dict[prefix.split(\"_\")[0]]\n",
    "    csf_adata = csf_adata.concatenate(adata, join='outer', index_unique=None)\n",
    "    \n",
    "csf_adata.obs['dataset'] = 'GSE194078'\n",
    "csf_adata.obs['cell_types'] = 'CSF'"
   ]
  },
  {
   "cell_type": "code",
   "execution_count": 12,
   "metadata": {},
   "outputs": [
    {
     "data": {
      "text/plain": [
       "AnnData object with n_obs × n_vars = 48662 × 36601\n",
       "    obs: 'patient', 'patient_id', 'disease', 'batch', 'dataset', 'cell_types'\n",
       "    var: 'gene_ids', 'feature_types'"
      ]
     },
     "execution_count": 12,
     "metadata": {},
     "output_type": "execute_result"
    }
   ],
   "source": [
    "csf_adata"
   ]
  },
  {
   "cell_type": "code",
   "execution_count": 13,
   "metadata": {},
   "outputs": [
    {
     "data": {
      "text/plain": [
       "MIR1302-2HG    Gene Expression\n",
       "FAM138A        Gene Expression\n",
       "OR4F5          Gene Expression\n",
       "AL627309.1     Gene Expression\n",
       "AL627309.3     Gene Expression\n",
       "                    ...       \n",
       "AC141272.1     Gene Expression\n",
       "AC023491.2     Gene Expression\n",
       "AC007325.1     Gene Expression\n",
       "AC007325.4     Gene Expression\n",
       "AC007325.2     Gene Expression\n",
       "Name: feature_types, Length: 36601, dtype: object"
      ]
     },
     "execution_count": 13,
     "metadata": {},
     "output_type": "execute_result"
    }
   ],
   "source": [
    "csf_adata.var['feature_types']"
   ]
  },
  {
   "cell_type": "code",
   "execution_count": 14,
   "metadata": {},
   "outputs": [
    {
     "data": {
      "text/plain": [
       "<48662x36601 sparse matrix of type '<class 'numpy.float32'>'\n",
       "\twith 100791460 stored elements in Compressed Sparse Row format>"
      ]
     },
     "execution_count": 14,
     "metadata": {},
     "output_type": "execute_result"
    }
   ],
   "source": [
    "csf_adata.X"
   ]
  },
  {
   "cell_type": "code",
   "execution_count": 16,
   "metadata": {},
   "outputs": [
    {
     "name": "stderr",
     "output_type": "stream",
     "text": [
      "C:\\Users\\giuli\\AppData\\Local\\Temp\\ipykernel_21416\\1782399998.py:12: FutureWarning: Use anndata.concat instead of AnnData.concatenate, AnnData.concatenate is deprecated and will be removed in the future. See the tutorial for concat at: https://anndata.readthedocs.io/en/latest/concatenation.html\n",
      "  pbmc_adata = csf_adata.concatenate(adata, join='outer', index_unique=None)\n",
      "C:\\Users\\giuli\\AppData\\Local\\Temp\\ipykernel_21416\\1782399998.py:12: FutureWarning: Use anndata.concat instead of AnnData.concatenate, AnnData.concatenate is deprecated and will be removed in the future. See the tutorial for concat at: https://anndata.readthedocs.io/en/latest/concatenation.html\n",
      "  pbmc_adata = csf_adata.concatenate(adata, join='outer', index_unique=None)\n",
      "c:\\Users\\giuli\\anaconda3\\lib\\site-packages\\anndata\\_core\\anndata.py:1818: UserWarning: Observation names are not unique. To make them unique, call `.obs_names_make_unique`.\n",
      "  utils.warn_names_duplicates(\"obs\")\n",
      "c:\\Users\\giuli\\anaconda3\\lib\\site-packages\\anndata\\_core\\anndata.py:1818: UserWarning: Observation names are not unique. To make them unique, call `.obs_names_make_unique`.\n",
      "  utils.warn_names_duplicates(\"obs\")\n",
      "C:\\Users\\giuli\\AppData\\Local\\Temp\\ipykernel_21416\\1782399998.py:12: FutureWarning: Use anndata.concat instead of AnnData.concatenate, AnnData.concatenate is deprecated and will be removed in the future. See the tutorial for concat at: https://anndata.readthedocs.io/en/latest/concatenation.html\n",
      "  pbmc_adata = csf_adata.concatenate(adata, join='outer', index_unique=None)\n",
      "c:\\Users\\giuli\\anaconda3\\lib\\site-packages\\anndata\\_core\\anndata.py:1818: UserWarning: Observation names are not unique. To make them unique, call `.obs_names_make_unique`.\n",
      "  utils.warn_names_duplicates(\"obs\")\n",
      "c:\\Users\\giuli\\anaconda3\\lib\\site-packages\\anndata\\_core\\anndata.py:1818: UserWarning: Observation names are not unique. To make them unique, call `.obs_names_make_unique`.\n",
      "  utils.warn_names_duplicates(\"obs\")\n",
      "C:\\Users\\giuli\\AppData\\Local\\Temp\\ipykernel_21416\\1782399998.py:12: FutureWarning: Use anndata.concat instead of AnnData.concatenate, AnnData.concatenate is deprecated and will be removed in the future. See the tutorial for concat at: https://anndata.readthedocs.io/en/latest/concatenation.html\n",
      "  pbmc_adata = csf_adata.concatenate(adata, join='outer', index_unique=None)\n",
      "c:\\Users\\giuli\\anaconda3\\lib\\site-packages\\anndata\\_core\\anndata.py:1818: UserWarning: Observation names are not unique. To make them unique, call `.obs_names_make_unique`.\n",
      "  utils.warn_names_duplicates(\"obs\")\n",
      "c:\\Users\\giuli\\anaconda3\\lib\\site-packages\\anndata\\_core\\anndata.py:1818: UserWarning: Observation names are not unique. To make them unique, call `.obs_names_make_unique`.\n",
      "  utils.warn_names_duplicates(\"obs\")\n",
      "C:\\Users\\giuli\\AppData\\Local\\Temp\\ipykernel_21416\\1782399998.py:12: FutureWarning: Use anndata.concat instead of AnnData.concatenate, AnnData.concatenate is deprecated and will be removed in the future. See the tutorial for concat at: https://anndata.readthedocs.io/en/latest/concatenation.html\n",
      "  pbmc_adata = csf_adata.concatenate(adata, join='outer', index_unique=None)\n",
      "c:\\Users\\giuli\\anaconda3\\lib\\site-packages\\anndata\\_core\\anndata.py:1818: UserWarning: Observation names are not unique. To make them unique, call `.obs_names_make_unique`.\n",
      "  utils.warn_names_duplicates(\"obs\")\n",
      "c:\\Users\\giuli\\anaconda3\\lib\\site-packages\\anndata\\_core\\anndata.py:1818: UserWarning: Observation names are not unique. To make them unique, call `.obs_names_make_unique`.\n",
      "  utils.warn_names_duplicates(\"obs\")\n",
      "C:\\Users\\giuli\\AppData\\Local\\Temp\\ipykernel_21416\\1782399998.py:12: FutureWarning: Use anndata.concat instead of AnnData.concatenate, AnnData.concatenate is deprecated and will be removed in the future. See the tutorial for concat at: https://anndata.readthedocs.io/en/latest/concatenation.html\n",
      "  pbmc_adata = csf_adata.concatenate(adata, join='outer', index_unique=None)\n",
      "c:\\Users\\giuli\\anaconda3\\lib\\site-packages\\anndata\\_core\\anndata.py:1818: UserWarning: Observation names are not unique. To make them unique, call `.obs_names_make_unique`.\n",
      "  utils.warn_names_duplicates(\"obs\")\n",
      "c:\\Users\\giuli\\anaconda3\\lib\\site-packages\\anndata\\_core\\anndata.py:1818: UserWarning: Observation names are not unique. To make them unique, call `.obs_names_make_unique`.\n",
      "  utils.warn_names_duplicates(\"obs\")\n",
      "C:\\Users\\giuli\\AppData\\Local\\Temp\\ipykernel_21416\\1782399998.py:12: FutureWarning: Use anndata.concat instead of AnnData.concatenate, AnnData.concatenate is deprecated and will be removed in the future. See the tutorial for concat at: https://anndata.readthedocs.io/en/latest/concatenation.html\n",
      "  pbmc_adata = csf_adata.concatenate(adata, join='outer', index_unique=None)\n",
      "c:\\Users\\giuli\\anaconda3\\lib\\site-packages\\anndata\\_core\\anndata.py:1818: UserWarning: Observation names are not unique. To make them unique, call `.obs_names_make_unique`.\n",
      "  utils.warn_names_duplicates(\"obs\")\n",
      "c:\\Users\\giuli\\anaconda3\\lib\\site-packages\\anndata\\_core\\anndata.py:1818: UserWarning: Observation names are not unique. To make them unique, call `.obs_names_make_unique`.\n",
      "  utils.warn_names_duplicates(\"obs\")\n",
      "C:\\Users\\giuli\\AppData\\Local\\Temp\\ipykernel_21416\\1782399998.py:12: FutureWarning: Use anndata.concat instead of AnnData.concatenate, AnnData.concatenate is deprecated and will be removed in the future. See the tutorial for concat at: https://anndata.readthedocs.io/en/latest/concatenation.html\n",
      "  pbmc_adata = csf_adata.concatenate(adata, join='outer', index_unique=None)\n",
      "c:\\Users\\giuli\\anaconda3\\lib\\site-packages\\anndata\\_core\\anndata.py:1818: UserWarning: Observation names are not unique. To make them unique, call `.obs_names_make_unique`.\n",
      "  utils.warn_names_duplicates(\"obs\")\n",
      "c:\\Users\\giuli\\anaconda3\\lib\\site-packages\\anndata\\_core\\anndata.py:1818: UserWarning: Observation names are not unique. To make them unique, call `.obs_names_make_unique`.\n",
      "  utils.warn_names_duplicates(\"obs\")\n",
      "C:\\Users\\giuli\\AppData\\Local\\Temp\\ipykernel_21416\\1782399998.py:12: FutureWarning: Use anndata.concat instead of AnnData.concatenate, AnnData.concatenate is deprecated and will be removed in the future. See the tutorial for concat at: https://anndata.readthedocs.io/en/latest/concatenation.html\n",
      "  pbmc_adata = csf_adata.concatenate(adata, join='outer', index_unique=None)\n",
      "c:\\Users\\giuli\\anaconda3\\lib\\site-packages\\anndata\\_core\\anndata.py:1818: UserWarning: Observation names are not unique. To make them unique, call `.obs_names_make_unique`.\n",
      "  utils.warn_names_duplicates(\"obs\")\n",
      "c:\\Users\\giuli\\anaconda3\\lib\\site-packages\\anndata\\_core\\anndata.py:1818: UserWarning: Observation names are not unique. To make them unique, call `.obs_names_make_unique`.\n",
      "  utils.warn_names_duplicates(\"obs\")\n",
      "C:\\Users\\giuli\\AppData\\Local\\Temp\\ipykernel_21416\\1782399998.py:12: FutureWarning: Use anndata.concat instead of AnnData.concatenate, AnnData.concatenate is deprecated and will be removed in the future. See the tutorial for concat at: https://anndata.readthedocs.io/en/latest/concatenation.html\n",
      "  pbmc_adata = csf_adata.concatenate(adata, join='outer', index_unique=None)\n",
      "c:\\Users\\giuli\\anaconda3\\lib\\site-packages\\anndata\\_core\\anndata.py:1818: UserWarning: Observation names are not unique. To make them unique, call `.obs_names_make_unique`.\n",
      "  utils.warn_names_duplicates(\"obs\")\n",
      "c:\\Users\\giuli\\anaconda3\\lib\\site-packages\\anndata\\_core\\anndata.py:1818: UserWarning: Observation names are not unique. To make them unique, call `.obs_names_make_unique`.\n",
      "  utils.warn_names_duplicates(\"obs\")\n",
      "C:\\Users\\giuli\\AppData\\Local\\Temp\\ipykernel_21416\\1782399998.py:12: FutureWarning: Use anndata.concat instead of AnnData.concatenate, AnnData.concatenate is deprecated and will be removed in the future. See the tutorial for concat at: https://anndata.readthedocs.io/en/latest/concatenation.html\n",
      "  pbmc_adata = csf_adata.concatenate(adata, join='outer', index_unique=None)\n",
      "c:\\Users\\giuli\\anaconda3\\lib\\site-packages\\anndata\\_core\\anndata.py:1818: UserWarning: Observation names are not unique. To make them unique, call `.obs_names_make_unique`.\n",
      "  utils.warn_names_duplicates(\"obs\")\n",
      "c:\\Users\\giuli\\anaconda3\\lib\\site-packages\\anndata\\_core\\anndata.py:1818: UserWarning: Observation names are not unique. To make them unique, call `.obs_names_make_unique`.\n",
      "  utils.warn_names_duplicates(\"obs\")\n"
     ]
    }
   ],
   "source": [
    "pbmc_adata = adatas[samples_prefixes[11]]\n",
    "pbmc_adata.obs['patient'] = patients[11]\n",
    "pbmc_adata.obs['patient_id'] = samples_prefixes[11].split(\"_\")[0]\n",
    "pbmc_adata.obs['disease'] = disease_dict[samples_prefixes[11].split(\"_\")[0]]\n",
    "\n",
    "for prefix in samples_prefixes[11:]:\n",
    "    adata = adatas[prefix]\n",
    "    adata.obs.index = adata.obs.index.str[:-1] + str(i+2)\n",
    "    adata.var_names_make_unique()\n",
    "    adata.obs['patient'] = patients[11+i]\n",
    "    adata.obs['disease'] = prefix.split(\"_\")[0]\n",
    "    pbmc_adata = csf_adata.concatenate(adata, join='outer', index_unique=None)\n",
    "\n",
    "pbmc_adata.obs['dataset'] = 'GSE194078'\n",
    "pbmc_adata.obs['cell_types'] = 'PBMC'"
   ]
  },
  {
   "cell_type": "code",
   "execution_count": 17,
   "metadata": {},
   "outputs": [
    {
     "data": {
      "text/plain": [
       "AnnData object with n_obs × n_vars = 61903 × 36601\n",
       "    obs: 'patient', 'patient_id', 'disease', 'batch', 'dataset', 'cell_types'\n",
       "    var: 'gene_ids', 'feature_types'"
      ]
     },
     "execution_count": 17,
     "metadata": {},
     "output_type": "execute_result"
    }
   ],
   "source": [
    "pbmc_adata"
   ]
  },
  {
   "cell_type": "code",
   "execution_count": 18,
   "metadata": {},
   "outputs": [
    {
     "data": {
      "text/plain": [
       "36601"
      ]
     },
     "execution_count": 18,
     "metadata": {},
     "output_type": "execute_result"
    }
   ],
   "source": [
    "sum(csf_adata.var.index == pbmc_adata.var.index) # over 36601"
   ]
  },
  {
   "cell_type": "code",
   "execution_count": 19,
   "metadata": {},
   "outputs": [],
   "source": [
    "pbmc_adata.var_names_make_unique()\n",
    "csf_adata.var_names_make_unique()"
   ]
  },
  {
   "cell_type": "code",
   "execution_count": 20,
   "metadata": {},
   "outputs": [],
   "source": [
    "pbmc_adata.obs.index = pbmc_adata.obs.index + '-PBMC'\n",
    "csf_adata.obs.index = csf_adata.obs.index + '-CSF'"
   ]
  },
  {
   "cell_type": "code",
   "execution_count": 21,
   "metadata": {},
   "outputs": [
    {
     "name": "stderr",
     "output_type": "stream",
     "text": [
      "C:\\Users\\giuli\\AppData\\Local\\Temp\\ipykernel_21416\\1302245356.py:1: FutureWarning: Use anndata.concat instead of AnnData.concatenate, AnnData.concatenate is deprecated and will be removed in the future. See the tutorial for concat at: https://anndata.readthedocs.io/en/latest/concatenation.html\n",
      "  adata = pbmc_adata.concatenate(csf_adata, join='outer', index_unique=None)\n",
      "c:\\Users\\giuli\\anaconda3\\lib\\site-packages\\anndata\\_core\\anndata.py:1818: UserWarning: Observation names are not unique. To make them unique, call `.obs_names_make_unique`.\n",
      "  utils.warn_names_duplicates(\"obs\")\n",
      "c:\\Users\\giuli\\anaconda3\\lib\\site-packages\\anndata\\_core\\anndata.py:1818: UserWarning: Observation names are not unique. To make them unique, call `.obs_names_make_unique`.\n",
      "  utils.warn_names_duplicates(\"obs\")\n",
      "c:\\Users\\giuli\\anaconda3\\lib\\site-packages\\anndata\\_core\\anndata.py:1818: UserWarning: Observation names are not unique. To make them unique, call `.obs_names_make_unique`.\n",
      "  utils.warn_names_duplicates(\"obs\")\n"
     ]
    }
   ],
   "source": [
    "adata = pbmc_adata.concatenate(csf_adata, join='outer', index_unique=None)\n",
    "adata.obs_names_make_unique()"
   ]
  },
  {
   "cell_type": "code",
   "execution_count": 22,
   "metadata": {},
   "outputs": [
    {
     "data": {
      "text/html": [
       "<div>\n",
       "<style scoped>\n",
       "    .dataframe tbody tr th:only-of-type {\n",
       "        vertical-align: middle;\n",
       "    }\n",
       "\n",
       "    .dataframe tbody tr th {\n",
       "        vertical-align: top;\n",
       "    }\n",
       "\n",
       "    .dataframe thead th {\n",
       "        text-align: right;\n",
       "    }\n",
       "</style>\n",
       "<table border=\"1\" class=\"dataframe\">\n",
       "  <thead>\n",
       "    <tr style=\"text-align: right;\">\n",
       "      <th></th>\n",
       "      <th>patient</th>\n",
       "      <th>patient_id</th>\n",
       "      <th>disease</th>\n",
       "      <th>batch</th>\n",
       "      <th>dataset</th>\n",
       "      <th>cell_types</th>\n",
       "    </tr>\n",
       "  </thead>\n",
       "  <tbody>\n",
       "    <tr>\n",
       "      <th>AAACCCACAAGACCGA-1-PBMC</th>\n",
       "      <td>GSM5827375</td>\n",
       "      <td>CYG</td>\n",
       "      <td>Ab-mediated IDD</td>\n",
       "      <td>0</td>\n",
       "      <td>GSE194078</td>\n",
       "      <td>PBMC</td>\n",
       "    </tr>\n",
       "    <tr>\n",
       "      <th>AAACCCACACGGCACT-1-PBMC</th>\n",
       "      <td>GSM5827375</td>\n",
       "      <td>CYG</td>\n",
       "      <td>Ab-mediated IDD</td>\n",
       "      <td>0</td>\n",
       "      <td>GSE194078</td>\n",
       "      <td>PBMC</td>\n",
       "    </tr>\n",
       "    <tr>\n",
       "      <th>AAACCCATCAGAATAG-1-PBMC</th>\n",
       "      <td>GSM5827375</td>\n",
       "      <td>CYG</td>\n",
       "      <td>Ab-mediated IDD</td>\n",
       "      <td>0</td>\n",
       "      <td>GSE194078</td>\n",
       "      <td>PBMC</td>\n",
       "    </tr>\n",
       "    <tr>\n",
       "      <th>AAACGAAAGGTAAAGG-1-PBMC</th>\n",
       "      <td>GSM5827375</td>\n",
       "      <td>CYG</td>\n",
       "      <td>Ab-mediated IDD</td>\n",
       "      <td>0</td>\n",
       "      <td>GSE194078</td>\n",
       "      <td>PBMC</td>\n",
       "    </tr>\n",
       "    <tr>\n",
       "      <th>AAACGAACACAGCCAC-1-PBMC</th>\n",
       "      <td>GSM5827375</td>\n",
       "      <td>CYG</td>\n",
       "      <td>Ab-mediated IDD</td>\n",
       "      <td>0</td>\n",
       "      <td>GSE194078</td>\n",
       "      <td>PBMC</td>\n",
       "    </tr>\n",
       "    <tr>\n",
       "      <th>...</th>\n",
       "      <td>...</td>\n",
       "      <td>...</td>\n",
       "      <td>...</td>\n",
       "      <td>...</td>\n",
       "      <td>...</td>\n",
       "      <td>...</td>\n",
       "    </tr>\n",
       "    <tr>\n",
       "      <th>TTTGGTTGTGTTCAGT-11-CSF</th>\n",
       "      <td>GSM5827385</td>\n",
       "      <td>YYW</td>\n",
       "      <td>MS</td>\n",
       "      <td>1</td>\n",
       "      <td>GSE194078</td>\n",
       "      <td>CSF</td>\n",
       "    </tr>\n",
       "    <tr>\n",
       "      <th>TTTGGTTTCAAGAAAC-11-CSF</th>\n",
       "      <td>GSM5827385</td>\n",
       "      <td>YYW</td>\n",
       "      <td>MS</td>\n",
       "      <td>1</td>\n",
       "      <td>GSE194078</td>\n",
       "      <td>CSF</td>\n",
       "    </tr>\n",
       "    <tr>\n",
       "      <th>TTTGTTGGTATACCCA-11-CSF</th>\n",
       "      <td>GSM5827385</td>\n",
       "      <td>YYW</td>\n",
       "      <td>MS</td>\n",
       "      <td>1</td>\n",
       "      <td>GSE194078</td>\n",
       "      <td>CSF</td>\n",
       "    </tr>\n",
       "    <tr>\n",
       "      <th>TTTGTTGGTTATGACC-11-CSF</th>\n",
       "      <td>GSM5827385</td>\n",
       "      <td>YYW</td>\n",
       "      <td>MS</td>\n",
       "      <td>1</td>\n",
       "      <td>GSE194078</td>\n",
       "      <td>CSF</td>\n",
       "    </tr>\n",
       "    <tr>\n",
       "      <th>TTTGTTGTCTCCTGTG-11-CSF</th>\n",
       "      <td>GSM5827385</td>\n",
       "      <td>YYW</td>\n",
       "      <td>MS</td>\n",
       "      <td>1</td>\n",
       "      <td>GSE194078</td>\n",
       "      <td>CSF</td>\n",
       "    </tr>\n",
       "  </tbody>\n",
       "</table>\n",
       "<p>110565 rows × 6 columns</p>\n",
       "</div>"
      ],
      "text/plain": [
       "                            patient patient_id          disease batch  \\\n",
       "AAACCCACAAGACCGA-1-PBMC  GSM5827375        CYG  Ab-mediated IDD     0   \n",
       "AAACCCACACGGCACT-1-PBMC  GSM5827375        CYG  Ab-mediated IDD     0   \n",
       "AAACCCATCAGAATAG-1-PBMC  GSM5827375        CYG  Ab-mediated IDD     0   \n",
       "AAACGAAAGGTAAAGG-1-PBMC  GSM5827375        CYG  Ab-mediated IDD     0   \n",
       "AAACGAACACAGCCAC-1-PBMC  GSM5827375        CYG  Ab-mediated IDD     0   \n",
       "...                             ...        ...              ...   ...   \n",
       "TTTGGTTGTGTTCAGT-11-CSF  GSM5827385        YYW               MS     1   \n",
       "TTTGGTTTCAAGAAAC-11-CSF  GSM5827385        YYW               MS     1   \n",
       "TTTGTTGGTATACCCA-11-CSF  GSM5827385        YYW               MS     1   \n",
       "TTTGTTGGTTATGACC-11-CSF  GSM5827385        YYW               MS     1   \n",
       "TTTGTTGTCTCCTGTG-11-CSF  GSM5827385        YYW               MS     1   \n",
       "\n",
       "                           dataset cell_types  \n",
       "AAACCCACAAGACCGA-1-PBMC  GSE194078       PBMC  \n",
       "AAACCCACACGGCACT-1-PBMC  GSE194078       PBMC  \n",
       "AAACCCATCAGAATAG-1-PBMC  GSE194078       PBMC  \n",
       "AAACGAAAGGTAAAGG-1-PBMC  GSE194078       PBMC  \n",
       "AAACGAACACAGCCAC-1-PBMC  GSE194078       PBMC  \n",
       "...                            ...        ...  \n",
       "TTTGGTTGTGTTCAGT-11-CSF  GSE194078        CSF  \n",
       "TTTGGTTTCAAGAAAC-11-CSF  GSE194078        CSF  \n",
       "TTTGTTGGTATACCCA-11-CSF  GSE194078        CSF  \n",
       "TTTGTTGGTTATGACC-11-CSF  GSE194078        CSF  \n",
       "TTTGTTGTCTCCTGTG-11-CSF  GSE194078        CSF  \n",
       "\n",
       "[110565 rows x 6 columns]"
      ]
     },
     "execution_count": 22,
     "metadata": {},
     "output_type": "execute_result"
    }
   ],
   "source": [
    "adata.obs"
   ]
  },
  {
   "cell_type": "code",
   "execution_count": 23,
   "metadata": {},
   "outputs": [
    {
     "data": {
      "text/plain": [
       "<110565x36601 sparse matrix of type '<class 'numpy.float32'>'\n",
       "\twith 221207022 stored elements in Compressed Sparse Row format>"
      ]
     },
     "execution_count": 23,
     "metadata": {},
     "output_type": "execute_result"
    }
   ],
   "source": [
    "adata.X"
   ]
  },
  {
   "cell_type": "code",
   "execution_count": 24,
   "metadata": {},
   "outputs": [
    {
     "data": {
      "text/plain": [
       "AAACCCACAAGACCGA-1-PBMC    1\n",
       "CATTCCGGTATGCGTT-4-CSF     1\n",
       "CATTCCGGTAATGTGA-4-CSF     1\n",
       "CATTCCGGTAATGCTC-4-CSF     1\n",
       "CATTCCGCATGACTGT-4-CSF     1\n",
       "                          ..\n",
       "GGGCGTTAGATTGTGA-6-PBMC    1\n",
       "GGGCCATTCTGGCCGA-6-PBMC    1\n",
       "GGGCCATTCGAATGCT-6-PBMC    1\n",
       "GGGCCATTCCATCAGA-6-PBMC    1\n",
       "TTTGTTGTCTCCTGTG-11-CSF    1\n",
       "Name: count, Length: 110565, dtype: int64"
      ]
     },
     "execution_count": 24,
     "metadata": {},
     "output_type": "execute_result"
    }
   ],
   "source": [
    "adata.obs.index.value_counts() # make sure that the index is unique"
   ]
  },
  {
   "cell_type": "code",
   "execution_count": 25,
   "metadata": {},
   "outputs": [
    {
     "name": "stderr",
     "output_type": "stream",
     "text": [
      "C:\\Users\\giuli\\AppData\\Local\\Temp\\ipykernel_21416\\1487988141.py:1: UserWarning: Boolean Series key will be reindexed to match DataFrame index.\n",
      "  adata.obs[adata.obs.index.value_counts()>1].index.value_counts()\n"
     ]
    },
    {
     "data": {
      "text/plain": [
       "Series([], Name: count, dtype: int64)"
      ]
     },
     "execution_count": 25,
     "metadata": {},
     "output_type": "execute_result"
    }
   ],
   "source": [
    "adata.obs[adata.obs.index.value_counts()>1].index.value_counts()"
   ]
  },
  {
   "cell_type": "code",
   "execution_count": 26,
   "metadata": {},
   "outputs": [],
   "source": [
    "adata.write('GSE194078.h5ad')"
   ]
  }
 ],
 "metadata": {
  "kernelspec": {
   "display_name": "chl",
   "language": "python",
   "name": "python3"
  },
  "language_info": {
   "codemirror_mode": {
    "name": "ipython",
    "version": 3
   },
   "file_extension": ".py",
   "mimetype": "text/x-python",
   "name": "python",
   "nbconvert_exporter": "python",
   "pygments_lexer": "ipython3",
   "version": "3.10.9"
  }
 },
 "nbformat": 4,
 "nbformat_minor": 2
}
